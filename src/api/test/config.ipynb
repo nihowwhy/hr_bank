{
 "cells": [
  {
   "cell_type": "code",
   "execution_count": 7,
   "metadata": {},
   "outputs": [],
   "source": [
    "__file__ = '/Users/yichen/Desktop/hr_bank_20200123/hr_bank/src/api/test'"
   ]
  },
  {
   "cell_type": "code",
   "execution_count": 12,
   "metadata": {},
   "outputs": [
    {
     "name": "stdout",
     "output_type": "stream",
     "text": [
      ">>> Project Config= {'project_name': 'hr_bank_test', 'current_env': '', 'headers': {'User-Agent': 'Mozilla/5.0 (Windows NT 10.0; Win64; x64) AppleWebKit/537.36 (KHTML, like Gecko) Chrome/78.0.3904.87 Safari/537.36', 'Connection': 'keep-alive'}, 'use_proxy': False, 'proxy_ip': '', 'proxy_port': '', 'proxies': {}, 'project_dir': '/Users/yichen/Desktop/hr_bank_20200123/hr_bank', 'save_file_dir': '/Users/yichen/Desktop/hr_bank_20200123/hr_bank/data', 'logs_dir': '/Users/yichen/Desktop/hr_bank_20200123/hr_bank/logs/hr_bank_test'}\n"
     ]
    }
   ],
   "source": [
    "# -*- coding: utf-8 -*-\n",
    "import os\n",
    "import configparser\n",
    "\n",
    "\n",
    "PROJECT_NAME = 'hr_bank_test'\n",
    "\n",
    "\n",
    "# =================================================\n",
    "USE_PROXY = False                   # True or False\n",
    "# =================================================\n",
    "\n",
    "\n",
    "try:\n",
    "    # Default config paths\n",
    "    CURRENT_ENV_PATH = '/ods/analysis/CURRENT_ENV'\n",
    "    CONFIG_INI_PATH = '/ods/analysis/config.ini'\n",
    "    \n",
    "    # Read current environment\n",
    "    with open(CURRENT_ENV_PATH, 'r') as env:\n",
    "        CURRENT_ENV = env.read().replace('\\n', '')\n",
    "    \n",
    "    # Read config.ini\n",
    "    config_parser = configparser.ConfigParser()\n",
    "    config_parser.read(CONFIG_INI_PATH)\n",
    "    env_config = config_parser[CURRENT_ENV]\n",
    "    print(f'>>> using \"{CURRENT_ENV}\" config ...')\n",
    "    \n",
    "except:\n",
    "    CURRENT_ENV = ''\n",
    "    env_config = {}\n",
    "\n",
    "    \n",
    "# Directory\n",
    "project_config_path = os.path.abspath(__file__)\n",
    "project_config_dir = os.path.dirname(project_config_path)\n",
    "\n",
    "PROJECT_DIR = os.path.abspath(os.path.join(project_config_dir, '../..'))\n",
    "SAVE_FILE_DIR = os.path.join(PROJECT_DIR, 'data')\n",
    "LOGS_DIR = os.path.join(env_config.get('logs_dir', os.path.join(PROJECT_DIR, 'logs')), PROJECT_NAME)\n",
    "\n",
    "\n",
    "# Proxy\n",
    "PROXY_IP = env_config.get('proxy_ip', '')\n",
    "PROXY_PORT = env_config.get('proxy_port', '')\n",
    "PROXIES = {\n",
    "    'http': f'http://{PROXY_IP}:{PROXY_PORT}',\n",
    "    'https': f'https://{PROXY_IP}:{PROXY_PORT}',\n",
    "} if PROXY_IP and PROXY_PORT else {}\n",
    "\n",
    "\n",
    "# Headers\n",
    "HEADERS = {\n",
    "    'User-Agent': 'Mozilla/5.0 (Windows NT 10.0; Win64; x64) AppleWebKit/537.36 (KHTML, like Gecko) Chrome/78.0.3904.87 Safari/537.36',\n",
    "    'Connection': 'keep-alive'\n",
    "}\n",
    "\n",
    "\n",
    "# Project config\n",
    "config = {\n",
    "    'project_name': PROJECT_NAME,\n",
    "    'current_env': CURRENT_ENV,\n",
    "    'headers': HEADERS,\n",
    "    'use_proxy': USE_PROXY,\n",
    "    'proxy_ip': PROXY_IP,\n",
    "    'proxy_port': PROXY_PORT,\n",
    "    'proxies': PROXIES,\n",
    "    'project_dir': PROJECT_DIR,\n",
    "    'save_file_dir': SAVE_FILE_DIR,\n",
    "    'logs_dir': LOGS_DIR,\n",
    "}\n",
    "print(f'>>> Project Config= {config}')"
   ]
  },
  {
   "cell_type": "code",
   "execution_count": null,
   "metadata": {},
   "outputs": [],
   "source": []
  },
  {
   "cell_type": "code",
   "execution_count": null,
   "metadata": {},
   "outputs": [],
   "source": []
  }
 ],
 "metadata": {
  "kernelspec": {
   "display_name": "Python 3",
   "language": "python",
   "name": "python3"
  },
  "language_info": {
   "codemirror_mode": {
    "name": "ipython",
    "version": 3
   },
   "file_extension": ".py",
   "mimetype": "text/x-python",
   "name": "python",
   "nbconvert_exporter": "python",
   "pygments_lexer": "ipython3",
   "version": "3.7.0"
  }
 },
 "nbformat": 4,
 "nbformat_minor": 2
}
