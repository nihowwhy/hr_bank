{
 "cells": [
  {
   "cell_type": "code",
   "execution_count": 1,
   "metadata": {},
   "outputs": [],
   "source": [
    "import requests\n",
    "import re\n",
    "import unicodedata\n",
    "    \n",
    "    \n",
    "def join_list_of_dict_item(l: list, key: str):\n",
    "    ''' input:  l = [{\"name\": \"Ian\"}, {\"name\": \"Wang\"}]\n",
    "                key = 'name'\n",
    "        output: \"Ian、Wang\"\n",
    "    '''\n",
    "    dict_item_list = [d[key] for d in l]\n",
    "    return '、'.join(dict_item_list)\n",
    "\n",
    "\n",
    "def join_list_of_element(l: list) -> str:\n",
    "    ''' input:  [\"A\", \"B\", \"C\"]\n",
    "        output: \"A、B、C\"\n",
    "    '''\n",
    "    return '、'.join(l)\n",
    "\n",
    "\n",
    "\n",
    "def convert_full_width_to_half_width(text: str) -> str:\n",
    "    ''' convert full-width character to half-width one, such as \"Ａ\" to \"A\"\n",
    "    '''\n",
    "    text = unicodedata.normalize('NFKC', text)\n",
    "    return text\n",
    "\n",
    "\n",
    "def remove_unicode_text(text: str) -> str:\n",
    "    text = text.replace('\\xa0', '')\n",
    "    text = text.replace('\\u3000', '')\n",
    "    text = text.replace('\\r', '')\n",
    "    return text\n",
    "\n",
    "\n",
    "def remove_extra_newline(text: str) -> str:\n",
    "    text = re.sub('\\n+', '\\n', text)\n",
    "    return text\n",
    "\n",
    "    \n",
    "def clean_text(text: str) -> str:\n",
    "    text = convert_full_width_to_half_width(text)\n",
    "    text = remove_unicode_text(text)\n",
    "    text = remove_extra_newline(text)\n",
    "    return text\n",
    "    "
   ]
  },
  {
   "cell_type": "code",
   "execution_count": 7,
   "metadata": {},
   "outputs": [
    {
     "data": {
      "text/plain": [
       "'https://www.104.com.tw/job/ajax/content/7bmdb'"
      ]
     },
     "execution_count": 7,
     "metadata": {},
     "output_type": "execute_result"
    }
   ],
   "source": [
    "job_id = '6vdp2'\n",
    "job_id = '7aboj'\n",
    "job_id = '7b726'\n",
    "job_id = '6621b'\n",
    "job_id = '7bmdb'\n",
    "url = 'https://www.104.com.tw/job/ajax/content/{}'.format(job_id)\n",
    "url"
   ]
  },
  {
   "cell_type": "code",
   "execution_count": 8,
   "metadata": {},
   "outputs": [],
   "source": [
    "headers = {\n",
    "    'Referer': url\n",
    "}"
   ]
  },
  {
   "cell_type": "code",
   "execution_count": 9,
   "metadata": {},
   "outputs": [
    {
     "data": {
      "text/plain": [
       "<Response [200]>"
      ]
     },
     "execution_count": 9,
     "metadata": {},
     "output_type": "execute_result"
    }
   ],
   "source": [
    "response = requests.get(url, headers=headers)\n",
    "response"
   ]
  },
  {
   "cell_type": "code",
   "execution_count": 10,
   "metadata": {},
   "outputs": [],
   "source": [
    "import json\n",
    "j = json.loads(clean_text(response.text))"
   ]
  },
  {
   "cell_type": "code",
   "execution_count": 11,
   "metadata": {},
   "outputs": [
    {
     "data": {
      "text/plain": [
       "{'data': {'corpImageRight': {'corpImageRight': {'imageUrl': '', 'link': ''}},\n",
       "  'header': {'corpImageTop': {'imageUrl': '', 'link': ''},\n",
       "   'jobName': '測試工程師 Test Engineer FAE (大陸常駐FAE, 非業務人員)',\n",
       "   'appearDate': '2021/07/15',\n",
       "   'custName': '香港商顯通香港科技有限公司台灣分公司',\n",
       "   'custUrl': 'https://www.104.com.tw/company/1a2x6bke5m',\n",
       "   'applyDate': '',\n",
       "   'analysisType': 1,\n",
       "   'analysisUrl': '//www.104.com.tw/jobs/apply/analysis/7bmdb',\n",
       "   'isSaved': False,\n",
       "   'isApplied': False},\n",
       "  'contact': {'hrName': '陳先生',\n",
       "   'email': '',\n",
       "   'visit': '',\n",
       "   'phone': '',\n",
       "   'other': 'Please reply with your English resume/CV.',\n",
       "   'reply': '合適者將於5個工作天內主動聯繫，不合適者將不另行通知',\n",
       "   'suggestExam': False},\n",
       "  'environmentPic': {'environmentPic': [],\n",
       "   'corpImageBottom': {'imageUrl': '', 'link': ''}},\n",
       "  'condition': {'acceptRole': {'role': [{'code': 1, 'description': '上班族'},\n",
       "     {'code': 2, 'description': '應屆畢業生'},\n",
       "     {'code': 32, 'description': '外籍人士'}],\n",
       "    'disRole': {'needHandicapCompendium': False, 'disability': []}},\n",
       "   'workExp': '不拘',\n",
       "   'edu': '專科以上',\n",
       "   'major': ['資訊工程相關', '電機電子工程相關'],\n",
       "   'language': [{'language': '中文', 'ability': '聽 /精通、說 /精通、讀 /精通、寫 /精通'},\n",
       "    {'language': '英文', 'ability': '聽 /精通、說 /中等、讀 /精通、寫 /中等'}],\n",
       "   'localLanguage': [],\n",
       "   'specialty': [{'code': '12001003008', 'description': 'C'},\n",
       "    {'code': '12001003010', 'description': 'C++'},\n",
       "    {'code': '12001003025', 'description': 'Java'},\n",
       "    {'code': '12001003045', 'description': 'Python'}],\n",
       "   'skill': [{'code': '11009002004', 'description': '系統架構規劃'},\n",
       "    {'code': '11009002008', 'description': '軟體工程系統開發'},\n",
       "    {'code': '11009005001', 'description': '軟體程式設計'},\n",
       "    {'code': '11009005002', 'description': '結構化程式設計'},\n",
       "    {'code': '11010006009', 'description': '電路板佈局規劃'},\n",
       "    {'code': '11010006010', 'description': '電路板測試'},\n",
       "    {'code': '11010007008', 'description': '電子電路設計'},\n",
       "    {'code': '11010007011', 'description': '電子圖表繪製'},\n",
       "    {'code': '11010007012', 'description': '電子儀表工具使用'},\n",
       "    {'code': '11010009005', 'description': '基礎數位電路'},\n",
       "    {'code': '11010009006', 'description': '基礎類比電路'}],\n",
       "   'certificate': [],\n",
       "   'driverLicense': [],\n",
       "   'other': ''},\n",
       "  'welfare': {'tag': [],\n",
       "   'welfare': '1. 高競爭力的薪資水準\\n2. 在職訓練，依照員工需求量身打造個別化的學習藍圖\\n3. 員工健康檢查\\n4. 伙食津貼(免稅所得)依法調高為2400元\\n5. 不定期的公司活動 （如: 部門聚餐、電影欣賞、中秋烤肉、聖誕活動等）\\n6. 享勞健保及按月提撥勞工退休金\\n7. 外勤油資補助\\n6. 遵守勞基法/性平法/勞工請假規則的給假制度\\n8. 國外出差人員旅行平安險保障\\n9. 免費點心以及茶水',\n",
       "   'legalTag': []},\n",
       "  'jobDetail': {'jobDescription': 'Responsibilities:\\n\\n- 對接廠內測試軟體以及客戶端生產系統\\n- 測試日誌整理以及分析\\n- 針對新項目需求開發測試流程\\n\\nQualifications:\\n\\n- BS or above in Electrical Engineering/Computer Engineering or equivalent.\\n- Proficient in C/C++, Java, and Python\\n',\n",
       "   'jobCategory': [{'code': '2007001004', 'description': '軟體設計工程師'},\n",
       "    {'code': '2009003007', 'description': '軟韌體測試工程師'}],\n",
       "   'salary': '月薪65,000元以上',\n",
       "   'salaryMin': 65000,\n",
       "   'salaryMax': 9999999,\n",
       "   'salaryType': 50,\n",
       "   'jobType': 1,\n",
       "   'workType': [],\n",
       "   'addressNo': '6002032001',\n",
       "   'addressRegion': '香港特別行政區',\n",
       "   'addressDetail': '',\n",
       "   'industryArea': '',\n",
       "   'longitude': '114.1693611',\n",
       "   'latitude': '22.3193039',\n",
       "   'manageResp': '管理人數未定',\n",
       "   'businessTrip': '需出差外派，一年累積時間約七個月以上',\n",
       "   'workPeriod': '日班',\n",
       "   'vacationPolicy': '依公司規定',\n",
       "   'startWorkingDay': '不限',\n",
       "   'hireType': 0,\n",
       "   'delegatedRecruit': '',\n",
       "   'needEmp': '1~2人',\n",
       "   'landmark': ''},\n",
       "  'switch': 'on',\n",
       "  'custLogo': 'https://static.104.com.tw/b_profile/cust_picture/2554/130000000112554/logo.png?v=20210222172549',\n",
       "  'postalCode': '',\n",
       "  'closeDate': '',\n",
       "  'industry': '半導體製造業',\n",
       "  'custNo': '130000000112554',\n",
       "  'reportUrl': 'https://www.104.com.tw/question_admin/reaction.cfm?j=6361436e396d4a2145433c66313f37608393b436c35373f683d433b1e1e1e1e1e1464b3b2a77j51',\n",
       "  'industryNo': '1001006002',\n",
       "  'employees': '暫不提供',\n",
       "  'chinaCorp': False},\n",
       " 'metadata': {'enableHTML': False, 'hiddenBanner': False}}"
      ]
     },
     "execution_count": 11,
     "metadata": {},
     "output_type": "execute_result"
    }
   ],
   "source": [
    "item = {}\n",
    "item['job_page'] = j\n",
    "item['job_page']"
   ]
  },
  {
   "cell_type": "code",
   "execution_count": 48,
   "metadata": {},
   "outputs": [
    {
     "data": {
      "text/plain": [
       "{'jobDescription': '• 與開發團隊協調以確定應用程序要求。\\n• 使用 Python 編程語言編寫可擴展的代碼。\\n• 測試和調試應用程序。\\n• 開發後端組件。\\n• 使用服務器端邏輯集成面向用戶的元素。\\n• 評估和確定客戶端功能請求的優先級。\\n• 集成數據存儲解決方案。\\n• 與前端開發人員協調。\\n• 重新編程現有數據庫以改進功能。',\n",
       " 'jobCategory': [{'code': '2007001004', 'description': '軟體設計工程師'}],\n",
       " 'salary': '月薪80,000~120,000元',\n",
       " 'salaryMin': 80000,\n",
       " 'salaryMax': 120000,\n",
       " 'salaryType': 50,\n",
       " 'jobType': 1,\n",
       " 'workType': [],\n",
       " 'addressNo': '6003003014',\n",
       " 'addressRegion': '阿拉伯聯合大公國',\n",
       " 'addressDetail': '杜拜',\n",
       " 'industryArea': '',\n",
       " 'longitude': '55.2707828',\n",
       " 'latitude': '25.2048493',\n",
       " 'manageResp': '不需負擔管理責任',\n",
       " 'businessTrip': '無需出差外派',\n",
       " 'workPeriod': '日班/晚班，跨國所有需要有不同時區要求。因每個部門不同所以看部門調整',\n",
       " 'vacationPolicy': '依公司規定',\n",
       " 'startWorkingDay': '一個月內',\n",
       " 'hireType': 0,\n",
       " 'delegatedRecruit': '',\n",
       " 'needEmp': '5~10人',\n",
       " 'landmark': ''}"
      ]
     },
     "execution_count": 48,
     "metadata": {},
     "output_type": "execute_result"
    }
   ],
   "source": [
    "item['job_page']['data']['jobDetail']"
   ]
  },
  {
   "cell_type": "code",
   "execution_count": 47,
   "metadata": {},
   "outputs": [
    {
     "data": {
      "text/plain": [
       "[]"
      ]
     },
     "execution_count": 47,
     "metadata": {},
     "output_type": "execute_result"
    }
   ],
   "source": [
    "item['job_page']['data']['condition']['acceptRole']['disRole']['disability']"
   ]
  },
  {
   "cell_type": "code",
   "execution_count": 50,
   "metadata": {},
   "outputs": [
    {
     "data": {
      "text/plain": [
       "{'job_cat': '2007001004',\n",
       " 'job_cat_desc': '軟體設計工程師',\n",
       " 'need_count_desc': '5~10人',\n",
       " 'skill': '系統架構規劃、軟體程式設計、資料庫系統管理維護',\n",
       " 'specialty': 'Python、JavaScript',\n",
       " 'major': '',\n",
       " 'lang': '',\n",
       " 'local_lang': '',\n",
       " 'cert': '',\n",
       " 'driver_license': '',\n",
       " 'other': '計算機科學、計算機工程或相關領域的學士學位。\\n • 2-5 年的 Python 開發經驗。\\n • Python 和相關框架（包括 Django 和 Flask）的專家知識。\\n • 熟悉 sqlalchemy ORM 與 SQL Syntax\\n • 熟悉 mysql 資料儲存系統。熟悉 redis\\n • 對 restful 格式有深刻理解，並可依其設計開發 API\\n • 理解 HTML5，CSS，Javascript\\n • 使用 Git， AWS， Docker， Kubernetes\\n • 深入理解 Python 的多進程架構和線程限制。\\n • 熟悉服務器端模板語言，包括 Jinja 2 和 Mako。\\n • 能夠將多個數據源集成到一個系統中。\\n • 熟悉測試工具。\\n • 能夠在項目上進行協作並在需要時獨立工作',\n",
       " 'accept_role': '上班族、應屆畢業生',\n",
       " 'disaccept_role': '',\n",
       " 'manage_resp': '不需負擔管理責任',\n",
       " 'business_trip': '無需出差外派',\n",
       " 'work_period': '日班/晚班，跨國所有需要有不同時區要求。因每個部門不同所以看部門調整',\n",
       " 'vacation_policy': '依公司規定',\n",
       " 'start_work_day': '一個月內',\n",
       " 'industry_no': '1001001002'}"
      ]
     },
     "execution_count": 50,
     "metadata": {},
     "output_type": "execute_result"
    }
   ],
   "source": [
    "parsed_item = {}\n",
    "\n",
    "# 工作類型\n",
    "parsed_item['job_cat'] = join_list_of_dict_item(item['job_page']['data']['jobDetail']['jobCategory'], 'code')\n",
    "\n",
    "# 工作類型\n",
    "parsed_item['job_cat_desc'] = join_list_of_dict_item(item['job_page']['data']['jobDetail']['jobCategory'], 'description')\n",
    "\n",
    "# 需求人數描述 \n",
    "parsed_item['need_count_desc'] = item['job_page']['data']['jobDetail']['needEmp']\n",
    "\n",
    "# 技能要求\n",
    "parsed_item['skill'] = join_list_of_dict_item(item['job_page']['data']['condition']['skill'], 'description')\n",
    "\n",
    "# 專長要求\n",
    "parsed_item['specialty'] = join_list_of_dict_item(item['job_page']['data']['condition']['specialty'], 'description')\n",
    "\n",
    "# 科系要求\n",
    "parsed_item['major'] = join_list_of_element(item['job_page']['data']['condition']['major'])\n",
    "\n",
    "# 語言要求\n",
    "parsed_item['lang'] = get_language_requirement(item['job_page']['data']['condition']['language'])\n",
    "\n",
    "# 地方語言要求\n",
    "parsed_item['local_lang'] = get_language_requirement(item['job_page']['data']['condition']['localLanguage'])\n",
    "\n",
    "# 證照要求\n",
    "parsed_item['cert'] = join_list_of_element(item['job_page']['data']['condition']['certificate'])\n",
    "\n",
    "# 駕照要求\n",
    "parsed_item['driver_license'] = join_list_of_element(item['job_page']['data']['condition']['driverLicense'])\n",
    "\n",
    "# 其他要求\n",
    "parsed_item['other'] = item['job_page']['data']['condition']['other']\n",
    "\n",
    "# 接受身份\n",
    "parsed_item['accept_role'] = join_list_of_dict_item(item['job_page']['data']['condition']['acceptRole']['role'], 'description')\n",
    "\n",
    "# 婉拒身份\n",
    "parsed_item['disaccept_role'] = join_list_of_dict_item(item['job_page']['data']['condition']['acceptRole']['disRole']['disability'], 'type')\n",
    "\n",
    "# 管理責任\n",
    "parsed_item['manage_resp'] = item['job_page']['data']['jobDetail']['manageResp']\n",
    "\n",
    "# 出差外派\n",
    "parsed_item['business_trip'] = item['job_page']['data']['jobDetail']['businessTrip']\n",
    "\n",
    "# 上班時段\n",
    "parsed_item['work_period'] = item['job_page']['data']['jobDetail']['workPeriod']\n",
    "\n",
    "# 休假制度\n",
    "parsed_item['vacation_policy'] = item['job_page']['data']['jobDetail']['vacationPolicy']\n",
    "\n",
    "# 可上班日\n",
    "parsed_item['start_work_day'] = item['job_page']['data']['jobDetail']['startWorkingDay']\n",
    "\n",
    "# 產業編號\n",
    "parsed_item['industry_no'] = item['job_page']['data']['industryNo']\n",
    "\n",
    "parsed_item"
   ]
  },
  {
   "cell_type": "code",
   "execution_count": 44,
   "metadata": {},
   "outputs": [
    {
     "data": {
      "text/plain": [
       "'英文'"
      ]
     },
     "execution_count": 44,
     "metadata": {},
     "output_type": "execute_result"
    }
   ],
   "source": [
    "def get_language_requirement(language_list):\n",
    "    if len(language_list) == 0:\n",
    "        return ''\n",
    "    \n",
    "    required_lang_list = []\n",
    "    for lang in language_list:\n",
    "        if '精通' in lang['ability']:\n",
    "            required_lang_list.append(lang['language'])\n",
    "    return '、'.join(required_lang_list)\n",
    "\n",
    "get_language_requirement(item['job_page']['data']['condition']['language'])\n"
   ]
  },
  {
   "cell_type": "code",
   "execution_count": null,
   "metadata": {},
   "outputs": [],
   "source": []
  }
 ],
 "metadata": {
  "kernelspec": {
   "display_name": "Python 3",
   "language": "python",
   "name": "python3"
  },
  "language_info": {
   "codemirror_mode": {
    "name": "ipython",
    "version": 3
   },
   "file_extension": ".py",
   "mimetype": "text/x-python",
   "name": "python",
   "nbconvert_exporter": "python",
   "pygments_lexer": "ipython3",
   "version": "3.7.0"
  }
 },
 "nbformat": 4,
 "nbformat_minor": 2
}
