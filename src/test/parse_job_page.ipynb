{
 "cells": [
  {
   "cell_type": "code",
   "execution_count": 1,
   "metadata": {},
   "outputs": [],
   "source": [
    "import requests\n",
    "import re\n",
    "import unicodedata\n",
    "    \n",
    "    \n",
    "def join_list_of_dict_item(l: list, key: str):\n",
    "    ''' input:  l = [{\"name\": \"Ian\"}, {\"name\": \"Wang\"}]\n",
    "                key = 'name'\n",
    "        output: \"Ian、Wang\"\n",
    "    '''\n",
    "    dict_item_list = [d[key] for d in l]\n",
    "    return '、'.join(dict_item_list)\n",
    "\n",
    "\n",
    "def join_list_of_element(l: list) -> str:\n",
    "    ''' input:  [\"A\", \"B\", \"C\"]\n",
    "        output: \"A、B、C\"\n",
    "    '''\n",
    "    return '、'.join(l)\n",
    "\n",
    "\n",
    "\n",
    "def convert_full_width_to_half_width(text: str) -> str:\n",
    "    ''' convert full-width character to half-width one, such as \"Ａ\" to \"A\"\n",
    "    '''\n",
    "    text = unicodedata.normalize('NFKC', text)\n",
    "    return text\n",
    "\n",
    "\n",
    "def remove_unicode_text(text: str) -> str:\n",
    "    text = text.replace('\\xa0', '')\n",
    "    text = text.replace('\\u3000', '')\n",
    "    text = text.replace('\\r', '')\n",
    "    return text\n",
    "\n",
    "\n",
    "def remove_extra_newline(text: str) -> str:\n",
    "    text = re.sub('\\n+', '\\n', text)\n",
    "    return text\n",
    "\n",
    "    \n",
    "def clean_text(text: str) -> str:\n",
    "    text = convert_full_width_to_half_width(text)\n",
    "    text = remove_unicode_text(text)\n",
    "    text = remove_extra_newline(text)\n",
    "    return text\n",
    "    "
   ]
  },
  {
   "cell_type": "code",
   "execution_count": 2,
   "metadata": {},
   "outputs": [
    {
     "data": {
      "text/plain": [
       "'https://www.104.com.tw/job/ajax/content/6621b'"
      ]
     },
     "execution_count": 2,
     "metadata": {},
     "output_type": "execute_result"
    }
   ],
   "source": [
    "job_id = '6vdp2'\n",
    "job_id = '7aboj'\n",
    "job_id = '7b726'\n",
    "job_id = '6621b'\n",
    "url = 'https://www.104.com.tw/job/ajax/content/{}'.format(job_id)\n",
    "url"
   ]
  },
  {
   "cell_type": "code",
   "execution_count": 3,
   "metadata": {},
   "outputs": [],
   "source": [
    "headers = {\n",
    "    'Referer': url\n",
    "}"
   ]
  },
  {
   "cell_type": "code",
   "execution_count": 4,
   "metadata": {},
   "outputs": [
    {
     "data": {
      "text/plain": [
       "<Response [200]>"
      ]
     },
     "execution_count": 4,
     "metadata": {},
     "output_type": "execute_result"
    }
   ],
   "source": [
    "response = requests.get(url, headers=headers)\n",
    "response"
   ]
  },
  {
   "cell_type": "code",
   "execution_count": 5,
   "metadata": {},
   "outputs": [],
   "source": [
    "import json\n",
    "j = json.loads(clean_text(response.text))"
   ]
  },
  {
   "cell_type": "code",
   "execution_count": 6,
   "metadata": {},
   "outputs": [
    {
     "data": {
      "text/plain": [
       "{'data': {'corpImageRight': {'corpImageRight': {'imageUrl': '', 'link': ''}},\n",
       "  'header': {'corpImageTop': {'imageUrl': '', 'link': ''},\n",
       "   'jobName': '資深後端 Python 工程師 - UrMart | 早餐吃麥片',\n",
       "   'appearDate': '2021/07/17',\n",
       "   'custName': '早餐吃麥片_饌元有限公司',\n",
       "   'custUrl': 'https://www.104.com.tw/company/1a2x6bj9jb',\n",
       "   'applyDate': '',\n",
       "   'analysisType': 1,\n",
       "   'analysisUrl': '//www.104.com.tw/jobs/apply/analysis/6621b',\n",
       "   'isSaved': False,\n",
       "   'isApplied': False},\n",
       "  'contact': {'hrName': 'HR',\n",
       "   'email': '',\n",
       "   'visit': '',\n",
       "   'phone': '',\n",
       "   'other': '該職務招募流程: 應徵 > 履歷審核通過 > 發送線上試題 > 試題回傳 > 符合 > 安排第一階段面試+機上考 > 符合 > 第二階段面試',\n",
       "   'reply': '',\n",
       "   'suggestExam': False},\n",
       "  'environmentPic': {'environmentPic': [{'thumbnailLink': 'https://static.104.com.tw/b_profile/cust_picture/9911/130000000059911/env/s_890328564413502823.jpg?v=20210317100002',\n",
       "     'link': 'https://static.104.com.tw/b_profile/cust_picture/9911/130000000059911/env/l_890328564413502823.jpg?v=20210317100002',\n",
       "     'description': ''},\n",
       "    {'thumbnailLink': 'https://static.104.com.tw/b_profile/cust_picture/9911/130000000059911/env/s_890328564413502824.jpg?v=20210317100002',\n",
       "     'link': 'https://static.104.com.tw/b_profile/cust_picture/9911/130000000059911/env/l_890328564413502824.jpg?v=20210317100002',\n",
       "     'description': ''},\n",
       "    {'thumbnailLink': 'https://static.104.com.tw/b_profile/cust_picture/9911/130000000059911/env/s_962627717425084035.jpg?v=20210317100002',\n",
       "     'link': 'https://static.104.com.tw/b_profile/cust_picture/9911/130000000059911/env/l_962627717425084035.jpg?v=20210317100002',\n",
       "     'description': '2020春酒'},\n",
       "    {'thumbnailLink': 'https://static.104.com.tw/b_profile/cust_picture/9911/130000000059911/env/s_890328564410841597.jpg?v=20210317100002',\n",
       "     'link': 'https://static.104.com.tw/b_profile/cust_picture/9911/130000000059911/env/l_890328564410841597.jpg?v=20210317100002',\n",
       "     'description': '2019宿霧員旅'},\n",
       "    {'thumbnailLink': 'https://static.104.com.tw/b_profile/cust_picture/9911/130000000059911/env/s_890328564410841596.jpg?v=20210317100002',\n",
       "     'link': 'https://static.104.com.tw/b_profile/cust_picture/9911/130000000059911/env/l_890328564410841596.jpg?v=20210317100002',\n",
       "     'description': '2017春酒'}],\n",
       "   'corpImageBottom': {'imageUrl': '', 'link': ''}},\n",
       "  'condition': {'acceptRole': {'role': [{'code': 1, 'description': '上班族'}],\n",
       "    'disRole': {'needHandicapCompendium': False, 'disability': []}},\n",
       "   'workExp': '1年以上',\n",
       "   'edu': '大學以上',\n",
       "   'major': [],\n",
       "   'language': [],\n",
       "   'localLanguage': [],\n",
       "   'specialty': [{'code': '12001003045', 'description': 'Python'},\n",
       "    {'code': '12001004032', 'description': 'MySQL'},\n",
       "    {'code': '12001004039', 'description': 'PostgreSQL'},\n",
       "    {'code': '12001005023', 'description': 'AWS'},\n",
       "    {'code': '12001006043', 'description': 'Django'}],\n",
       "   'skill': [{'code': '11009002004', 'description': '系統架構規劃'},\n",
       "    {'code': '11009005001', 'description': '軟體程式設計'},\n",
       "    {'code': '11009005005', 'description': '網路程式設計'},\n",
       "    {'code': '11009006002', 'description': '資料庫程式設計'}],\n",
       "   'certificate': [],\n",
       "   'driverLicense': [],\n",
       "   'other': ''},\n",
       "  'welfare': {'tag': ['零食櫃', '不扣薪病假', '員工進修補助', '部門聚餐', '員工優惠', '優於勞基法特休'],\n",
       "   'welfare': '⚡我們有「工作與生活平衡的規劃」是給員工產生歸屬感的方式⚡\\n- 人生大事, 我們給予關懷與支持 : 結婚禮金；生育禮金 ; 喪葬補助 \\n- 當月壽星，準備小驚喜，生日禮金或禮品，當月揭曉\\n- 優於勞基法的休假；到職即有全薪病假7天 / 滿一年即享年假 10天，滿2年14天 \\n\\n⚡我們有「完整的職涯發展」是給員工追求成長的路徑⚡\\n- 內部架構完整的晉升與調薪機制．反黑箱反人制，幫助優秀人才留任 \\n- 推行1on1，主管員工持續雙向溝通，幫助自我超越成長。\\n- 每人每季提撥定額補助，提供課程、講座，與購書補助；內部自主建立讀書會；團隊一起分享。 \\n\\n⚡我們有「保持健康的措施」是給員工照顧的責任⚡ \\n- 免費的牛奶與各式營養麥片、乳清、蛋白粉 \\n- 饌元零食櫃，讓大家隨時能量滿滿\\n- 定期健康檢查 \\n- 了解/學習到營養、飲食的健康知識 \\n\\n⚡我們有「追求更好的團隊」是給員工充分的嘗試空間⚡\\n- 實際參與各種新產品、服務開發等從 0-1 的過程 \\n- 一群持續追求更好的同仁，專業、負責 \\n\\n⚡我們有「舒適的工作空間」是給員工便利的工作環境⚡ \\n- 工作配備：大螢幕任你挑\\n- 舒適明亮的開放式辦公空間，沒有隔間阻礙溝通 \\n- 鄰近松山車站，走路不用五分鐘',\n",
       "   'legalTag': ['週休二日', '員工體檢']},\n",
       "  'jobDetail': {'jobDescription': '我們正在尋找擁有對技術與商業有同等熱誠，認為用戶體驗至上的後端工程師。你擁有1 年以上的軟體開發經驗，你的職責會是與技術團隊開發能幫助 公司業務 與 使用者體驗滿意度 成長的新功能，幫助我們獲得更多用戶與回購率，甚至是透過開發內部工具改善團隊的工作流程與效率 \\n\\n我們不傾向重新造輪子， 但希望你具備有如何讓程式碼好維護的開發思維，能寫出簡潔又效能好的程式碼，並具備有以元件化和模組化思維來建構系統的能力。我們希望你跟現有團隊成員一樣，對於學習新技術（知識）充滿熱情，並且喜歡與人合作，分享自己的經驗，成為團隊成長的催化劑\\n\\n面對用戶，我們是一家 Product-Driven 的公司，我們相信唯有打造好產品、挖掘挑選好商品，才能吸引用戶、留住用戶；團隊內部，我們是一家 Data-Driven 的公司，討論與決策皆基於數據、圍繞於用戶，面向使命與願景，透過數據與技術，讓服務品質不斷升級。我們喜歡永遠不滿足，想把事情做好，不害怕嘗試新挑戰，以成就感為食的人\\n\\n我們的使命是：為下一代人找到更好的生活方式\\n\\n【工作內容 】\\n1. 調整和優化系統，依據需求開發和重構模組\\n2. 協助數據資料整理及報表建置\\n3. 第三方 API 串接（金流, 通知, CRM tool... etc.）\\n4. RESTful API 建置\\n5. 工程文件撰寫\\n\\n【工作要求 】\\n1. 3 年以上工作經驗 或 從無到有完整參與產品開發\\n2. Django 產品開發經驗2年以上\\n3. DRF專案經驗，設計過 RESTful API\\n4. PostgreSQL、MySQL語法使用\\n5. 熟悉 git 版本控制與開發流程\\n6. 熟悉 AWS 服務\\n\\n【加分條件】\\n1. 熟悉 AWS EC2 / Cache / RDS\\n2. 串接過金流 / FB API 等第三方工具\\n3. 良好的 Coding Style\\n4. 效能優化經驗\\n5. 單元測試\\n6. 有CI/CD 的專案經驗\\n7. 有敏捷開發經驗\\n\\n\\n關注我們的LinkedIn ，認識更多面向的我們 : https://tw.linkedin.com/company/morningshop',\n",
       "   'jobCategory': [{'code': '2007001006', 'description': 'Internet程式設計師'},\n",
       "    {'code': '2007001007', 'description': '系統分析師'},\n",
       "    {'code': '2007001004', 'description': '軟體設計工程師'}],\n",
       "   'salary': '年薪810,000~1,200,000元',\n",
       "   'salaryMin': 810000,\n",
       "   'salaryMax': 1200000,\n",
       "   'salaryType': 60,\n",
       "   'jobType': 1,\n",
       "   'workType': [],\n",
       "   'addressNo': '6001001011',\n",
       "   'addressRegion': '台北市南港區',\n",
       "   'addressDetail': '八德路四段 768 巷 1 弄 20 號 3 樓之 1',\n",
       "   'industryArea': '',\n",
       "   'longitude': '121.5814472',\n",
       "   'latitude': '25.0502907',\n",
       "   'manageResp': '不需負擔管理責任',\n",
       "   'businessTrip': '無需出差外派',\n",
       "   'workPeriod': '日班',\n",
       "   'vacationPolicy': '依公司規定',\n",
       "   'startWorkingDay': '兩週內',\n",
       "   'hireType': 0,\n",
       "   'delegatedRecruit': '',\n",
       "   'needEmp': '1人',\n",
       "   'landmark': '距捷運松山站380公尺'},\n",
       "  'switch': 'on',\n",
       "  'custLogo': 'https://static.104.com.tw/b_profile/cust_picture/9911/130000000059911/logo.png?v=20210317100002',\n",
       "  'postalCode': '115',\n",
       "  'closeDate': '',\n",
       "  'industry': '食品什貨零售業',\n",
       "  'custNo': '130000000059911',\n",
       "  'reportUrl': 'https://www.104.com.tw/question_admin/reaction.cfm?j=4f6f416a376b486733413b203f2d355e13739416a33353d663b41391c1c1c1c5e1435f576b98j02',\n",
       "  'industryNo': '1003002002',\n",
       "  'employees': '45人',\n",
       "  'chinaCorp': False},\n",
       " 'metadata': {'enableHTML': False, 'hiddenBanner': False}}"
      ]
     },
     "execution_count": 6,
     "metadata": {},
     "output_type": "execute_result"
    }
   ],
   "source": [
    "item = {}\n",
    "item['job_page'] = j\n",
    "item['job_page']"
   ]
  },
  {
   "cell_type": "code",
   "execution_count": 48,
   "metadata": {},
   "outputs": [
    {
     "data": {
      "text/plain": [
       "{'jobDescription': '• 與開發團隊協調以確定應用程序要求。\\n• 使用 Python 編程語言編寫可擴展的代碼。\\n• 測試和調試應用程序。\\n• 開發後端組件。\\n• 使用服務器端邏輯集成面向用戶的元素。\\n• 評估和確定客戶端功能請求的優先級。\\n• 集成數據存儲解決方案。\\n• 與前端開發人員協調。\\n• 重新編程現有數據庫以改進功能。',\n",
       " 'jobCategory': [{'code': '2007001004', 'description': '軟體設計工程師'}],\n",
       " 'salary': '月薪80,000~120,000元',\n",
       " 'salaryMin': 80000,\n",
       " 'salaryMax': 120000,\n",
       " 'salaryType': 50,\n",
       " 'jobType': 1,\n",
       " 'workType': [],\n",
       " 'addressNo': '6003003014',\n",
       " 'addressRegion': '阿拉伯聯合大公國',\n",
       " 'addressDetail': '杜拜',\n",
       " 'industryArea': '',\n",
       " 'longitude': '55.2707828',\n",
       " 'latitude': '25.2048493',\n",
       " 'manageResp': '不需負擔管理責任',\n",
       " 'businessTrip': '無需出差外派',\n",
       " 'workPeriod': '日班/晚班，跨國所有需要有不同時區要求。因每個部門不同所以看部門調整',\n",
       " 'vacationPolicy': '依公司規定',\n",
       " 'startWorkingDay': '一個月內',\n",
       " 'hireType': 0,\n",
       " 'delegatedRecruit': '',\n",
       " 'needEmp': '5~10人',\n",
       " 'landmark': ''}"
      ]
     },
     "execution_count": 48,
     "metadata": {},
     "output_type": "execute_result"
    }
   ],
   "source": [
    "item['job_page']['data']['jobDetail']"
   ]
  },
  {
   "cell_type": "code",
   "execution_count": 47,
   "metadata": {},
   "outputs": [
    {
     "data": {
      "text/plain": [
       "[]"
      ]
     },
     "execution_count": 47,
     "metadata": {},
     "output_type": "execute_result"
    }
   ],
   "source": [
    "item['job_page']['data']['condition']['acceptRole']['disRole']['disability']"
   ]
  },
  {
   "cell_type": "code",
   "execution_count": 50,
   "metadata": {},
   "outputs": [
    {
     "data": {
      "text/plain": [
       "{'job_cat': '2007001004',\n",
       " 'job_cat_desc': '軟體設計工程師',\n",
       " 'need_count_desc': '5~10人',\n",
       " 'skill': '系統架構規劃、軟體程式設計、資料庫系統管理維護',\n",
       " 'specialty': 'Python、JavaScript',\n",
       " 'major': '',\n",
       " 'lang': '',\n",
       " 'local_lang': '',\n",
       " 'cert': '',\n",
       " 'driver_license': '',\n",
       " 'other': '計算機科學、計算機工程或相關領域的學士學位。\\n • 2-5 年的 Python 開發經驗。\\n • Python 和相關框架（包括 Django 和 Flask）的專家知識。\\n • 熟悉 sqlalchemy ORM 與 SQL Syntax\\n • 熟悉 mysql 資料儲存系統。熟悉 redis\\n • 對 restful 格式有深刻理解，並可依其設計開發 API\\n • 理解 HTML5，CSS，Javascript\\n • 使用 Git， AWS， Docker， Kubernetes\\n • 深入理解 Python 的多進程架構和線程限制。\\n • 熟悉服務器端模板語言，包括 Jinja 2 和 Mako。\\n • 能夠將多個數據源集成到一個系統中。\\n • 熟悉測試工具。\\n • 能夠在項目上進行協作並在需要時獨立工作',\n",
       " 'accept_role': '上班族、應屆畢業生',\n",
       " 'disaccept_role': '',\n",
       " 'manage_resp': '不需負擔管理責任',\n",
       " 'business_trip': '無需出差外派',\n",
       " 'work_period': '日班/晚班，跨國所有需要有不同時區要求。因每個部門不同所以看部門調整',\n",
       " 'vacation_policy': '依公司規定',\n",
       " 'start_work_day': '一個月內',\n",
       " 'industry_no': '1001001002'}"
      ]
     },
     "execution_count": 50,
     "metadata": {},
     "output_type": "execute_result"
    }
   ],
   "source": [
    "parsed_item = {}\n",
    "\n",
    "# 工作類型\n",
    "parsed_item['job_cat'] = join_list_of_dict_item(item['job_page']['data']['jobDetail']['jobCategory'], 'code')\n",
    "\n",
    "# 工作類型\n",
    "parsed_item['job_cat_desc'] = join_list_of_dict_item(item['job_page']['data']['jobDetail']['jobCategory'], 'description')\n",
    "\n",
    "# 需求人數描述 \n",
    "parsed_item['need_count_desc'] = item['job_page']['data']['jobDetail']['needEmp']\n",
    "\n",
    "# 技能要求\n",
    "parsed_item['skill'] = join_list_of_dict_item(item['job_page']['data']['condition']['skill'], 'description')\n",
    "\n",
    "# 專長要求\n",
    "parsed_item['specialty'] = join_list_of_dict_item(item['job_page']['data']['condition']['specialty'], 'description')\n",
    "\n",
    "# 科系要求\n",
    "parsed_item['major'] = join_list_of_element(item['job_page']['data']['condition']['major'])\n",
    "\n",
    "# 語言要求\n",
    "parsed_item['lang'] = get_language_requirement(item['job_page']['data']['condition']['language'])\n",
    "\n",
    "# 地方語言要求\n",
    "parsed_item['local_lang'] = get_language_requirement(item['job_page']['data']['condition']['localLanguage'])\n",
    "\n",
    "# 證照要求\n",
    "parsed_item['cert'] = join_list_of_element(item['job_page']['data']['condition']['certificate'])\n",
    "\n",
    "# 駕照要求\n",
    "parsed_item['driver_license'] = join_list_of_element(item['job_page']['data']['condition']['driverLicense'])\n",
    "\n",
    "# 其他要求\n",
    "parsed_item['other'] = item['job_page']['data']['condition']['other']\n",
    "\n",
    "# 接受身份\n",
    "parsed_item['accept_role'] = join_list_of_dict_item(item['job_page']['data']['condition']['acceptRole']['role'], 'description')\n",
    "\n",
    "# 婉拒身份\n",
    "parsed_item['disaccept_role'] = join_list_of_dict_item(item['job_page']['data']['condition']['acceptRole']['disRole']['disability'], 'type')\n",
    "\n",
    "# 管理責任\n",
    "parsed_item['manage_resp'] = item['job_page']['data']['jobDetail']['manageResp']\n",
    "\n",
    "# 出差外派\n",
    "parsed_item['business_trip'] = item['job_page']['data']['jobDetail']['businessTrip']\n",
    "\n",
    "# 上班時段\n",
    "parsed_item['work_period'] = item['job_page']['data']['jobDetail']['workPeriod']\n",
    "\n",
    "# 休假制度\n",
    "parsed_item['vacation_policy'] = item['job_page']['data']['jobDetail']['vacationPolicy']\n",
    "\n",
    "# 可上班日\n",
    "parsed_item['start_work_day'] = item['job_page']['data']['jobDetail']['startWorkingDay']\n",
    "\n",
    "# 產業編號\n",
    "parsed_item['industry_no'] = item['job_page']['data']['industryNo']\n",
    "\n",
    "parsed_item"
   ]
  },
  {
   "cell_type": "code",
   "execution_count": 44,
   "metadata": {},
   "outputs": [
    {
     "data": {
      "text/plain": [
       "'英文'"
      ]
     },
     "execution_count": 44,
     "metadata": {},
     "output_type": "execute_result"
    }
   ],
   "source": [
    "def get_language_requirement(language_list):\n",
    "    if len(language_list) == 0:\n",
    "        return ''\n",
    "    \n",
    "    required_lang_list = []\n",
    "    for lang in language_list:\n",
    "        if '精通' in lang['ability']:\n",
    "            required_lang_list.append(lang['language'])\n",
    "    return '、'.join(required_lang_list)\n",
    "\n",
    "get_language_requirement(item['job_page']['data']['condition']['language'])\n"
   ]
  },
  {
   "cell_type": "code",
   "execution_count": null,
   "metadata": {},
   "outputs": [],
   "source": []
  }
 ],
 "metadata": {
  "kernelspec": {
   "display_name": "Python 3",
   "language": "python",
   "name": "python3"
  },
  "language_info": {
   "codemirror_mode": {
    "name": "ipython",
    "version": 3
   },
   "file_extension": ".py",
   "mimetype": "text/x-python",
   "name": "python",
   "nbconvert_exporter": "python",
   "pygments_lexer": "ipython3",
   "version": "3.7.0"
  }
 },
 "nbformat": 4,
 "nbformat_minor": 2
}
