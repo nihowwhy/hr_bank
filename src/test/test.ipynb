{
 "cells": [
  {
   "cell_type": "code",
   "execution_count": 4,
   "metadata": {},
   "outputs": [
    {
     "data": {
      "text/plain": [
       "False"
      ]
     },
     "execution_count": 4,
     "metadata": {},
     "output_type": "execute_result"
    }
   ],
   "source": [
    "a = True\n",
    "b = True\n",
    "c = False\n",
    "all([a, b, c])"
   ]
  },
  {
   "cell_type": "code",
   "execution_count": 6,
   "metadata": {},
   "outputs": [],
   "source": [
    "import sys\n",
    "sys.path.append('..')\n",
    "\n",
    "from data_preparation import company_data_preprocessor"
   ]
  },
  {
   "cell_type": "code",
   "execution_count": null,
   "metadata": {},
   "outputs": [],
   "source": []
  },
  {
   "cell_type": "code",
   "execution_count": 21,
   "metadata": {},
   "outputs": [
    {
     "name": "stdout",
     "output_type": "stream",
     "text": [
      "{\n",
      "  \"log_count/INFO\": 11,\n",
      "  \"memusage/startup\": 67280896,\n",
      "  \"memusage/max\": 67280896,\n",
      "  \"log_count/DEBUG\": 320,\n",
      "  \"scheduler/enqueued/memory\": 314,\n",
      "  \"scheduler/enqueued\": 314,\n",
      "  \"scheduler/dequeued/memory\": 314,\n",
      "  \"scheduler/dequeued\": 314,\n",
      "  \"downloader/request_count\": 315,\n",
      "  \"downloader/request_method_count/GET\": 315,\n",
      "  \"downloader/request_bytes\": 124565,\n",
      "  \"robotstxt/request_count\": 1,\n",
      "  \"downloader/response_count\": 315,\n",
      "  \"downloader/response_status_count/200\": 315,\n",
      "  \"downloader/response_bytes\": 784403,\n",
      "  \"response_received_count\": 315,\n",
      "  \"robotstxt/response_count\": 1,\n",
      "  \"robotstxt/response_status_count/200\": 1,\n",
      "  \"request_depth_max\": 3,\n",
      "  \"log_count/WARNING\": 106,\n",
      "  \"item_dropped_count\": 106,\n",
      "  \"item_dropped_reasons_count/DropItem\": 106,\n",
      "  \"item_scraped_count\": 3\n",
      "}\n"
     ]
    }
   ],
   "source": [
    "import json\n",
    "stats = {'log_count/INFO': 11, 'memusage/startup': 67280896, 'memusage/max': 67280896, 'log_count/DEBUG': 320, 'scheduler/enqueued/memory': 314, 'scheduler/enqueued': 314, 'scheduler/dequeued/memory': 314, 'scheduler/dequeued': 314, 'downloader/request_count': 315, 'downloader/request_method_count/GET': 315, 'downloader/request_bytes': 124565, 'robotstxt/request_count': 1, 'downloader/response_count': 315, 'downloader/response_status_count/200': 315, 'downloader/response_bytes': 784403, 'response_received_count': 315, 'robotstxt/response_count': 1, 'robotstxt/response_status_count/200': 1, 'request_depth_max': 3, 'log_count/WARNING': 106, 'item_dropped_count': 106, 'item_dropped_reasons_count/DropItem': 106, 'item_scraped_count': 3}\n",
    "print(json.dumps(stats, indent=2))"
   ]
  },
  {
   "cell_type": "code",
   "execution_count": 12,
   "metadata": {},
   "outputs": [
    {
     "data": {
      "text/plain": [
       "'10,000'"
      ]
     },
     "execution_count": 12,
     "metadata": {},
     "output_type": "execute_result"
    }
   ],
   "source": [
    "num = 10000\n",
    "f'{num:,d}'"
   ]
  },
  {
   "cell_type": "code",
   "execution_count": 2,
   "metadata": {},
   "outputs": [
    {
     "data": {
      "text/plain": [
       "'tutor.104.com.tw'"
      ]
     },
     "execution_count": 2,
     "metadata": {},
     "output_type": "execute_result"
    }
   ],
   "source": [
    "from urllib.parse import urlparse, parse_qs, urlencode, urlunparse, parse_qsl\n",
    "\n",
    "url = '//tutor.104.com.tw/trans_job_to_case.cfm?frompage=joblist&jobno=11897251&tfrom=joblist&utm_source=104PC&utm_medium=JobList&utm_campaign=104Joblist_PC'\n",
    "\n",
    "urlparse(url).netloc"
   ]
  },
  {
   "cell_type": "code",
   "execution_count": 3,
   "metadata": {},
   "outputs": [
    {
     "data": {
      "text/plain": [
       "<Response [200]>"
      ]
     },
     "execution_count": 3,
     "metadata": {},
     "output_type": "execute_result"
    }
   ],
   "source": [
    "import requests\n",
    "\n",
    "url = 'https://www.104.com.tw/jobs/search/list?ro=0&jobcat=2007000000&jobcatExpansionType=0&area=6001001011&order=11&asc=0&page=34&mode=s'\n",
    "headers = {\n",
    "    'Referer': url\n",
    "}\n",
    "\n",
    "r = requests.get(url, headers=headers)\n",
    "r"
   ]
  },
  {
   "cell_type": "code",
   "execution_count": 1,
   "metadata": {},
   "outputs": [
    {
     "data": {
      "text/plain": [
       "'https://www.104.com.tw/jobs/search/list?ro=0&jobcat=2007000000&jobcatExpansionType=0&area=6001001012&order=11&asc=0&page=2&mode=s'"
      ]
     },
     "execution_count": 1,
     "metadata": {},
     "output_type": "execute_result"
    }
   ],
   "source": [
    "from urllib.parse import urlparse, parse_qs, urlencode, urlunparse, parse_qsl\n",
    "\n",
    "def _generate_url_with_new_query_params(url, new_query_params={}):\n",
    "    url_parse = urlparse(url)\n",
    "    url_query = dict(parse_qsl(url_parse.query))\n",
    "    url_query.update(new_query_params)\n",
    "    new_url_query = urlencode(url_query)\n",
    "    url_parse = url_parse._replace(query=new_url_query)\n",
    "    new_url = urlunparse(url_parse)\n",
    "    return new_url\n",
    "\n",
    "url = 'https://www.104.com.tw/jobs/search/list?ro=0&jobcat=2007000000&jobcatExpansionType=0&area=6001001012&order=11&asc=0&page=1&mode=s'\n",
    "p = 2\n",
    "_generate_url_with_new_query_params(url, {'page': p})"
   ]
  },
  {
   "cell_type": "code",
   "execution_count": 23,
   "metadata": {},
   "outputs": [],
   "source": [
    "from datetime import datetime"
   ]
  },
  {
   "cell_type": "code",
   "execution_count": 26,
   "metadata": {},
   "outputs": [
    {
     "data": {
      "text/plain": [
       "'2020-10-12'"
      ]
     },
     "execution_count": 26,
     "metadata": {},
     "output_type": "execute_result"
    }
   ],
   "source": [
    "str(datetime.now())[:10]"
   ]
  },
  {
   "cell_type": "code",
   "execution_count": 29,
   "metadata": {},
   "outputs": [
    {
     "data": {
      "text/plain": [
       "20201012"
      ]
     },
     "execution_count": 29,
     "metadata": {},
     "output_type": "execute_result"
    }
   ],
   "source": [
    "int(datetime.now().strftime('%Y%m%d'))"
   ]
  },
  {
   "cell_type": "code",
   "execution_count": null,
   "metadata": {},
   "outputs": [],
   "source": []
  },
  {
   "cell_type": "code",
   "execution_count": 1,
   "metadata": {},
   "outputs": [],
   "source": [
    "class Test:\n",
    "    a = 1\n",
    "    b = 2\n",
    "    c = 3"
   ]
  },
  {
   "cell_type": "code",
   "execution_count": 20,
   "metadata": {},
   "outputs": [],
   "source": [
    "t = Test()"
   ]
  },
  {
   "cell_type": "code",
   "execution_count": 21,
   "metadata": {},
   "outputs": [
    {
     "data": {
      "text/plain": [
       "['a', 'b', 'c']"
      ]
     },
     "execution_count": 21,
     "metadata": {},
     "output_type": "execute_result"
    }
   ],
   "source": [
    "attrs = [attr for attr in dir(t) if not attr.startswith('__')]\n",
    "attrs"
   ]
  },
  {
   "cell_type": "code",
   "execution_count": 22,
   "metadata": {},
   "outputs": [
    {
     "name": "stdout",
     "output_type": "stream",
     "text": [
      "a   1\n",
      "b   2\n",
      "c   3\n"
     ]
    }
   ],
   "source": [
    "for attr in attrs:\n",
    "    print(attr, ' ', t.__getattribute__(attr))"
   ]
  },
  {
   "cell_type": "code",
   "execution_count": null,
   "metadata": {},
   "outputs": [],
   "source": []
  },
  {
   "cell_type": "code",
   "execution_count": null,
   "metadata": {},
   "outputs": [],
   "source": []
  }
 ],
 "metadata": {
  "kernelspec": {
   "display_name": "Python 3",
   "language": "python",
   "name": "python3"
  },
  "language_info": {
   "codemirror_mode": {
    "name": "ipython",
    "version": 3
   },
   "file_extension": ".py",
   "mimetype": "text/x-python",
   "name": "python",
   "nbconvert_exporter": "python",
   "pygments_lexer": "ipython3",
   "version": "3.7.0"
  }
 },
 "nbformat": 4,
 "nbformat_minor": 2
}
