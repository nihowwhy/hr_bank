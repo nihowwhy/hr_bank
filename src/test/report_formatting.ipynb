{
 "cells": [
  {
   "cell_type": "code",
   "execution_count": 6,
   "metadata": {},
   "outputs": [
    {
     "data": {
      "text/html": [
       "<div>\n",
       "<style scoped>\n",
       "    .dataframe tbody tr th:only-of-type {\n",
       "        vertical-align: middle;\n",
       "    }\n",
       "\n",
       "    .dataframe tbody tr th {\n",
       "        vertical-align: top;\n",
       "    }\n",
       "\n",
       "    .dataframe thead th {\n",
       "        text-align: right;\n",
       "    }\n",
       "</style>\n",
       "<table border=\"1\" class=\"dataframe\">\n",
       "  <thead>\n",
       "    <tr style=\"text-align: right;\">\n",
       "      <th></th>\n",
       "      <th>JOB_NO</th>\n",
       "      <th>SEARCH_JOB_JSON</th>\n",
       "      <th>JOB_DESC_JSON</th>\n",
       "      <th>JOB_ANALYSIS_JSON</th>\n",
       "      <th>CRAWL_DATE</th>\n",
       "    </tr>\n",
       "  </thead>\n",
       "  <tbody>\n",
       "    <tr>\n",
       "      <th>0</th>\n",
       "      <td>11219368</td>\n",
       "      <td>{\"jobType\": \"0\", \"jobNo\": \"11219368\", \"jobName...</td>\n",
       "      <td>test_job_desc</td>\n",
       "      <td>test_analysis</td>\n",
       "      <td>20201017</td>\n",
       "    </tr>\n",
       "    <tr>\n",
       "      <th>1</th>\n",
       "      <td>10823005</td>\n",
       "      <td>{\"jobType\": \"2\", \"jobNo\": \"10823005\", \"jobName...</td>\n",
       "      <td>test_job_desc</td>\n",
       "      <td>test_analysis</td>\n",
       "      <td>20201017</td>\n",
       "    </tr>\n",
       "    <tr>\n",
       "      <th>2</th>\n",
       "      <td>11290746</td>\n",
       "      <td>{\"jobType\": \"0\", \"jobNo\": \"11290746\", \"jobName...</td>\n",
       "      <td>test_job_desc</td>\n",
       "      <td>test_analysis</td>\n",
       "      <td>20201017</td>\n",
       "    </tr>\n",
       "    <tr>\n",
       "      <th>3</th>\n",
       "      <td>11687102</td>\n",
       "      <td>{\"jobType\": \"2\", \"jobNo\": \"11687102\", \"jobName...</td>\n",
       "      <td>test_job_desc</td>\n",
       "      <td>test_analysis</td>\n",
       "      <td>20201017</td>\n",
       "    </tr>\n",
       "    <tr>\n",
       "      <th>4</th>\n",
       "      <td>11209830</td>\n",
       "      <td>{\"jobType\": \"0\", \"jobNo\": \"11209830\", \"jobName...</td>\n",
       "      <td>test_job_desc</td>\n",
       "      <td>test_analysis</td>\n",
       "      <td>20201017</td>\n",
       "    </tr>\n",
       "  </tbody>\n",
       "</table>\n",
       "</div>"
      ],
      "text/plain": [
       "     JOB_NO                                    SEARCH_JOB_JSON  JOB_DESC_JSON  \\\n",
       "0  11219368  {\"jobType\": \"0\", \"jobNo\": \"11219368\", \"jobName...  test_job_desc   \n",
       "1  10823005  {\"jobType\": \"2\", \"jobNo\": \"10823005\", \"jobName...  test_job_desc   \n",
       "2  11290746  {\"jobType\": \"0\", \"jobNo\": \"11290746\", \"jobName...  test_job_desc   \n",
       "3  11687102  {\"jobType\": \"2\", \"jobNo\": \"11687102\", \"jobName...  test_job_desc   \n",
       "4  11209830  {\"jobType\": \"0\", \"jobNo\": \"11209830\", \"jobName...  test_job_desc   \n",
       "\n",
       "  JOB_ANALYSIS_JSON  CRAWL_DATE  \n",
       "0     test_analysis    20201017  \n",
       "1     test_analysis    20201017  \n",
       "2     test_analysis    20201017  \n",
       "3     test_analysis    20201017  \n",
       "4     test_analysis    20201017  "
      ]
     },
     "execution_count": 6,
     "metadata": {},
     "output_type": "execute_result"
    }
   ],
   "source": [
    "import pandas as pd\n",
    "import sqlite3\n",
    "\n",
    "with sqlite3.connect('../../db/hr_bank_db.db') as con:\n",
    "#     df = pd.read_sql(\"SELECT * FROM comp_desc\", con=con)\n",
    "    df = pd.read_sql(\"SELECT * FROM job_desc where crawl_date = 20201017\", con=con)\n",
    "#     df = pd.read_sql(\"SELECT * FROM job_prim where crawl_date = 20201017\", con=con)\n",
    "\n",
    "df.head()"
   ]
  },
  {
   "cell_type": "code",
   "execution_count": 7,
   "metadata": {},
   "outputs": [
    {
     "data": {
      "text/plain": [
       "10426"
      ]
     },
     "execution_count": 7,
     "metadata": {},
     "output_type": "execute_result"
    }
   ],
   "source": [
    "len(df)"
   ]
  },
  {
   "cell_type": "code",
   "execution_count": 11,
   "metadata": {},
   "outputs": [],
   "source": [
    "import json"
   ]
  },
  {
   "cell_type": "code",
   "execution_count": 16,
   "metadata": {},
   "outputs": [
    {
     "name": "stdout",
     "output_type": "stream",
     "text": [
      "0\n",
      "['11219368'\n",
      " '{\"jobType\": \"0\", \"jobNo\": \"11219368\", \"jobName\": \"【台北區】ASP.Net 軟體工程師(C# )\", \"jobNameSnippet\": \"【台北區】ASP.Net 軟體工程師(C# )\", \"jobRole\": \"1\", \"jobRo\": \"1\", \"jobAddrNo\": \"6001001001\", \"jobAddrNoDesc\": \"台北市中正區\", \"jobAddress\": \"重慶南路一段13號10樓\", \"description\": \"主要工作：\\\\r\\\\n1. .NET 軟體專案與產品開發，使用 ASP.Net(C#) 開發 Web 應用程式。本公司主要產品為企業內部ERP系統及學習系統(LMS)。主要使用技術為MVC, .Net Core, LINQ, CSS, JQuery。使用Visual Studio。\\\\r\\\\n2. 使用Xamarin進行手機App開發。\\\\r\\\\n\\\\r\\\\n擅長工具：\\\\r\\\\n1. 熟悉 ASP.Net、JavaScript 或JQuery、CSS。\\\\r\\\\n2. 資料庫：MS SQL。\\\\r\\\\n3. 技術：熟MVC架構者尤佳。\\\\r\\\\n4. 沒有.Net經驗但有多年Java開發經驗者也可。\\\\r\\\\n\\\\r\\\\n加分條件：\\\\r\\\\n1. ASP.Net/C#撰寫Web應用程式開發經驗至少一年以上者。\\\\r\\\\n2. 具備ERP系統開發與維護經驗優先錄取。\\\\r\\\\n3. 邏輯分析能力強，具備團隊合作精神。\\\\r\\\\n4. 溝通協調能力強，應變能力佳。\\\\r\\\\n5. 創業夥伴型，主動積極，熱愛新挑戰、新學習。\\\\r\\\\n6. 對程式開發及軟體工程具有熱情，願意學習嘗試新技術及架構。\\\\r\\\\n7. 願意以負責任的態度、對工作及所產生之程式進行品質管理。\\\\r\\\\n\\\\r\\\\n【自由揮灑的發展舞台】+【專業完整的培訓計畫】+【透明公平的升遷管道】+【完善優質的福利制度】\\\\r\\\\n相較於大型的軟體開發企業，任務分工較細微，專案成員只能參與任務的一小部分。\\\\r\\\\n我們的開發團隊採精兵制，每位成員身懷絕技，就怕你不敢來挖。\\\\r\\\\n我們提供自由揮灑的發展舞台，讓團隊成員更快樂的工作、自由創造更高的工作成就。\\\\r\\\\n對於初出校園的新進夥伴，我們提供專業完整的培訓計畫，讓你按部就班透過實際參與專案過程中，學習各種專業技能。\\\\r\\\\n在我們這裡，每個人都有機會參與並了解專案的全貌，就怕你不敢來挑戰。\\\\r\\\\n只要肯表現、夠積極，老闆給的福利與獎金絕不手軟，就怕你深藏不露。\\\\r\\\\n我們的管理制度自由民主，有任何良善的建議都可以自由提出，升遷管道也非常暢通透明。\\\\r\\\\n團隊成員彼此協助、互相支援，資深同仁也很樂意傳授經驗與秘訣，我們就像一個大家庭。\\\\r\\\\n還在等甚麼，別猶豫！趕緊投遞履歷，加入成為我們的夥伴吧！\", \"optionEdu\": \"專科\", \"period\": \"00\", \"periodDesc\": \"經歷不拘\", \"applyCnt\": \"00011\", \"applyDesc\": \"11~30人應徵\", \"custNo\": \"4139717000\", \"custName\": \"三民輔考集團_台北市私立三民商業短期補習班\", \"coIndustry\": \"1005001004\", \"coIndustryDesc\": \"補習班\", \"salaryLow\": \"0045000\", \"salaryHigh\": \"0060000\", \"salaryDesc\": \"月薪45,000~60,000元\", \"s10\": \"50\", \"appearDate\": \"20201016\", \"appearDateDesc\": \"10/16\", \"optionZone\": \"0\", \"isApply\": \"0\", \"applyDate\": \"\", \"isSave\": \"0\", \"descSnippet\": \"主要工作：\\\\r\\\\n1. .NET 軟體專案與產品開發，使用 ASP.Net(C#) 開發 Web 應用程式。本公司主要產品為企業內部ERP系統及學習系統(LMS)。主要使用技術為MVC, .Net Core, LINQ, CSS, JQuery。使用Visual Studio。\\\\r\\\\n2. 使用Xamarin進行手機App開發。\\\\r\\\\n\\\\r\\\\n擅長工具：\\\\r\\\\n1. 熟悉 ASP.Net、JavaScript 或JQuery、CSS。\\\\r\\\\n2. 資料庫：MS SQL。\\\\r\\\\n3. 技術：熟MVC架構者尤佳。\\\\r\\\\n4. 沒有.Net經驗但有多年Java開發經驗者也可。\\\\r\\\\n\\\\r\\\\n加分條件：\\\\r\\\\n1. ASP.Net/C#撰寫Web應用程式開發經驗至少一年以上者。\\\\r\\\\n2. 具備ERP系統開發與維護經驗優先錄取。\\\\r\\\\n3. 邏輯分析能力強，具備團隊合作精神。\\\\r\\\\n4. 溝通協調能力強，應變能力佳。\\\\r\\\\n5. 創業夥伴型，主動積極，熱愛新挑戰、新學習。\\\\r\\\\n6. 對程式開發及軟體工程具有熱情，願意學習嘗試新技術及架構。\\\\r\\\\n7. 願意以負責任的態度、對工作及所產生之程式進行品質管理。\\\\r\\\\n\\\\r\\\\n【自由揮灑的發展舞台】+【專業完整的培訓計畫】+【透明公平的升遷管道】+【完善優質的福利制度】\\\\r\\\\n相較於大型的軟體開發企業，任務分工較細微，專案成員只能參與任務的一小部分。\\\\r\\\\n我們的開發團隊採精兵制，每位成員身懷絕技，就怕你不敢來挖。\\\\r\\\\n我們提供自由揮灑的發展舞台，讓團隊成員更快樂的工作、自由創造更高的工作成就。\\\\r\\\\n對於初出校園的新進夥伴，我們提供專業完整的培訓計畫，讓你按部就班透過實際參與專案過程中，學習各種專業技能。\\\\r\\\\n在我們這裡，每個人都有機會參與並了解專案的全貌，就怕你不敢來挑戰。\\\\r\\\\n只要肯表現、夠積極，老闆給的福利與獎金絕不手軟，就怕你深藏不露。\\\\r\\\\n我們的管理制度自由民主，有任何良善的建議都可以自由提出，升遷管道也非常暢通透明。\\\\r\\\\n團隊成員彼此協助、互相支援，資深同仁也很樂意傳授經驗與秘訣，我們就像一個大家庭。\\\\r\\\\n還在等甚麼，別猶豫！趕緊投遞履歷，加入成為我們的夥伴吧！\", \"tags\": [\"員工100人\"], \"landmark\": \"距捷運台北車站410公尺\", \"link\": {\"applyAnalyze\": \"//www.104.com.tw/jobs/apply/analysis/6ogx4?channel=104rpt&jobsource=apply_analyze\", \"job\": \"//www.104.com.tw/job/6ogx4?jobsource=n104bank2\", \"cust\": \"//www.104.com.tw/company/1wgoi2w?jobsource=n104bank2\"}, \"jobsource\": \"\", \"jobNameRaw\": \"【台北區】ASP.Net 軟體工程師(C# )\", \"custNameRaw\": \"三民輔考集團_台北市私立三民商業短期補習班\", \"lon\": \"121.5133874\", \"lat\": \"25.046118\"}'\n",
      " 'test_job_desc' 'test_analysis' 20201017]\n",
      "\n"
     ]
    }
   ],
   "source": [
    "def format_search_job_json(j):\n",
    "    print(j)\n",
    "    j = json.loads(j)\n",
    "    print(j['jobType'])\n",
    "    \n",
    "\n",
    "for i, row in df.iterrows():\n",
    "    print(i)\n",
    "    print(row.values)\n",
    "    print()\n",
    "    break"
   ]
  },
  {
   "cell_type": "code",
   "execution_count": null,
   "metadata": {},
   "outputs": [],
   "source": []
  }
 ],
 "metadata": {
  "kernelspec": {
   "display_name": "Python 3",
   "language": "python",
   "name": "python3"
  },
  "language_info": {
   "codemirror_mode": {
    "name": "ipython",
    "version": 3
   },
   "file_extension": ".py",
   "mimetype": "text/x-python",
   "name": "python",
   "nbconvert_exporter": "python",
   "pygments_lexer": "ipython3",
   "version": "3.7.0"
  }
 },
 "nbformat": 4,
 "nbformat_minor": 2
}
