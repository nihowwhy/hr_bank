{
 "cells": [
  {
   "cell_type": "code",
   "execution_count": 1,
   "metadata": {},
   "outputs": [],
   "source": [
    "import json\n",
    "import requests"
   ]
  },
  {
   "cell_type": "code",
   "execution_count": 2,
   "metadata": {},
   "outputs": [],
   "source": [
    "headers = {'Referer': 'https://www.104.com.tw/job/ajax/content/41i1t'}\n",
    "url = 'https://www.104.com.tw/job/ajax/content/41i1t'\n",
    "r = requests.get(url, headers=headers)"
   ]
  },
  {
   "cell_type": "code",
   "execution_count": 3,
   "metadata": {},
   "outputs": [],
   "source": [
    "j = json.loads(r.text)"
   ]
  },
  {
   "cell_type": "code",
   "execution_count": 4,
   "metadata": {},
   "outputs": [
    {
     "data": {
      "text/plain": [
       "{'data': {'corpImageRight': {'corpImageRight': {'imageUrl': '', 'link': ''}},\n",
       "  'header': {'corpImageTop': {'imageUrl': '', 'link': ''},\n",
       "   'jobName': 'Full Stack/Frontend Engineer / 全端/前端工程師',\n",
       "   'appearDate': '2020/09/14',\n",
       "   'custName': '瑞嘉軟體科技股份有限公司',\n",
       "   'custUrl': 'https://www.104.com.tw/company/bjl4o88',\n",
       "   'applyDate': '',\n",
       "   'analysisType': 3,\n",
       "   'analysisUrl': '//www.104.com.tw/jobs/apply/analysis/41i1t',\n",
       "   'isSaved': False,\n",
       "   'isApplied': False},\n",
       "  'contact': {'hrName': 'HR',\n",
       "   'email': '',\n",
       "   'visit': '',\n",
       "   'phone': '',\n",
       "   'other': '',\n",
       "   'reply': '合適者將於7個工作天內主動聯繫，不合適者將不另行通知'},\n",
       "  'environmentPic': {'environmentPic': [{'thumbnailLink': 'https://static.104.com.tw/b_profile/cust_picture/3000/25128953000/env/s_962627717424538225.jpg?v=20200701124734',\n",
       "     'link': 'https://static.104.com.tw/b_profile/cust_picture/3000/25128953000/env/l_962627717424538225.jpg?v=20200701124734',\n",
       "     'description': ''},\n",
       "    {'thumbnailLink': 'https://static.104.com.tw/b_profile/cust_picture/3000/25128953000/env/s_890328564410982482.jpg?v=20200701124734',\n",
       "     'link': 'https://static.104.com.tw/b_profile/cust_picture/3000/25128953000/env/l_890328564410982482.jpg?v=20200701124734',\n",
       "     'description': ''},\n",
       "    {'thumbnailLink': 'https://static.104.com.tw/b_profile/cust_picture/3000/25128953000/env/s_890328564410982481.jpg?v=20200701124734',\n",
       "     'link': 'https://static.104.com.tw/b_profile/cust_picture/3000/25128953000/env/l_890328564410982481.jpg?v=20200701124734',\n",
       "     'description': ''},\n",
       "    {'thumbnailLink': 'https://static.104.com.tw/b_profile/cust_picture/3000/25128953000/env/s_962627717424893457.jpg?v=20200701124734',\n",
       "     'link': 'https://static.104.com.tw/b_profile/cust_picture/3000/25128953000/env/l_962627717424893457.jpg?v=20200701124734',\n",
       "     'description': ''},\n",
       "    {'thumbnailLink': 'https://static.104.com.tw/b_profile/cust_picture/3000/25128953000/env/s_890328564411355057.jpg?v=20200701124734',\n",
       "     'link': 'https://static.104.com.tw/b_profile/cust_picture/3000/25128953000/env/l_890328564411355057.jpg?v=20200701124734',\n",
       "     'description': ''},\n",
       "    {'thumbnailLink': 'https://static.104.com.tw/b_profile/cust_picture/3000/25128953000/env/s_962627717424893458.jpg?v=20200701124734',\n",
       "     'link': 'https://static.104.com.tw/b_profile/cust_picture/3000/25128953000/env/l_962627717424893458.jpg?v=20200701124734',\n",
       "     'description': ''},\n",
       "    {'thumbnailLink': 'https://static.104.com.tw/b_profile/cust_picture/3000/25128953000/env/s_962627717424538226.jpg?v=20200701124734',\n",
       "     'link': 'https://static.104.com.tw/b_profile/cust_picture/3000/25128953000/env/l_962627717424538226.jpg?v=20200701124734',\n",
       "     'description': ''},\n",
       "    {'thumbnailLink': 'https://static.104.com.tw/b_profile/cust_picture/3000/25128953000/env/s_890328564411355085.jpg?v=20200701124734',\n",
       "     'link': 'https://static.104.com.tw/b_profile/cust_picture/3000/25128953000/env/l_890328564411355085.jpg?v=20200701124734',\n",
       "     'description': ''},\n",
       "    {'thumbnailLink': 'https://static.104.com.tw/b_profile/cust_picture/3000/25128953000/env/s_890328564411354973.jpg?v=20200701124734',\n",
       "     'link': 'https://static.104.com.tw/b_profile/cust_picture/3000/25128953000/env/l_890328564411354973.jpg?v=20200701124734',\n",
       "     'description': ''},\n",
       "    {'thumbnailLink': 'https://static.104.com.tw/b_profile/cust_picture/3000/25128953000/env/s_962627717424893459.jpg?v=20200701124734',\n",
       "     'link': 'https://static.104.com.tw/b_profile/cust_picture/3000/25128953000/env/l_962627717424893459.jpg?v=20200701124734',\n",
       "     'description': ''}],\n",
       "   'corpImageBottom': {'imageUrl': 'https://static.104.com.tw/b_profile/cust_picture/3000/25128953000/custintroduce/image1.jpg?v=20200701124734',\n",
       "    'link': 'http://www.onelab.tw/'}},\n",
       "  'condition': {'acceptRole': {'role': [{'code': 1, 'description': '上班族'}],\n",
       "    'disRole': {'needHandicapCompendium': False, 'disability': []}},\n",
       "   'workExp': '1年以上',\n",
       "   'edu': '大學、碩士',\n",
       "   'major': [],\n",
       "   'language': [{'language': '英文', 'ability': '聽 /略懂、說 /略懂、讀 /中等、寫 /略懂'}],\n",
       "   'localLanguage': [],\n",
       "   'specialty': [],\n",
       "   'skill': [],\n",
       "   'certificate': [],\n",
       "   'driverLicense': [],\n",
       "   'other': '【MUST TO HAVE】\\r\\n•  College or above graduate in Computer Science or related field.\\r\\n•  Experience with web front-end technologies, such as HTTP, HTML, Javascript, and jQuery.\\r\\n•  Strong programming experience in ASP.NET and C#.\\r\\n\\r\\n【NICE TO HAVE】\\r\\n•  Experience with designing API is a plus.\\r\\n•  Experience with modern Javascript frameworks, such as ReactJS, is a plus.\\r\\n•  Good teamwork and communication skills.'},\n",
       "  'welfare': {'tag': ['生日假',\n",
       "    '不扣薪病假',\n",
       "    '國外旅遊',\n",
       "    '部門聚餐',\n",
       "    '慶生會',\n",
       "    '員工紅利',\n",
       "    '結婚禮金',\n",
       "    '生育津貼',\n",
       "    '停車費補助',\n",
       "    '員工進修補助',\n",
       "    '年終獎金',\n",
       "    '特殊節日獎金禮品',\n",
       "    '零食櫃',\n",
       "    '咖啡吧',\n",
       "    '員工舒壓按摩'],\n",
       "   'welfare': '✪  本公司所聘任之正職人員得享有以下福利；工讀生/約聘人員之福利則依公司其它相關規定辦理。\\n\\n✪  具市場競爭力的優渥待遇 + 績效獎金(一年兩次，視年度營運及個人績效而定)。 \\n•  提供具競爭力的薪資及保障年薪。\\n•  年節獎金。\\n•  久任獎金。\\n\\n✪  提供優於勞動法規的休假制度，讓員工都能充足休憩釋放壓力，也有更多時間與家人朋友相處。\\n•  一年12天特休，爾後每滿一年加1天，上限30天。\\n•  員工生日當月可享有生日假。\\n•  員工年度健康檢查當日，可享半天健檢假。\\n•  每年提供12天全薪病假。\\n\\n✪  提供多項補助津貼，照護員工基本生活需求。\\n•  結婚禮金。\\n•  生育津貼。\\n•  生日禮券(金)。\\n•  住院及喪葬慰問金。\\n\\n✪  提供周全的保險及醫療、健康等服務，關心員工健康狀態。\\n•  依據法規實行勞保、健保、勞退保險制度。\\n•  提供高額團體保險制度，以提高員工意外醫療保障。\\n•  提供員工年度定期健康檢查。(眷屬自付健檢費，可享有與員工同等的健檢項目)\\n•  健康整脊及按摩服務。\\n\\n✪  規劃多樣休閒活動，讓員工在參與活動之餘，更能貼近及認知公司文化。\\n•  多元化的社團活動(拳擊有氧、拉丁有氧、健身活動及球類運動)。 \\n•  定期舉辦慶生會(外燴或包場電影欣賞)。\\n•  每季部門聚餐。\\n•  年度國外旅遊。(已旅遊景點：杜拜、澳洲、法國、荷蘭、比利時、日本、沖繩、泰國、韓國、香港、峇里島、持續環遊世界中…)\\n\\n✪  提供一個充滿活力和人性化的美式工作環境，讓員工在工作與生活中保持平衡，樂在工作。\\n•  免費供應飲料、現煮研磨咖啡、點心及水果。\\n•  免費休閒娛樂設備，籃球機、撞球檯、桌球檯、按摩椅等。\\n\\n✪  重視夥伴們的成長與職涯學習，不定期舉辦內訓、講座課程，讓員工吸收新知，並鼓勵員工自我進修。 \\n✪  規劃彈性上班時間，讓員工在上下班尖峰時間，免於塞車之苦。\\n✪  凡從以下地區至本公司參加面試應徵者，提供車馬費補助：新竹以南、花蓮、台東。',\n",
       "   'legalTag': []},\n",
       "  'jobDetail': {'jobDescription': '•  Designing, coding, and debugging web applications and services.\\r\\n•  Coordinate with technical lead on current programming tasks.\\r\\n•  Perform requirement analysis, code analysis, system risk analysis, and technical root cause analysis.\\r\\n•  Support, maintain, and document software functionality.\\r\\n•  Continuously learn and improve skills.\\r\\n•  Perform other duties as necessary.',\n",
       "   'jobCategory': [{'code': '2007001006', 'description': 'Internet程式設計師'},\n",
       "    {'code': '2007001004', 'description': '軟體設計工程師'}],\n",
       "   'salary': '月薪55,000~142,000元',\n",
       "   'salaryMin': 55000,\n",
       "   'salaryMax': 142000,\n",
       "   'salaryType': 50,\n",
       "   'jobType': 1,\n",
       "   'workType': [],\n",
       "   'addressRegion': '台北市內湖區',\n",
       "   'addressDetail': '瑞湖街58號8樓',\n",
       "   'industryArea': '內湖科技園區',\n",
       "   'longitude': '121.5756608',\n",
       "   'latitude': '25.074163',\n",
       "   'manageResp': '不需負擔管理責任',\n",
       "   'businessTrip': '無需出差外派',\n",
       "   'workPeriod': '日班',\n",
       "   'vacationPolicy': '週休二日',\n",
       "   'startWorkingDay': '不限',\n",
       "   'hireType': 0,\n",
       "   'delegatedRecruit': '',\n",
       "   'needEmp': '1~3人'},\n",
       "  'switch': 'on',\n",
       "  'custLogo': 'https://static.104.com.tw/b_profile/cust_picture/3000/25128953000/logo.gif?v=20200701124734',\n",
       "  'postalCode': '114',\n",
       "  'closeDate': '2019-11-17',\n",
       "  'industry': '電腦軟體服務業',\n",
       "  'custNo': '25128953000',\n",
       "  'reportUrl': 'https://www.104.com.tw/question_admin/reaction.cfm?j=53414b2f5d63465d3839416a3f453e242656749734f6345282828286b3f682d2c917j51'},\n",
       " 'metadata': {'enableHTML': False, 'hiddenBanner': False}}"
      ]
     },
     "execution_count": 4,
     "metadata": {},
     "output_type": "execute_result"
    }
   ],
   "source": [
    "j"
   ]
  },
  {
   "cell_type": "code",
   "execution_count": 5,
   "metadata": {},
   "outputs": [
    {
     "data": {
      "text/plain": [
       "dict_keys(['data', 'metadata'])"
      ]
     },
     "execution_count": 5,
     "metadata": {},
     "output_type": "execute_result"
    }
   ],
   "source": [
    "j.keys()"
   ]
  },
  {
   "cell_type": "code",
   "execution_count": 6,
   "metadata": {},
   "outputs": [
    {
     "data": {
      "text/plain": [
       "{'enableHTML': False, 'hiddenBanner': False}"
      ]
     },
     "execution_count": 6,
     "metadata": {},
     "output_type": "execute_result"
    }
   ],
   "source": [
    "j['metadata']"
   ]
  },
  {
   "cell_type": "code",
   "execution_count": 7,
   "metadata": {},
   "outputs": [
    {
     "data": {
      "text/plain": [
       "dict_keys(['corpImageRight', 'header', 'contact', 'environmentPic', 'condition', 'welfare', 'jobDetail', 'switch', 'custLogo', 'postalCode', 'closeDate', 'industry', 'custNo', 'reportUrl'])"
      ]
     },
     "execution_count": 7,
     "metadata": {},
     "output_type": "execute_result"
    }
   ],
   "source": [
    "j['data'].keys()"
   ]
  },
  {
   "cell_type": "code",
   "execution_count": 11,
   "metadata": {},
   "outputs": [
    {
     "data": {
      "text/plain": [
       "{'corpImageRight': {'imageUrl': '', 'link': ''}}"
      ]
     },
     "execution_count": 11,
     "metadata": {},
     "output_type": "execute_result"
    }
   ],
   "source": [
    "j['data']['corpImageRight']"
   ]
  },
  {
   "cell_type": "code",
   "execution_count": 7,
   "metadata": {},
   "outputs": [
    {
     "data": {
      "text/plain": [
       "{'corpImageTop': {'imageUrl': '', 'link': ''},\n",
       " 'jobName': 'Full Stack/Frontend Engineer / 全端/前端工程師',\n",
       " 'appearDate': '2020/09/14',\n",
       " 'custName': '瑞嘉軟體科技股份有限公司',\n",
       " 'custUrl': 'https://www.104.com.tw/company/bjl4o88',\n",
       " 'applyDate': '',\n",
       " 'analysisType': 3,\n",
       " 'analysisUrl': '//www.104.com.tw/jobs/apply/analysis/41i1t',\n",
       " 'isSaved': False,\n",
       " 'isApplied': False}"
      ]
     },
     "execution_count": 7,
     "metadata": {},
     "output_type": "execute_result"
    }
   ],
   "source": [
    "j['data']['header']"
   ]
  },
  {
   "cell_type": "code",
   "execution_count": 18,
   "metadata": {},
   "outputs": [
    {
     "name": "stdout",
     "output_type": "stream",
     "text": [
      "•  Designing, coding, and debugging web applications and services.\r\n",
      "[{'code': '2007001006', 'description': 'Internet程式設計師'}, {'code': '2007001004', 'description': '軟體設計工程師'}]\n",
      "月薪55,000~142,000元\n",
      "55000\n",
      "142000\n",
      "50\n",
      "1\n",
      "[]\n",
      "台北市內湖區\n",
      "瑞湖街58號8樓\n",
      "內湖科技園區\n",
      "121.5756608\n",
      "25.074163\n",
      "不需負擔管理責任\n",
      "無需出差外派\n",
      "日班\n",
      "週休二日\n",
      "不限\n",
      "0\n",
      "\n",
      "1~3人\n"
     ]
    }
   ],
   "source": [
    "for k, v in j['data']['jobDetail'].items():\n",
    "#     print(k)\n",
    "    try:\n",
    "        print(v.split('\\n')[0])\n",
    "    except:\n",
    "        print(v)"
   ]
  },
  {
   "cell_type": "code",
   "execution_count": 10,
   "metadata": {},
   "outputs": [
    {
     "data": {
      "text/plain": [
       "{'hrName': 'HR',\n",
       " 'email': '',\n",
       " 'visit': '',\n",
       " 'phone': '',\n",
       " 'other': '',\n",
       " 'reply': '合適者將於7個工作天內主動聯繫，不合適者將不另行通知'}"
      ]
     },
     "execution_count": 10,
     "metadata": {},
     "output_type": "execute_result"
    }
   ],
   "source": [
    "j['data']['contact']"
   ]
  },
  {
   "cell_type": "code",
   "execution_count": 12,
   "metadata": {},
   "outputs": [
    {
     "data": {
      "text/plain": [
       "{'acceptRole': {'role': [{'code': 1, 'description': '上班族'}],\n",
       "  'disRole': {'needHandicapCompendium': False, 'disability': []}},\n",
       " 'workExp': '1年以上',\n",
       " 'edu': '大學、碩士',\n",
       " 'major': [],\n",
       " 'language': [{'language': '英文', 'ability': '聽 /略懂、說 /略懂、讀 /中等、寫 /略懂'}],\n",
       " 'localLanguage': [],\n",
       " 'specialty': [],\n",
       " 'skill': [],\n",
       " 'certificate': [],\n",
       " 'driverLicense': [],\n",
       " 'other': '【MUST TO HAVE】\\r\\n•  College or above graduate in Computer Science or related field.\\r\\n•  Experience with web front-end technologies, such as HTTP, HTML, Javascript, and jQuery.\\r\\n•  Strong programming experience in ASP.NET and C#.\\r\\n\\r\\n【NICE TO HAVE】\\r\\n•  Experience with designing API is a plus.\\r\\n•  Experience with modern Javascript frameworks, such as ReactJS, is a plus.\\r\\n•  Good teamwork and communication skills.'}"
      ]
     },
     "execution_count": 12,
     "metadata": {},
     "output_type": "execute_result"
    }
   ],
   "source": [
    "j['data']['condition']"
   ]
  },
  {
   "cell_type": "code",
   "execution_count": 13,
   "metadata": {},
   "outputs": [
    {
     "data": {
      "text/plain": [
       "{'tag': ['生日假',\n",
       "  '不扣薪病假',\n",
       "  '國外旅遊',\n",
       "  '部門聚餐',\n",
       "  '慶生會',\n",
       "  '員工紅利',\n",
       "  '結婚禮金',\n",
       "  '生育津貼',\n",
       "  '停車費補助',\n",
       "  '員工進修補助',\n",
       "  '年終獎金',\n",
       "  '特殊節日獎金禮品',\n",
       "  '零食櫃',\n",
       "  '咖啡吧',\n",
       "  '員工舒壓按摩'],\n",
       " 'welfare': '✪  本公司所聘任之正職人員得享有以下福利；工讀生/約聘人員之福利則依公司其它相關規定辦理。\\n\\n✪  具市場競爭力的優渥待遇 + 績效獎金(一年兩次，視年度營運及個人績效而定)。 \\n•  提供具競爭力的薪資及保障年薪。\\n•  年節獎金。\\n•  久任獎金。\\n\\n✪  提供優於勞動法規的休假制度，讓員工都能充足休憩釋放壓力，也有更多時間與家人朋友相處。\\n•  一年12天特休，爾後每滿一年加1天，上限30天。\\n•  員工生日當月可享有生日假。\\n•  員工年度健康檢查當日，可享半天健檢假。\\n•  每年提供12天全薪病假。\\n\\n✪  提供多項補助津貼，照護員工基本生活需求。\\n•  結婚禮金。\\n•  生育津貼。\\n•  生日禮券(金)。\\n•  住院及喪葬慰問金。\\n\\n✪  提供周全的保險及醫療、健康等服務，關心員工健康狀態。\\n•  依據法規實行勞保、健保、勞退保險制度。\\n•  提供高額團體保險制度，以提高員工意外醫療保障。\\n•  提供員工年度定期健康檢查。(眷屬自付健檢費，可享有與員工同等的健檢項目)\\n•  健康整脊及按摩服務。\\n\\n✪  規劃多樣休閒活動，讓員工在參與活動之餘，更能貼近及認知公司文化。\\n•  多元化的社團活動(拳擊有氧、拉丁有氧、健身活動及球類運動)。 \\n•  定期舉辦慶生會(外燴或包場電影欣賞)。\\n•  每季部門聚餐。\\n•  年度國外旅遊。(已旅遊景點：杜拜、澳洲、法國、荷蘭、比利時、日本、沖繩、泰國、韓國、香港、峇里島、持續環遊世界中…)\\n\\n✪  提供一個充滿活力和人性化的美式工作環境，讓員工在工作與生活中保持平衡，樂在工作。\\n•  免費供應飲料、現煮研磨咖啡、點心及水果。\\n•  免費休閒娛樂設備，籃球機、撞球檯、桌球檯、按摩椅等。\\n\\n✪  重視夥伴們的成長與職涯學習，不定期舉辦內訓、講座課程，讓員工吸收新知，並鼓勵員工自我進修。 \\n✪  規劃彈性上班時間，讓員工在上下班尖峰時間，免於塞車之苦。\\n✪  凡從以下地區至本公司參加面試應徵者，提供車馬費補助：新竹以南、花蓮、台東。',\n",
       " 'legalTag': []}"
      ]
     },
     "execution_count": 13,
     "metadata": {},
     "output_type": "execute_result"
    }
   ],
   "source": [
    "j['data']['welfare']"
   ]
  },
  {
   "cell_type": "code",
   "execution_count": 14,
   "metadata": {},
   "outputs": [
    {
     "data": {
      "text/plain": [
       "{'jobDescription': '•  Designing, coding, and debugging web applications and services.\\r\\n•  Coordinate with technical lead on current programming tasks.\\r\\n•  Perform requirement analysis, code analysis, system risk analysis, and technical root cause analysis.\\r\\n•  Support, maintain, and document software functionality.\\r\\n•  Continuously learn and improve skills.\\r\\n•  Perform other duties as necessary.',\n",
       " 'jobCategory': [{'code': '2007001006', 'description': 'Internet程式設計師'},\n",
       "  {'code': '2007001004', 'description': '軟體設計工程師'}],\n",
       " 'salary': '月薪55,000~142,000元',\n",
       " 'salaryMin': 55000,\n",
       " 'salaryMax': 142000,\n",
       " 'salaryType': 50,\n",
       " 'jobType': 1,\n",
       " 'workType': [],\n",
       " 'addressRegion': '台北市內湖區',\n",
       " 'addressDetail': '瑞湖街58號8樓',\n",
       " 'industryArea': '內湖科技園區',\n",
       " 'longitude': '121.5756608',\n",
       " 'latitude': '25.074163',\n",
       " 'manageResp': '不需負擔管理責任',\n",
       " 'businessTrip': '無需出差外派',\n",
       " 'workPeriod': '日班',\n",
       " 'vacationPolicy': '週休二日',\n",
       " 'startWorkingDay': '不限',\n",
       " 'hireType': 0,\n",
       " 'delegatedRecruit': '',\n",
       " 'needEmp': '1~3人'}"
      ]
     },
     "execution_count": 14,
     "metadata": {},
     "output_type": "execute_result"
    }
   ],
   "source": [
    "j['data']['jobDetail']"
   ]
  },
  {
   "cell_type": "code",
   "execution_count": 15,
   "metadata": {},
   "outputs": [
    {
     "data": {
      "text/plain": [
       "'on'"
      ]
     },
     "execution_count": 15,
     "metadata": {},
     "output_type": "execute_result"
    }
   ],
   "source": [
    "j['data']['switch']"
   ]
  },
  {
   "cell_type": "code",
   "execution_count": 16,
   "metadata": {},
   "outputs": [
    {
     "data": {
      "text/plain": [
       "'114'"
      ]
     },
     "execution_count": 16,
     "metadata": {},
     "output_type": "execute_result"
    }
   ],
   "source": [
    "j['data']['postalCode']"
   ]
  },
  {
   "cell_type": "code",
   "execution_count": 17,
   "metadata": {},
   "outputs": [
    {
     "data": {
      "text/plain": [
       "'2019-11-17'"
      ]
     },
     "execution_count": 17,
     "metadata": {},
     "output_type": "execute_result"
    }
   ],
   "source": [
    "j['data']['closeDate']"
   ]
  },
  {
   "cell_type": "code",
   "execution_count": 18,
   "metadata": {},
   "outputs": [
    {
     "data": {
      "text/plain": [
       "'電腦軟體服務業'"
      ]
     },
     "execution_count": 18,
     "metadata": {},
     "output_type": "execute_result"
    }
   ],
   "source": [
    "j['data']['industry']"
   ]
  },
  {
   "cell_type": "code",
   "execution_count": 19,
   "metadata": {},
   "outputs": [
    {
     "data": {
      "text/plain": [
       "'25128953000'"
      ]
     },
     "execution_count": 19,
     "metadata": {},
     "output_type": "execute_result"
    }
   ],
   "source": [
    "j['data']['custNo']"
   ]
  },
  {
   "cell_type": "code",
   "execution_count": 20,
   "metadata": {},
   "outputs": [
    {
     "data": {
      "text/plain": [
       "'https://www.104.com.tw/question_admin/reaction.cfm?j=53414b2f5d63465d3839416a3f453e242656749734f6345282828286b3f682d2c917j51'"
      ]
     },
     "execution_count": 20,
     "metadata": {},
     "output_type": "execute_result"
    }
   ],
   "source": [
    "j['data']['reportUrl']"
   ]
  },
  {
   "cell_type": "code",
   "execution_count": null,
   "metadata": {},
   "outputs": [],
   "source": []
  }
 ],
 "metadata": {
  "kernelspec": {
   "display_name": "Python 3",
   "language": "python",
   "name": "python3"
  },
  "language_info": {
   "codemirror_mode": {
    "name": "ipython",
    "version": 3
   },
   "file_extension": ".py",
   "mimetype": "text/x-python",
   "name": "python",
   "nbconvert_exporter": "python",
   "pygments_lexer": "ipython3",
   "version": "3.7.0"
  }
 },
 "nbformat": 4,
 "nbformat_minor": 2
}
