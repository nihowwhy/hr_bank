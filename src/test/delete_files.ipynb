{
 "cells": [
  {
   "cell_type": "code",
   "execution_count": 1,
   "metadata": {},
   "outputs": [],
   "source": [
    "import os"
   ]
  },
  {
   "cell_type": "code",
   "execution_count": 10,
   "metadata": {},
   "outputs": [
    {
     "data": {
      "text/plain": [
       "['20210822_736qt_search_page.json',\n",
       " '20210822_734xq_search_page.json',\n",
       " '20210822_734xu_search_page.json',\n",
       " '20210822_6yqme_search_page.json',\n",
       " '20210822_734xj_search_page.json',\n",
       " '20210822_6oas9_search_page.json',\n",
       " '20210822_65ek3_search_page.json',\n",
       " '20210822_7ccmv_search_page.json',\n",
       " '20210822_6n7ry_search_page.json',\n",
       " '20210822_6zf5l_search_page.json']"
      ]
     },
     "execution_count": 10,
     "metadata": {},
     "output_type": "execute_result"
    }
   ],
   "source": [
    "folder_path = '../../data/raw_search/'\n",
    "filenames = os.listdir(folder_path)\n",
    "filenames"
   ]
  },
  {
   "cell_type": "code",
   "execution_count": 11,
   "metadata": {},
   "outputs": [],
   "source": [
    "for filename in filenames:\n",
    "    filepath = os.path.join(folder_path, filename)\n",
    "    if os.path.exists(filepath):\n",
    "        os.remove(filepath)"
   ]
  },
  {
   "cell_type": "code",
   "execution_count": null,
   "metadata": {},
   "outputs": [],
   "source": []
  }
 ],
 "metadata": {
  "kernelspec": {
   "display_name": "Python 3",
   "language": "python",
   "name": "python3"
  },
  "language_info": {
   "codemirror_mode": {
    "name": "ipython",
    "version": 3
   },
   "file_extension": ".py",
   "mimetype": "text/x-python",
   "name": "python",
   "nbconvert_exporter": "python",
   "pygments_lexer": "ipython3",
   "version": "3.7.0"
  }
 },
 "nbformat": 4,
 "nbformat_minor": 2
}
