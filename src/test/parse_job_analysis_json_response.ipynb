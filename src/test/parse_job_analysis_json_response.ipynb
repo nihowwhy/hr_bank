{
 "cells": [
  {
   "cell_type": "code",
   "execution_count": 1,
   "metadata": {},
   "outputs": [],
   "source": [
    "import json\n",
    "import requests\n",
    "\n",
    "headers = {'Referer': 'https://www.104.com.tw/job/ajax/content/41i1t'}\n",
    "url = 'https://www.104.com.tw/jb/104i/applyAnalysisToJob/all?job_no=6788513'\n",
    "r = requests.get(url, headers=headers)\n",
    "j = json.loads(r.text)"
   ]
  },
  {
   "cell_type": "code",
   "execution_count": 2,
   "metadata": {},
   "outputs": [
    {
     "data": {
      "text/plain": [
       "{'sex': {'0': {'sexName': '男', 'count': '23', 'percent': '85.19'},\n",
       "  '1': {'sexName': '女', 'count': '4', 'percent': '14.81'},\n",
       "  'update_time': '2020-10-17 02:08:52',\n",
       "  'total': '27'},\n",
       " 'edu': {'0': {'eduName': '博碩士', 'count': '11', 'percent': '40.74'},\n",
       "  '1': {'eduName': '大學', 'count': '13', 'percent': '48.15'},\n",
       "  '2': {'eduName': '專科', 'count': 0, 'percent': '0.00'},\n",
       "  '3': {'eduName': '高中職', 'count': '2', 'percent': '7.41'},\n",
       "  '4': {'eduName': '國中(含)以下', 'count': 0, 'percent': '0.00'},\n",
       "  '5': {'eduName': '不拘', 'count': 0, 'percent': '0.00'},\n",
       "  '6': {'eduName': '無法判斷', 'count': 1, 'percent': '3.70'},\n",
       "  'update_time': '2020-10-17 02:08:52',\n",
       "  'total': '27'},\n",
       " 'yearRange': {'0': {'yearRangeName': '20歲以下', 'count': 0, 'percent': '0.00'},\n",
       "  '1': {'yearRangeName': '21~25歲', 'count': '8', 'percent': '29.63'},\n",
       "  '2': {'yearRangeName': '26~30歲', 'count': '16', 'percent': '59.26'},\n",
       "  '3': {'yearRangeName': '31~35歲', 'count': '1', 'percent': '3.70'},\n",
       "  '4': {'yearRangeName': '36~40歲', 'count': '1', 'percent': '3.70'},\n",
       "  '5': {'yearRangeName': '41~45歲', 'count': '1', 'percent': '3.70'},\n",
       "  '6': {'yearRangeName': '46~50歲', 'count': 0, 'percent': '0.00'},\n",
       "  '7': {'yearRangeName': '51~55歲', 'count': 0, 'percent': '0.00'},\n",
       "  '8': {'yearRangeName': '56~60歲', 'count': 0, 'percent': '0.00'},\n",
       "  '9': {'yearRangeName': '60歲以上', 'count': 0, 'percent': '0.00'},\n",
       "  'update_time': '2020-10-17 02:08:52',\n",
       "  'total': '27'},\n",
       " 'exp': {'0': {'expName': '無工作經驗', 'count': '4', 'percent': '14.81'},\n",
       "  '1': {'expName': '1年以下', 'count': '5', 'percent': '18.52'},\n",
       "  '2': {'expName': '1~3年 ', 'count': '7', 'percent': '25.93'},\n",
       "  '3': {'expName': '3~5年', 'count': '4', 'percent': '14.81'},\n",
       "  '4': {'expName': '5~10年', 'count': '6', 'percent': '22.22'},\n",
       "  '5': {'expName': '10~15年', 'count': '1', 'percent': '3.70'},\n",
       "  '6': {'expName': '15~20年', 'count': 0, 'percent': '0.00'},\n",
       "  '7': {'expName': '20~25年', 'count': 0, 'percent': '0.00'},\n",
       "  '8': {'expName': '25年以上', 'count': 0, 'percent': '0.00'},\n",
       "  'update_time': '2020-10-17 02:08:52',\n",
       "  'total': '27'},\n",
       " 'language': {'update_time': '2020-10-17 02:08:52',\n",
       "  'total': '27',\n",
       "  '0': {'lang_no': '1',\n",
       "   'langName': '英文',\n",
       "   'count': 23,\n",
       "   'percent': 85.18,\n",
       "   'level': {'3': {'level_no': '2',\n",
       "     'levelName': '精通',\n",
       "     'count': '9',\n",
       "     'percent': '33.33'},\n",
       "    '1': {'level_no': '4',\n",
       "     'levelName': '略懂',\n",
       "     'count': '6',\n",
       "     'percent': '22.22'},\n",
       "    '2': {'level_no': '8',\n",
       "     'levelName': '中等',\n",
       "     'count': '8',\n",
       "     'percent': '29.63'}}},\n",
       "  '1': {'lang_no': '12',\n",
       "   'langName': '印尼文',\n",
       "   'count': 1,\n",
       "   'percent': 3.7,\n",
       "   'level': {'3': {'level_no': '2',\n",
       "     'levelName': '精通',\n",
       "     'count': '1',\n",
       "     'percent': '3.70'}}},\n",
       "  '2': {'lang_no': '3',\n",
       "   'langName': '法文',\n",
       "   'count': 1,\n",
       "   'percent': 3.7,\n",
       "   'level': {'3': {'level_no': '2',\n",
       "     'levelName': '精通',\n",
       "     'count': '1',\n",
       "     'percent': '3.70'}}},\n",
       "  '3': {'lang_no': '2',\n",
       "   'langName': '日文',\n",
       "   'count': 3,\n",
       "   'percent': 11.11,\n",
       "   'level': {'3': {'level_no': '2',\n",
       "     'levelName': '精通',\n",
       "     'count': '2',\n",
       "     'percent': '7.41'},\n",
       "    '1': {'level_no': '4',\n",
       "     'levelName': '略懂',\n",
       "     'count': '1',\n",
       "     'percent': '3.70'}}},\n",
       "  '4': {'lang_no': '18',\n",
       "   'langName': '中文',\n",
       "   'count': 7,\n",
       "   'percent': 25.93,\n",
       "   'level': {'3': {'level_no': '2',\n",
       "     'levelName': '精通',\n",
       "     'count': '5',\n",
       "     'percent': '18.52'},\n",
       "    '2': {'level_no': '8',\n",
       "     'levelName': '中等',\n",
       "     'count': '2',\n",
       "     'percent': '7.41'}}}},\n",
       " 'major': {'update_time': '2020-10-17 02:08:52',\n",
       "  'total': '27',\n",
       "  '0': {'major': '3008004000',\n",
       "   'majorName': '資訊工程相關',\n",
       "   'count': '9',\n",
       "   'percent': '33.33'},\n",
       "  '1': {'major': '3011008000',\n",
       "   'majorName': '電機電子工程相關',\n",
       "   'count': '3',\n",
       "   'percent': '11.11'},\n",
       "  '2': {'major': '3006005000',\n",
       "   'majorName': '資訊管理相關',\n",
       "   'count': '3',\n",
       "   'percent': '11.11'},\n",
       "  '3': {'major': '3006001000',\n",
       "   'majorName': '一般商業學類',\n",
       "   'count': '2',\n",
       "   'percent': '7.41'},\n",
       "  '4': {'major': '3008005000',\n",
       "   'majorName': '其他數學及電算機科學相關',\n",
       "   'count': '2',\n",
       "   'percent': '7.41'},\n",
       "  '5': {'major': '3011001000',\n",
       "   'majorName': '測量工程相關',\n",
       "   'count': '1',\n",
       "   'percent': '3.70'},\n",
       "  '6': {'major': '3010001000',\n",
       "   'majorName': '電機電子維護相關',\n",
       "   'count': '1',\n",
       "   'percent': '3.70'},\n",
       "  '7': {'major': '3001001000',\n",
       "   'majorName': '綜合教育相關',\n",
       "   'count': '1',\n",
       "   'percent': '3.70'},\n",
       "  '8': {'major': '3007002000',\n",
       "   'majorName': '化學相關',\n",
       "   'count': '1',\n",
       "   'percent': '3.70'},\n",
       "  '9': {'major': '3006007000',\n",
       "   'majorName': '工業管理相關',\n",
       "   'count': '1',\n",
       "   'percent': '3.70'}},\n",
       " 'skill': {'update_time': '2020-10-17 02:08:52',\n",
       "  'total': '27',\n",
       "  '0': {'skill': '12001006017',\n",
       "   'skillName': 'JavaScript',\n",
       "   'count': '16',\n",
       "   'percent': '59.26'},\n",
       "  '1': {'skill': '12001004032',\n",
       "   'skillName': 'MySQL',\n",
       "   'count': '13',\n",
       "   'percent': '48.15'},\n",
       "  '2': {'skill': '12001006013',\n",
       "   'skillName': 'HTML',\n",
       "   'count': '15',\n",
       "   'percent': '55.56'},\n",
       "  '3': {'skill': '12001006030',\n",
       "   'skillName': 'jQuery',\n",
       "   'count': '10',\n",
       "   'percent': '37.04'},\n",
       "  '4': {'skill': '12001003009',\n",
       "   'skillName': 'C#',\n",
       "   'count': '10',\n",
       "   'percent': '37.04'},\n",
       "  '5': {'skill': '12001003025',\n",
       "   'skillName': 'Java',\n",
       "   'count': '10',\n",
       "   'percent': '37.04'},\n",
       "  '6': {'skill': '12001003004',\n",
       "   'skillName': 'AJAX',\n",
       "   'count': '7',\n",
       "   'percent': '25.93'},\n",
       "  '7': {'skill': '12001006032',\n",
       "   'skillName': 'CSS',\n",
       "   'count': '8',\n",
       "   'percent': '29.63'},\n",
       "  '8': {'skill': '12001003006',\n",
       "   'skillName': 'ASP.NET',\n",
       "   'count': '6',\n",
       "   'percent': '22.22'},\n",
       "  '9': {'skill': '12001003041',\n",
       "   'skillName': 'PHP',\n",
       "   'count': '5',\n",
       "   'percent': '18.52'}},\n",
       " 'cert': {'update_time': '2020-10-17 02:08:52',\n",
       "  'total': '27',\n",
       "  '0': {'cert': '4001001005',\n",
       "   'certName': 'TOEIC (多益測驗)',\n",
       "   'count': '6',\n",
       "   'percent': '22.22'},\n",
       "  '1': {'cert': '4002036020',\n",
       "   'certName': '進階軟體設計專業人員',\n",
       "   'count': '1',\n",
       "   'percent': '3.70'},\n",
       "  '2': {'cert': '4002036042',\n",
       "   'certName': '基礎軟體開發',\n",
       "   'count': '1',\n",
       "   'percent': '3.70'},\n",
       "  '3': {'cert': '4002036043',\n",
       "   'certName': '基礎軟體設計',\n",
       "   'count': '1',\n",
       "   'percent': '3.70'},\n",
       "  '4': {'cert': '4002036019',\n",
       "   'certName': '進階資料庫設計專業人員',\n",
       "   'count': '1',\n",
       "   'percent': '3.70'},\n",
       "  '5': {'cert': '4002036044',\n",
       "   'certName': '程式設計語言',\n",
       "   'count': '1',\n",
       "   'percent': '3.70'},\n",
       "  '6': {'cert': '4002035083',\n",
       "   'certName': '商務軟體應用能力 LibreOffice ',\n",
       "   'count': '1',\n",
       "   'percent': '3.70'},\n",
       "  '7': {'cert': '4002044027',\n",
       "   'certName': '網站程式設計',\n",
       "   'count': '1',\n",
       "   'percent': '3.70'},\n",
       "  '8': {'cert': '4002035065',\n",
       "   'certName': '程式設計JAVA JDK1.4',\n",
       "   'count': '1',\n",
       "   'percent': '3.70'},\n",
       "  '9': {'cert': '4002044024',\n",
       "   'certName': '軟體開發知識',\n",
       "   'count': '1',\n",
       "   'percent': '3.70'}}}"
      ]
     },
     "execution_count": 2,
     "metadata": {},
     "output_type": "execute_result"
    }
   ],
   "source": [
    "j"
   ]
  },
  {
   "cell_type": "code",
   "execution_count": 3,
   "metadata": {},
   "outputs": [
    {
     "data": {
      "text/plain": [
       "dict_keys(['sex', 'edu', 'yearRange', 'exp', 'language', 'major', 'skill', 'cert'])"
      ]
     },
     "execution_count": 3,
     "metadata": {},
     "output_type": "execute_result"
    }
   ],
   "source": [
    "j.keys()"
   ]
  },
  {
   "cell_type": "code",
   "execution_count": 4,
   "metadata": {},
   "outputs": [
    {
     "data": {
      "text/plain": [
       "{'0': {'sexName': '男', 'count': '34', 'percent': '91.89'},\n",
       " '1': {'sexName': '女', 'count': '3', 'percent': '8.11'},\n",
       " 'update_time': '2020-09-11 02:15:40',\n",
       " 'total': '37'}"
      ]
     },
     "execution_count": 4,
     "metadata": {},
     "output_type": "execute_result"
    }
   ],
   "source": [
    "j['sex']"
   ]
  },
  {
   "cell_type": "code",
   "execution_count": 5,
   "metadata": {},
   "outputs": [
    {
     "data": {
      "text/plain": [
       "{'0': {'eduName': '博碩士', 'count': '12', 'percent': '32.43'},\n",
       " '1': {'eduName': '大學', 'count': '21', 'percent': '56.76'},\n",
       " '2': {'eduName': '專科', 'count': '1', 'percent': '2.70'},\n",
       " '3': {'eduName': '高中職', 'count': '1', 'percent': '2.70'},\n",
       " '4': {'eduName': '國中(含)以下', 'count': 0, 'percent': '0.00'},\n",
       " '5': {'eduName': '不拘', 'count': 0, 'percent': '0.00'},\n",
       " '6': {'eduName': '無法判斷', 'count': 2, 'percent': '5.41'},\n",
       " 'update_time': '2020-09-11 02:15:40',\n",
       " 'total': '37'}"
      ]
     },
     "execution_count": 5,
     "metadata": {},
     "output_type": "execute_result"
    }
   ],
   "source": [
    "j['edu']"
   ]
  },
  {
   "cell_type": "code",
   "execution_count": 6,
   "metadata": {},
   "outputs": [
    {
     "data": {
      "text/plain": [
       "{'0': {'yearRangeName': '20歲以下', 'count': 0, 'percent': '0.00'},\n",
       " '1': {'yearRangeName': '21~25歲', 'count': '9', 'percent': '24.32'},\n",
       " '2': {'yearRangeName': '26~30歲', 'count': '12', 'percent': '32.43'},\n",
       " '3': {'yearRangeName': '31~35歲', 'count': '10', 'percent': '27.03'},\n",
       " '4': {'yearRangeName': '36~40歲', 'count': '1', 'percent': '2.70'},\n",
       " '5': {'yearRangeName': '41~45歲', 'count': '3', 'percent': '8.11'},\n",
       " '6': {'yearRangeName': '46~50歲', 'count': '1', 'percent': '2.70'},\n",
       " '7': {'yearRangeName': '51~55歲', 'count': 0, 'percent': '0.00'},\n",
       " '8': {'yearRangeName': '56~60歲', 'count': 0, 'percent': '0.00'},\n",
       " '9': {'yearRangeName': '60歲以上', 'count': '1', 'percent': '2.70'},\n",
       " 'update_time': '2020-09-11 02:15:40',\n",
       " 'total': '37'}"
      ]
     },
     "execution_count": 6,
     "metadata": {},
     "output_type": "execute_result"
    }
   ],
   "source": [
    "j['yearRange']"
   ]
  },
  {
   "cell_type": "code",
   "execution_count": 7,
   "metadata": {},
   "outputs": [
    {
     "data": {
      "text/plain": [
       "{'0': {'expName': '無工作經驗', 'count': '3', 'percent': '8.11'},\n",
       " '1': {'expName': '1年以下', 'count': '5', 'percent': '13.51'},\n",
       " '2': {'expName': '1~3年 ', 'count': '7', 'percent': '18.92'},\n",
       " '3': {'expName': '3~5年', 'count': '12', 'percent': '32.43'},\n",
       " '4': {'expName': '5~10年', 'count': '8', 'percent': '21.62'},\n",
       " '5': {'expName': '10~15年', 'count': 0, 'percent': '0.00'},\n",
       " '6': {'expName': '15~20年', 'count': '2', 'percent': '5.41'},\n",
       " '7': {'expName': '20~25年', 'count': 0, 'percent': '0.00'},\n",
       " '8': {'expName': '25年以上', 'count': 0, 'percent': '0.00'},\n",
       " 'update_time': '2020-09-11 02:15:40',\n",
       " 'total': '37'}"
      ]
     },
     "execution_count": 7,
     "metadata": {},
     "output_type": "execute_result"
    }
   ],
   "source": [
    "j['exp']"
   ]
  },
  {
   "cell_type": "code",
   "execution_count": 8,
   "metadata": {},
   "outputs": [
    {
     "data": {
      "text/plain": [
       "{'update_time': '2020-09-11 02:15:40',\n",
       " 'total': '37',\n",
       " '0': {'lang_no': '1',\n",
       "  'langName': '英文',\n",
       "  'count': 33,\n",
       "  'percent': 89.19,\n",
       "  'level': {'3': {'level_no': '2',\n",
       "    'levelName': '精通',\n",
       "    'count': '9',\n",
       "    'percent': '24.32'},\n",
       "   '1': {'level_no': '4',\n",
       "    'levelName': '略懂',\n",
       "    'count': '10',\n",
       "    'percent': '27.03'},\n",
       "   '2': {'level_no': '8',\n",
       "    'levelName': '中等',\n",
       "    'count': '14',\n",
       "    'percent': '37.84'}}},\n",
       " '1': {'lang_no': '14',\n",
       "  'langName': '俄文',\n",
       "  'count': 1,\n",
       "  'percent': 2.7,\n",
       "  'level': {'3': {'level_no': '2',\n",
       "    'levelName': '精通',\n",
       "    'count': '1',\n",
       "    'percent': '2.70'}}},\n",
       " '2': {'lang_no': '49',\n",
       "  'langName': '其他外文',\n",
       "  'count': 1,\n",
       "  'percent': 2.7,\n",
       "  'level': {'3': {'level_no': '2',\n",
       "    'levelName': '精通',\n",
       "    'count': '1',\n",
       "    'percent': '2.70'}}},\n",
       " '3': {'lang_no': '5',\n",
       "  'langName': '西班牙文',\n",
       "  'count': 1,\n",
       "  'percent': 2.7,\n",
       "  'level': {'3': {'level_no': '2',\n",
       "    'levelName': '精通',\n",
       "    'count': '1',\n",
       "    'percent': '2.70'}}},\n",
       " '4': {'lang_no': '3',\n",
       "  'langName': '法文',\n",
       "  'count': 1,\n",
       "  'percent': 2.7,\n",
       "  'level': {'3': {'level_no': '2',\n",
       "    'levelName': '精通',\n",
       "    'count': '1',\n",
       "    'percent': '2.70'}}},\n",
       " '5': {'lang_no': '11',\n",
       "  'langName': '馬來文',\n",
       "  'count': 1,\n",
       "  'percent': 2.7,\n",
       "  'level': {'2': {'level_no': '8',\n",
       "    'levelName': '中等',\n",
       "    'count': '1',\n",
       "    'percent': '2.70'}}},\n",
       " '6': {'lang_no': '4',\n",
       "  'langName': '德文',\n",
       "  'count': 1,\n",
       "  'percent': 2.7,\n",
       "  'level': {'1': {'level_no': '4',\n",
       "    'levelName': '略懂',\n",
       "    'count': '1',\n",
       "    'percent': '2.70'}}},\n",
       " '7': {'lang_no': '2',\n",
       "  'langName': '日文',\n",
       "  'count': 1,\n",
       "  'percent': 2.7,\n",
       "  'level': [{'level_no': '1',\n",
       "    'levelName': '不會',\n",
       "    'count': '1',\n",
       "    'percent': '2.70'}]}}"
      ]
     },
     "execution_count": 8,
     "metadata": {},
     "output_type": "execute_result"
    }
   ],
   "source": [
    "j['language']"
   ]
  },
  {
   "cell_type": "code",
   "execution_count": 9,
   "metadata": {},
   "outputs": [
    {
     "data": {
      "text/plain": [
       "{'update_time': '2020-09-11 02:15:40',\n",
       " 'total': '37',\n",
       " '0': {'major': '3008004000',\n",
       "  'majorName': '資訊工程相關',\n",
       "  'count': '10',\n",
       "  'percent': '27.03'},\n",
       " '1': {'major': '3006005000',\n",
       "  'majorName': '資訊管理相關',\n",
       "  'count': '8',\n",
       "  'percent': '21.62'},\n",
       " '2': {'major': '3011008000',\n",
       "  'majorName': '電機電子工程相關',\n",
       "  'count': '7',\n",
       "  'percent': '18.92'},\n",
       " '3': {'major': '3008005000',\n",
       "  'majorName': '其他數學及電算機科學相關',\n",
       "  'count': '2',\n",
       "  'percent': '5.41'},\n",
       " '4': {'major': '3012001000',\n",
       "  'majorName': '建築相關',\n",
       "  'count': '1',\n",
       "  'percent': '2.70'},\n",
       " '5': {'major': '3011017000',\n",
       "  'majorName': '其他工程相關',\n",
       "  'count': '1',\n",
       "  'percent': '2.70'},\n",
       " '6': {'major': '3011004000',\n",
       "  'majorName': '材料工程相關',\n",
       "  'count': '1',\n",
       "  'percent': '2.70'},\n",
       " '7': {'major': '3003008000',\n",
       "  'majorName': '哲學相關',\n",
       "  'count': '1',\n",
       "  'percent': '2.70'},\n",
       " '8': {'major': '3008003000',\n",
       "  'majorName': '應用數學相關',\n",
       "  'count': '1',\n",
       "  'percent': '2.70'},\n",
       " '9': {'major': '3006014000',\n",
       "  'majorName': '其他商業及管理相關',\n",
       "  'count': '1',\n",
       "  'percent': '2.70'}}"
      ]
     },
     "execution_count": 9,
     "metadata": {},
     "output_type": "execute_result"
    }
   ],
   "source": [
    "j['major']"
   ]
  },
  {
   "cell_type": "code",
   "execution_count": 10,
   "metadata": {},
   "outputs": [
    {
     "data": {
      "text/plain": [
       "{'update_time': '2020-09-11 02:15:40',\n",
       " 'total': '37',\n",
       " '0': {'skill': '12001003009',\n",
       "  'skillName': 'C#',\n",
       "  'count': '15',\n",
       "  'percent': '40.54'},\n",
       " '1': {'skill': '12001006030',\n",
       "  'skillName': 'jQuery',\n",
       "  'count': '12',\n",
       "  'percent': '32.43'},\n",
       " '2': {'skill': '12001006017',\n",
       "  'skillName': 'JavaScript',\n",
       "  'count': '15',\n",
       "  'percent': '40.54'},\n",
       " '3': {'skill': '12001003006',\n",
       "  'skillName': 'ASP.NET',\n",
       "  'count': '9',\n",
       "  'percent': '24.32'},\n",
       " '4': {'skill': '12001003025',\n",
       "  'skillName': 'Java',\n",
       "  'count': '14',\n",
       "  'percent': '37.84'},\n",
       " '5': {'skill': '12001004031',\n",
       "  'skillName': 'MS SQL',\n",
       "  'count': '11',\n",
       "  'percent': '29.73'},\n",
       " '6': {'skill': '12001003067',\n",
       "  'skillName': 'Visual Studio .net',\n",
       "  'count': '6',\n",
       "  'percent': '16.22'},\n",
       " '7': {'skill': '12001006032',\n",
       "  'skillName': 'CSS',\n",
       "  'count': '9',\n",
       "  'percent': '24.32'},\n",
       " '8': {'skill': '12001003004',\n",
       "  'skillName': 'AJAX',\n",
       "  'count': '6',\n",
       "  'percent': '16.22'},\n",
       " '9': {'skill': '12001006027',\n",
       "  'skillName': 'XML',\n",
       "  'count': '5',\n",
       "  'percent': '13.51'}}"
      ]
     },
     "execution_count": 10,
     "metadata": {},
     "output_type": "execute_result"
    }
   ],
   "source": [
    "j['skill']"
   ]
  },
  {
   "cell_type": "code",
   "execution_count": 11,
   "metadata": {},
   "outputs": [
    {
     "data": {
      "text/plain": [
       "{'update_time': '2020-09-11 02:15:40',\n",
       " 'total': '37',\n",
       " '0': {'cert': '4001001005',\n",
       "  'certName': 'TOEIC (多益測驗)',\n",
       "  'count': '6',\n",
       "  'percent': '16.22'},\n",
       " '1': {'cert': '4002037005',\n",
       "  'certName': '丙級電腦硬體裝修技術士',\n",
       "  'count': '2',\n",
       "  'percent': '5.41'},\n",
       " '2': {'cert': '4002035047',\n",
       "  'certName': 'TQC專業Linux網路管理工程師',\n",
       "  'count': '1',\n",
       "  'percent': '2.70'},\n",
       " '3': {'cert': '4002035048',\n",
       "  'certName': 'TQC專業Linux系統管理工程師',\n",
       "  'count': '1',\n",
       "  'percent': '2.70'},\n",
       " '4': {'cert': '4001005010',\n",
       "  'certName': '華語文能力測驗-口語入門基礎級',\n",
       "  'count': '1',\n",
       "  'percent': '2.70'},\n",
       " '5': {'cert': '4002036003',\n",
       "  'certName': 'IT Expert-資訊管理(應用)專業人員',\n",
       "  'count': '1',\n",
       "  'percent': '2.70'},\n",
       " '6': {'cert': '4003003004',\n",
       "  'certName': '乙級精密機械工技術士',\n",
       "  'count': '1',\n",
       "  'percent': '2.70'},\n",
       " '7': {'cert': '4002007002',\n",
       "  'certName': 'SCJP',\n",
       "  'count': '1',\n",
       "  'percent': '2.70'},\n",
       " '8': {'cert': '4002037006',\n",
       "  'certName': '丙級網路架設技術士',\n",
       "  'count': '1',\n",
       "  'percent': '2.70'},\n",
       " '9': {'cert': '4002035026',\n",
       "  'certName': 'TQC-DK電子商務概論',\n",
       "  'count': '1',\n",
       "  'percent': '2.70'}}"
      ]
     },
     "execution_count": 11,
     "metadata": {},
     "output_type": "execute_result"
    }
   ],
   "source": [
    "j['cert']"
   ]
  },
  {
   "cell_type": "code",
   "execution_count": null,
   "metadata": {},
   "outputs": [],
   "source": []
  }
 ],
 "metadata": {
  "kernelspec": {
   "display_name": "Python 3",
   "language": "python",
   "name": "python3"
  },
  "language_info": {
   "codemirror_mode": {
    "name": "ipython",
    "version": 3
   },
   "file_extension": ".py",
   "mimetype": "text/x-python",
   "name": "python",
   "nbconvert_exporter": "python",
   "pygments_lexer": "ipython3",
   "version": "3.7.0"
  }
 },
 "nbformat": 4,
 "nbformat_minor": 2
}
