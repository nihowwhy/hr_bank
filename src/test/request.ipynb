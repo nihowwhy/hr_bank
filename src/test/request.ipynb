{
 "cells": [
  {
   "cell_type": "code",
   "execution_count": 1,
   "metadata": {},
   "outputs": [],
   "source": [
    "import requests"
   ]
  },
  {
   "cell_type": "code",
   "execution_count": 2,
   "metadata": {},
   "outputs": [],
   "source": [
    "url = 'https://www.104.com.tw/jobs/search/list?ro=0&keyword=python' # search page\n",
    "\n",
    "url = 'https://www.104.com.tw/jobs/search/list?ro=0&keyword=AI%2FPython%20Dev(%E8%AA%9E%E6%84%8F%E5%88%86%E6%9E%90%2F%E6%96%87%E6%9C%AC%E5%88%86%E6%9E%90%2F%E8%AA%9E%E9%9F%B3%E8%BE%A8%E8%AD%98%2F%E5%9C%96%E5%83%8F%E8%BE%A8%E8%AD%98%2F%E6%95%B8%E6%93%9A%E5%88%86%E6%9E%90&expansionType=area%2Cspec%2Ccom%2Cjob%2Cwf%2Cwktm&order=1&asc=0&page=1&mode=s'\n",
    "\n",
    "url = 'https://www.104.com.tw/jobs/search/list?ro=0&keyword=%E8%87%BA%E7%81%A3%E9%9B%BB%E8%A6%96%20%E6%95%B8%E6%93%9A%E5%88%86%E6%9E%90%E5%B8%AB(%E8%B3%87%E8%A8%8A%E8%99%95%E9%9B%BB%E8%85%A6%E7%B5%84)&expansionType=area%2Cspec%2Ccom%2Cjob%2Cwf%2Cwktm&order=1&asc=0&page=1&mode=s&jobsource=tab_cs_to_job'\n",
    "\n",
    "url = 'https://www.104.com.tw/company/ajax/content/fuqg2g'\n"
   ]
  },
  {
   "cell_type": "code",
   "execution_count": 3,
   "metadata": {},
   "outputs": [],
   "source": [
    "headers = {\n",
    "    'Referer': url\n",
    "}"
   ]
  },
  {
   "cell_type": "code",
   "execution_count": 4,
   "metadata": {},
   "outputs": [
    {
     "data": {
      "text/plain": [
       "<Response [200]>"
      ]
     },
     "execution_count": 4,
     "metadata": {},
     "output_type": "execute_result"
    }
   ],
   "source": [
    "response = requests.get(url, headers=headers)\n",
    "response"
   ]
  },
  {
   "cell_type": "code",
   "execution_count": 6,
   "metadata": {},
   "outputs": [
    {
     "data": {
      "text/plain": [
       "{'data': {'custSwitch': 'on',\n",
       "  'custName': '臺北市私立何氏語文短期補習班',\n",
       "  'custNo': 958615000,\n",
       "  'industryDesc': '其他教育服務業',\n",
       "  'indcat': 'F-1學校及文教機構',\n",
       "  'empNo': '150人',\n",
       "  'capital': '暫不提供',\n",
       "  'address': '台北市北投區石牌路一段26號1.2樓',\n",
       "  'custLink': '',\n",
       "  'profile': '工作地點可依淡水區,北投區,士林區,基隆區,內湖區做為選擇.歡迎有興趣的求職者,加入我們的行列.',\n",
       "  'product': '美語補習班',\n",
       "  'welfare': '1.全勤獎金\\r\\n2.績效獎金\\r\\n3.婚喪喜慶禮金\\r\\n4.員工制服\\r\\n5.在職訓練\\r\\n6.海內外培訓',\n",
       "  'management': '',\n",
       "  'phone': '暫不提供',\n",
       "  'fax': '暫不提供',\n",
       "  'hrName': '詹小姐',\n",
       "  'lat': '25.1128412',\n",
       "  'lon': '121.510141',\n",
       "  'logo': '',\n",
       "  'news': '',\n",
       "  'newsLink': '',\n",
       "  'zone': {},\n",
       "  'linkMore': {},\n",
       "  'corpImage2': '',\n",
       "  'corpImage1': '//static.104.com.tw/b_profile/cust_picture/5000/958615000/custintroduce/image1.jpg?v=20200730174041',\n",
       "  'corpImage3': '//static.104.com.tw/b_profile/cust_picture/5000/958615000/custintroduce/image3.jpg?v=20200730174041',\n",
       "  'corpLink2': '',\n",
       "  'corpLink1': '',\n",
       "  'corpLink3': '',\n",
       "  'productPictures': [],\n",
       "  'envPictures': [],\n",
       "  'tagNames': [],\n",
       "  'legalTagNames': [],\n",
       "  'historys': [],\n",
       "  'isSaved': False,\n",
       "  'isTracked': False,\n",
       "  'addrNoDesc': '台北市北投區',\n",
       "  'reportUrl': '//www.104.com.tw/question_admin/reaction.cfm?j=383a4225385c3f2444423c1d1d1d1d5f24f70363189j56',\n",
       "  'postalCode': 112},\n",
       " 'metadata': {}}"
      ]
     },
     "execution_count": 6,
     "metadata": {},
     "output_type": "execute_result"
    }
   ],
   "source": [
    "import json\n",
    "j = json.loads(response.text)\n",
    "j"
   ]
  },
  {
   "cell_type": "code",
   "execution_count": 10,
   "metadata": {},
   "outputs": [
    {
     "data": {
      "text/plain": [
       "{'jobType': '0',\n",
       " 'jobNo': '11541782',\n",
       " 'jobName': 'Data Analyst 數據分析師(資訊處電腦組)',\n",
       " 'jobNameSnippet': \"<em class='b-txt--highlight'>Data</em> <em class='b-txt--highlight'>Analyst</em> <em class='b-txt--highlight'>數據分析師</em><em class='b-txt--highlight'>(</em><em class='b-txt--highlight'>資訊處電腦組</em><em class='b-txt--highlight'>)</em>\",\n",
       " 'jobRole': '1',\n",
       " 'jobRo': '1',\n",
       " 'jobAddrNo': '6001001004',\n",
       " 'jobAddrNoDesc': '台北市松山區',\n",
       " 'jobAddress': '八德路三段十號',\n",
       " 'description': '主要工作任務：\\n1.分析新媒體市場營運模式及策略。\\n2.網站以 GTM/GA 埋碼，分析相關[[[數據]]]。\\n3.資料視覺化呈現。\\n4.[[[數據]]]分析與固定報表產出，問題診斷與研究。\\n5.製作[[[數據]]]分析簡報資料，提供給主管以利進行營運規劃。\\n\\n應具備能力：\\n1.熟',\n",
       " 'optionEdu': '大學',\n",
       " 'period': '00',\n",
       " 'periodDesc': '經歷不拘',\n",
       " 'applyCnt': '00009',\n",
       " 'applyDesc': '6~10人應徵',\n",
       " 'custNo': '20685000000',\n",
       " 'custName': '臺灣電視事業股份有限公司',\n",
       " 'coIndustry': '1006002002',\n",
       " 'coIndustryDesc': '電視業',\n",
       " 'salaryLow': '0035000',\n",
       " 'salaryHigh': '9999999',\n",
       " 'salaryDesc': '月薪35,000元以上',\n",
       " 's10': '50',\n",
       " 'appearDate': '20210603',\n",
       " 'appearDateDesc': '6/03',\n",
       " 'optionZone': '0',\n",
       " 'isApply': '0',\n",
       " 'applyDate': '',\n",
       " 'isSave': '0',\n",
       " 'descSnippet': \"主要工作任務：\\n1.分析新媒體市場營運模式及策略。\\n2.網站以 GTM/GA 埋碼，分析相關<em class='b-txt--highlight'>數據</em>。\\n3.資料視覺化呈現。\\n4.<em class='b-txt--highlight'>數據</em>分析與固定報表產出，問題診斷與研究。\\n5.製作<em class='b-txt--highlight'>數據</em>分析簡報資料，提供給主管以利進行營運規劃。\\n\\n應具備能力：\\n1.熟\",\n",
       " 'tags': ['員工525人'],\n",
       " 'landmark': '距捷運台北小巨蛋站430公尺',\n",
       " 'link': {'applyAnalyze': '//www.104.com.tw/jobs/apply/analysis/6vdp2?channel=104rpt&jobsource=apply_analyze',\n",
       "  'job': '//www.104.com.tw/job/6vdp2?jobsource=jolist_b_relevance',\n",
       "  'cust': '//www.104.com.tw/company/9i3bc5c?jobsource=jolist_b_relevance'},\n",
       " 'jobsource': 'jolist_b_relevance',\n",
       " 'jobNameRaw': 'Data Analyst 數據分析師(資訊處電腦組)',\n",
       " 'custNameRaw': '臺灣電視事業股份有限公司',\n",
       " 'lon': '121.550411',\n",
       " 'lat': '25.048084'}"
      ]
     },
     "execution_count": 10,
     "metadata": {},
     "output_type": "execute_result"
    }
   ],
   "source": [
    "job = j['data']['list'][0]\n",
    "job"
   ]
  },
  {
   "cell_type": "code",
   "execution_count": 13,
   "metadata": {},
   "outputs": [
    {
     "data": {
      "text/plain": [
       "{'applyAnalyze': '//www.104.com.tw/jobs/apply/analysis/6vdp2?channel=104rpt&jobsource=apply_analyze',\n",
       " 'job': '//www.104.com.tw/job/6vdp2?jobsource=jolist_b_relevance',\n",
       " 'cust': '//www.104.com.tw/company/9i3bc5c?jobsource=jolist_b_relevance'}"
      ]
     },
     "execution_count": 13,
     "metadata": {},
     "output_type": "execute_result"
    }
   ],
   "source": [
    "job['link']"
   ]
  },
  {
   "cell_type": "code",
   "execution_count": null,
   "metadata": {},
   "outputs": [],
   "source": []
  },
  {
   "cell_type": "code",
   "execution_count": null,
   "metadata": {},
   "outputs": [],
   "source": []
  }
 ],
 "metadata": {
  "kernelspec": {
   "display_name": "Python 3",
   "language": "python",
   "name": "python3"
  },
  "language_info": {
   "codemirror_mode": {
    "name": "ipython",
    "version": 3
   },
   "file_extension": ".py",
   "mimetype": "text/x-python",
   "name": "python",
   "nbconvert_exporter": "python",
   "pygments_lexer": "ipython3",
   "version": "3.7.0"
  }
 },
 "nbformat": 4,
 "nbformat_minor": 2
}
