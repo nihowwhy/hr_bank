{
 "cells": [
  {
   "cell_type": "code",
   "execution_count": 45,
   "metadata": {},
   "outputs": [],
   "source": [
    "import requests\n",
    "import re\n",
    "import unicodedata\n",
    "    \n",
    "    \n",
    "def join_dict_item_in_list(l: list, key: str):\n",
    "    ''' input:  l = [{\"name\": \"Ian\"}, {\"name\": \"Wang\"}]\n",
    "                key = 'name'\n",
    "        output: \"Ian、Wang\"\n",
    "    '''\n",
    "    dict_item_list = [d[key] for d in l]\n",
    "    return '、'.join(dict_item_list)\n",
    "\n",
    "\n",
    "def join_element_in_list(l: list) -> str:\n",
    "    ''' input:  [\"A\", \"B\", \"C\"]\n",
    "        output: \"A、B、C\"\n",
    "    '''\n",
    "    return '、'.join(l)\n",
    "\n",
    "\n",
    "\n",
    "def convert_full_width_to_half_width(text: str) -> str:\n",
    "    ''' convert full-width character to half-width one, such as \"Ａ\" to \"A\"\n",
    "    '''\n",
    "    text = unicodedata.normalize('NFKC', text)\n",
    "    return text\n",
    "\n",
    "\n",
    "def remove_unicode_text(text: str) -> str:\n",
    "    text = text.replace('\\xa0', '')\n",
    "    text = text.replace('\\u3000', '')\n",
    "    text = text.replace('\\r', '')\n",
    "    return text\n",
    "\n",
    "\n",
    "def remove_extra_newline(text: str) -> str:\n",
    "    text = re.sub('\\n+', '\\n', text)\n",
    "    return text\n",
    "\n",
    "    \n",
    "def clean_text(text: str) -> str:\n",
    "    text = convert_full_width_to_half_width(text)\n",
    "    text = remove_unicode_text(text)\n",
    "    text = remove_extra_newline(text)\n",
    "    return text\n",
    "    "
   ]
  },
  {
   "cell_type": "code",
   "execution_count": 3,
   "metadata": {},
   "outputs": [],
   "source": [
    "url = 'https://www.104.com.tw/jobs/search/list?ro=0&keyword=python' # search page"
   ]
  },
  {
   "cell_type": "code",
   "execution_count": 4,
   "metadata": {},
   "outputs": [],
   "source": [
    "headers = {\n",
    "    'Referer': url\n",
    "}"
   ]
  },
  {
   "cell_type": "code",
   "execution_count": 5,
   "metadata": {},
   "outputs": [
    {
     "data": {
      "text/plain": [
       "<Response [200]>"
      ]
     },
     "execution_count": 5,
     "metadata": {},
     "output_type": "execute_result"
    }
   ],
   "source": [
    "response = requests.get(url, headers=headers)\n",
    "response"
   ]
  },
  {
   "cell_type": "code",
   "execution_count": 46,
   "metadata": {},
   "outputs": [],
   "source": [
    "import json\n",
    "j = json.loads(clean_text(response.text))"
   ]
  },
  {
   "cell_type": "code",
   "execution_count": 47,
   "metadata": {},
   "outputs": [
    {
     "data": {
      "text/plain": [
       "{'jobType': '1',\n",
       " 'jobNo': '8420316',\n",
       " 'jobName': '軟體開發工程師 (車載產品自動化測試平台)_林口',\n",
       " 'jobNameSnippet': '軟體開發工程師 (車載產品自動化測試平台)_林口',\n",
       " 'jobRole': '1',\n",
       " 'jobRo': '1',\n",
       " 'jobAddrNo': '6001005008',\n",
       " 'jobAddrNoDesc': '桃園市龜山區',\n",
       " 'jobAddress': '華亞二亞270號',\n",
       " 'description': '【部門說明】\\nAutomotive electronics has become a global trend in the technology field. Being one of the leaders in the field, Garmin aims to become a superior supplier for international Automotive manufacturers with various products and professional services. We welcome you to join the team.\\n\\n In this position, you will learn to-\\n1. Gain an exclusive insight of the Automotive industry, including the market status, supply chain and future trend\\n2. Become familiar with Automotive systems of in Europe, America, China, Japan and their requirements in product development, quality and service\\n3. Understand cutting edge technology, product realization and manufacture process of Garmin’s Automotive electronics projects\\n4. Grasp the latest market information of Automotive electronics and practice strategic thinking to realize customer satisfaction\\n5. Work alongside multinational clients and Garmin associates to expand global horizons\\n\\n【工作範圍】\\nBelow are two directions of our tasks. Choose one as most suitable for you.\\n\\nA. Technical Test Tools Development\\n\\n 1. Develop an PC-based Automation Test Platform which can be used to test the software functions (e.g., Media, Navi, BT, Connected services, and vehicle networks) of all of our automotive products. \\n 2. Develop core functionality for this Automation Test Platform. Including but not limited to: image processing for product’s display, audio signal processing for product’s audio output, automatic control of product’s UI with robotic arm and other fixtures, database design for test data management, and web frontend/backend for automation test dashboard. \\n 3. Study industry wide Best Testing Practices and evolving standards to improve the effectiveness and productivity of testing \\n 4. Collaborate closely with Garmin global associates to develop, maintain and enhance automation test tools \\n 5. Research the new technology and new testing feature / facility for the automotive products.\\n\\nB. Automation Test Development\\n\\n 1. Develop and execute test plans for software function validation at both system and user level, as well as improve validation processes and methodologies.\\n 2. Create test case scripts for automated testing.\\n 3. Develop and maintain test automation solutions in Python.\\n 4. Develop and maintain team-oriented tools and platform to increase test productivity.\\n 5. Collaborate closely with Garmin global associates to develop, maintain and enhance automation test tools.',\n",
       " 'optionEdu': '碩士',\n",
       " 'period': '00',\n",
       " 'periodDesc': '經歷不拘',\n",
       " 'applyCnt': '00005',\n",
       " 'applyDesc': '0~5人應徵',\n",
       " 'custNo': '23527104000',\n",
       " 'custName': 'GARMIN_台灣國際航電股份有限公司',\n",
       " 'coIndustry': '',\n",
       " 'coIndustryDesc': '',\n",
       " 'salaryLow': '0000000',\n",
       " 'salaryHigh': '0000000',\n",
       " 'salaryDesc': '待遇面議',\n",
       " 's10': '10',\n",
       " 'appearDate': '20210629',\n",
       " 'appearDateDesc': '6/29',\n",
       " 'optionZone': '266248',\n",
       " 'isApply': '0',\n",
       " 'applyDate': '',\n",
       " 'isSave': '0',\n",
       " 'descSnippet': '【部門說明】\\nAutomotive electronics has become a global trend in the technology field. Being one of the leaders in the field, Garmin aims to become a superior supplier for international Automotive manufacturers with various products and professional services. We welcome you to join the team.\\n\\n In this position, you will learn to-\\n1. Gain an exclusive insight of the Automotive industry, including the market status, supply chain and future trend\\n2. Become familiar with Automotive systems of in Europe, America, China, Japan and their requirements in product development, quality and service\\n3. Understand cutting edge technology, product realization and manufacture process of Garmin’s Automotive electronics projects\\n4. Grasp the latest market information of Automotive electronics and practice strategic thinking to realize customer satisfaction\\n5. Work alongside multinational clients and Garmin associates to expand global horizons\\n\\n【工作範圍】\\nBelow are two directions of our tasks. Choose one as most suitable for you.\\n\\nA. Technical Test Tools Development\\n\\n 1. Develop an PC-based Automation Test Platform which can be used to test the software functions (e.g., Media, Navi, BT, Connected services, and vehicle networks) of all of our automotive products. \\n 2. Develop core functionality for this Automation Test Platform. Including but not limited to: image processing for product’s display, audio signal processing for product’s audio output, automatic control of product’s UI with robotic arm and other fixtures, database design for test data management, and web frontend/backend for automation test dashboard. \\n 3. Study industry wide Best Testing Practices and evolving standards to improve the effectiveness and productivity of testing \\n 4. Collaborate closely with Garmin global associates to develop, maintain and enhance automation test tools \\n 5. Research the new technology and new testing feature / facility for the automotive products.\\n\\nB. Automation Test Development\\n\\n 1. Develop and execute test plans for software function validation at both system and user level, as well as improve validation processes and methodologies.\\n 2. Create test case scripts for automated testing.\\n 3. Develop and maintain test automation solutions in Python.\\n 4. Develop and maintain team-oriented tools and platform to increase test productivity.\\n 5. Collaborate closely with Garmin global associates to develop, maintain and enhance automation test tools.',\n",
       " 'tags': ['外商公司', '員工6000人'],\n",
       " 'landmark': '',\n",
       " 'link': {'applyAnalyze': '//www.104.com.tw/jobs/apply/analysis/50h5o?channel=104rpt&jobsource=hotjob_chr',\n",
       "  'job': '//www.104.com.tw/job/50h5o?jobsource=hotjob_chr',\n",
       "  'cust': '//www.104.com.tw/company/at3fhmo?jobsource=hotjob_chr'},\n",
       " 'jobsource': 'hotjob_chr',\n",
       " 'jobNameRaw': '軟體開發工程師 (車載產品自動化測試平台)_林口',\n",
       " 'custNameRaw': 'GARMIN_台灣國際航電股份有限公司',\n",
       " 'lon': '121.3761975',\n",
       " 'lat': '25.0406464'}"
      ]
     },
     "execution_count": 47,
     "metadata": {},
     "output_type": "execute_result"
    }
   ],
   "source": [
    "item = {}\n",
    "item['search_page'] = j['data']['list'][0]\n",
    "item['search_page']"
   ]
  },
  {
   "cell_type": "code",
   "execution_count": 42,
   "metadata": {},
   "outputs": [
    {
     "data": {
      "text/plain": [
       "{'job_id': '50h5o',\n",
       " 'job_no': '8420316',\n",
       " 'job_name': '軟體開發工程師 (車載產品自動化測試平台)_林口',\n",
       " 'company_name': 'GARMIN_台灣國際航電股份有限公司',\n",
       " 'company_no': '23527104000',\n",
       " 'apply_count': 5,\n",
       " 'salary_min': 0,\n",
       " 'salary_max': 0,\n",
       " 'salary_desc': '待遇面議',\n",
       " 'salary_type': '10',\n",
       " 'job_desc': '【部門說明】\\nAutomotive electronics has become a global trend in the technology field. Being one of the leaders in the field, Garmin aims to become a superior supplier for international Automotive manufacturers with various products and professional services. We welcome you to join the team.\\n\\n In this position, you will learn to-\\n1. Gain an exclusive insight of the Automotive industry, including the market status, supply chain and future trend\\n2. Become familiar with Automotive systems of in Europe, America, China, Japan and their requirements in product development, quality and service\\n3. Understand cutting edge technology, product realization and manufacture process of Garmin’s Automotive electronics projects\\n4. Grasp the latest market information of Automotive electronics and practice strategic thinking to realize customer satisfaction\\n5. Work alongside multinational clients and Garmin associates to expand global horizons\\n\\n【工作範圍】\\nBelow are two directions of our tasks. Choose one as most suitable for you.\\n\\nA. Technical Test Tools Development\\n\\n 1. Develop an PC-based Automation Test Platform which can be used to test the software functions (e.g., Media, Navi, BT, Connected services, and vehicle networks) of all of our automotive products. \\n 2. Develop core functionality for this Automation Test Platform. Including but not limited to: image processing for product’s display, audio signal processing for product’s audio output, automatic control of product’s UI with robotic arm and other fixtures, database design for test data management, and web frontend/backend for automation test dashboard. \\n 3. Study industry wide Best Testing Practices and evolving standards to improve the effectiveness and productivity of testing \\n 4. Collaborate closely with Garmin global associates to develop, maintain and enhance automation test tools \\n 5. Research the new technology and new testing feature / facility for the automotive products.\\n\\nB. Automation Test Development\\n\\n 1. Develop and execute test plans for software function validation at both system and user level, as well as improve validation processes and methodologies.\\n 2. Create test case scripts for automated testing.\\n 3. Develop and maintain test automation solutions in Python.\\n 4. Develop and maintain team-oriented tools and platform to increase test productivity.\\n 5. Collaborate closely with Garmin global associates to develop, maintain and enhance automation test tools.',\n",
       " 'job_type': '1',\n",
       " 'job_role': '1',\n",
       " 'edu': '碩士',\n",
       " 'work_exp': 0,\n",
       " 'job_addr_dist': '桃園市龜山區',\n",
       " 'job_addr': '桃園市龜山區華亞二亞270號',\n",
       " 'lon': '121.3761975',\n",
       " 'lat': '25.0406464',\n",
       " 'appear_date': 20210629}"
      ]
     },
     "execution_count": 42,
     "metadata": {},
     "output_type": "execute_result"
    }
   ],
   "source": [
    "parsed_item = {}\n",
    "\n",
    "# 職缺ID\n",
    "parsed_item['job_id'] = re.search('job\\/(.*)\\?', item['search_page']['link']['job']).group(1)\n",
    "\n",
    "# 職缺編號\n",
    "parsed_item['job_no'] = item['search_page']['jobNo']\n",
    "\n",
    "# 職缺名稱\n",
    "parsed_item['job_name'] = item['search_page']['jobName']\n",
    "\n",
    "# 公司ID\n",
    "parsed_item['company_id'] = re.search('company/(.*)\\?', item['search_page']['link']['cust']).group(1)\n",
    "\n",
    "# 公司名稱\n",
    "parsed_item['company_name'] = item['search_page']['custName']\n",
    "\n",
    "# 公司編號\n",
    "parsed_item['company_no'] = item['search_page']['custNo']\n",
    "\n",
    "# 應徵人數\n",
    "parsed_item['apply_count'] = int(item['search_page']['applyCnt'])\n",
    "\n",
    "# 最低薪資\n",
    "parsed_item['salary_min'] = int(item['search_page']['salaryLow'])\n",
    "\n",
    "# 最高薪資\n",
    "parsed_item['salary_max'] = int(item['search_page']['salaryHigh'])\n",
    "\n",
    "# 薪資描述\n",
    "parsed_item['salary_desc'] = item['search_page']['salaryDesc']\n",
    "\n",
    "# 薪資類型code\n",
    "parsed_item['salary_type'] = item['search_page']['s10']\n",
    "\n",
    "# 職缺說明\n",
    "parsed_item['job_desc'] = item['search_page']['description']\n",
    "\n",
    "# 職缺類別\n",
    "parsed_item['job_type'] = item['search_page']['jobType']\n",
    "\n",
    "# 工作類型code\n",
    "parsed_item['job_role'] = item['search_page']['jobRole']\n",
    "\n",
    "# 學歷要求\n",
    "parsed_item['edu'] = item['search_page']['optionEdu']\n",
    "\n",
    "# 經驗要求\n",
    "parsed_item['work_exp'] = int(item['search_page']['period'])\n",
    "\n",
    "# 工作縣市\n",
    "parsed_item['job_addr_dist'] = item['search_page']['jobAddrNoDesc']\n",
    "\n",
    "# 工作地點\n",
    "parsed_item['job_addr'] = item['search_page']['jobAddrNoDesc'] + item['search_page']['jobAddress']\n",
    "\n",
    "# 經度\n",
    "parsed_item['lon'] = item['search_page']['lon']\n",
    "\n",
    "# 緯度\n",
    "parsed_item['lat'] = item['search_page']['lat']\n",
    "\n",
    "# 出現日期\n",
    "parsed_item['appear_date'] = int(item['search_page']['appearDate'])\n",
    "\n",
    "parsed_item"
   ]
  },
  {
   "cell_type": "code",
   "execution_count": null,
   "metadata": {},
   "outputs": [],
   "source": []
  },
  {
   "cell_type": "code",
   "execution_count": null,
   "metadata": {},
   "outputs": [],
   "source": []
  }
 ],
 "metadata": {
  "kernelspec": {
   "display_name": "Python 3",
   "language": "python",
   "name": "python3"
  },
  "language_info": {
   "codemirror_mode": {
    "name": "ipython",
    "version": 3
   },
   "file_extension": ".py",
   "mimetype": "text/x-python",
   "name": "python",
   "nbconvert_exporter": "python",
   "pygments_lexer": "ipython3",
   "version": "3.7.0"
  }
 },
 "nbformat": 4,
 "nbformat_minor": 2
}
