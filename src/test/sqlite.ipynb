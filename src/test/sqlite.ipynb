{
 "cells": [
  {
   "cell_type": "code",
   "execution_count": 5,
   "metadata": {},
   "outputs": [
    {
     "data": {
      "text/html": [
       "<div>\n",
       "<style scoped>\n",
       "    .dataframe tbody tr th:only-of-type {\n",
       "        vertical-align: middle;\n",
       "    }\n",
       "\n",
       "    .dataframe tbody tr th {\n",
       "        vertical-align: top;\n",
       "    }\n",
       "\n",
       "    .dataframe thead th {\n",
       "        text-align: right;\n",
       "    }\n",
       "</style>\n",
       "<table border=\"1\" class=\"dataframe\">\n",
       "  <thead>\n",
       "    <tr style=\"text-align: right;\">\n",
       "      <th></th>\n",
       "      <th>JOB_NO</th>\n",
       "      <th>JOB_ID</th>\n",
       "      <th>JOB_NAME</th>\n",
       "      <th>COMP_NO</th>\n",
       "      <th>COMP_ID</th>\n",
       "      <th>COMP_NAME</th>\n",
       "      <th>INDUST_NO</th>\n",
       "      <th>INDUST_DESC</th>\n",
       "      <th>APPEAR_DATE</th>\n",
       "      <th>CRAWL_DATE</th>\n",
       "    </tr>\n",
       "  </thead>\n",
       "  <tbody>\n",
       "    <tr>\n",
       "      <th>0</th>\n",
       "      <td>11219368</td>\n",
       "      <td>6ogx4</td>\n",
       "      <td>【台北區】ASP.Net 軟體工程師(C# )</td>\n",
       "      <td>4139717000</td>\n",
       "      <td>1wgoi2w</td>\n",
       "      <td>三民輔考集團_台北市私立三民商業短期補習班</td>\n",
       "      <td>1005001004</td>\n",
       "      <td>補習班</td>\n",
       "      <td>20201016</td>\n",
       "      <td>20201017</td>\n",
       "    </tr>\n",
       "    <tr>\n",
       "      <th>1</th>\n",
       "      <td>10823005</td>\n",
       "      <td>6fz31</td>\n",
       "      <td>OF03【乾杯集團】總部 - 系統課 專員/高級專員 (月薪30,000~38,000元/月)</td>\n",
       "      <td>70443909000</td>\n",
       "      <td>wd0hg20</td>\n",
       "      <td>乾杯股份有限公司</td>\n",
       "      <td>1016002003</td>\n",
       "      <td>其他餐飲業</td>\n",
       "      <td>20201015</td>\n",
       "      <td>20201017</td>\n",
       "    </tr>\n",
       "    <tr>\n",
       "      <th>2</th>\n",
       "      <td>11290746</td>\n",
       "      <td>6pzzu</td>\n",
       "      <td>ASP.Net MVC 程式設計師</td>\n",
       "      <td>130000000000321</td>\n",
       "      <td>1a2x6bhzk1</td>\n",
       "      <td>全鼎資訊股份有限公司</td>\n",
       "      <td>1001001002</td>\n",
       "      <td>電腦軟體服務業</td>\n",
       "      <td>20201015</td>\n",
       "      <td>20201017</td>\n",
       "    </tr>\n",
       "    <tr>\n",
       "      <th>3</th>\n",
       "      <td>11687102</td>\n",
       "      <td>6yhtq</td>\n",
       "      <td>【三創生活園區FT】ERP系統 工程師 (歡迎加入青年就業旗艦計畫)</td>\n",
       "      <td>25136736000</td>\n",
       "      <td>bjprhmo</td>\n",
       "      <td>鴻海集團_三創數位股份有限公司</td>\n",
       "      <td>1003002013</td>\n",
       "      <td>百貨相關業</td>\n",
       "      <td>20201016</td>\n",
       "      <td>20201017</td>\n",
       "    </tr>\n",
       "    <tr>\n",
       "      <th>4</th>\n",
       "      <td>11209830</td>\n",
       "      <td>6o9k6</td>\n",
       "      <td>前端工程師</td>\n",
       "      <td>80165600000</td>\n",
       "      <td>10tsj0u8</td>\n",
       "      <td>出奇整合廣告股份有限公司</td>\n",
       "      <td>1006003001</td>\n",
       "      <td>廣告行銷公關業</td>\n",
       "      <td>20201015</td>\n",
       "      <td>20201017</td>\n",
       "    </tr>\n",
       "  </tbody>\n",
       "</table>\n",
       "</div>"
      ],
      "text/plain": [
       "     JOB_NO JOB_ID                                         JOB_NAME  \\\n",
       "0  11219368  6ogx4                          【台北區】ASP.Net 軟體工程師(C# )   \n",
       "1  10823005  6fz31  OF03【乾杯集團】總部 - 系統課 專員/高級專員 (月薪30,000~38,000元/月)   \n",
       "2  11290746  6pzzu                                ASP.Net MVC 程式設計師   \n",
       "3  11687102  6yhtq               【三創生活園區FT】ERP系統 工程師 (歡迎加入青年就業旗艦計畫)   \n",
       "4  11209830  6o9k6                                            前端工程師   \n",
       "\n",
       "           COMP_NO     COMP_ID              COMP_NAME   INDUST_NO INDUST_DESC  \\\n",
       "0       4139717000     1wgoi2w  三民輔考集團_台北市私立三民商業短期補習班  1005001004         補習班   \n",
       "1      70443909000     wd0hg20               乾杯股份有限公司  1016002003       其他餐飲業   \n",
       "2  130000000000321  1a2x6bhzk1             全鼎資訊股份有限公司  1001001002     電腦軟體服務業   \n",
       "3      25136736000     bjprhmo        鴻海集團_三創數位股份有限公司  1003002013       百貨相關業   \n",
       "4      80165600000    10tsj0u8           出奇整合廣告股份有限公司  1006003001     廣告行銷公關業   \n",
       "\n",
       "   APPEAR_DATE  CRAWL_DATE  \n",
       "0     20201016    20201017  \n",
       "1     20201015    20201017  \n",
       "2     20201015    20201017  \n",
       "3     20201016    20201017  \n",
       "4     20201015    20201017  "
      ]
     },
     "execution_count": 5,
     "metadata": {},
     "output_type": "execute_result"
    }
   ],
   "source": [
    "import pandas as pd\n",
    "import sqlite3\n",
    "\n",
    "with sqlite3.connect('../../db/hr_bank_db.db') as con:\n",
    "#     df = pd.read_sql(\"SELECT * FROM comp_desc\", con=con)\n",
    "#     df = pd.read_sql(\"SELECT * FROM job_desc\", con=con)\n",
    "    df = pd.read_sql(\"SELECT * FROM job_prim where rowid < 10\", con=con)\n",
    "#     query = '''select * from job_prim \n",
    "#                 where job_no in (select job_no from job_prim group by job_no having count(1) > 1)'''\n",
    "#     df = pd.read_sql(query, con=con)\n",
    "\n",
    "df.head()"
   ]
  },
  {
   "cell_type": "code",
   "execution_count": 6,
   "metadata": {},
   "outputs": [
    {
     "data": {
      "text/plain": [
       "9"
      ]
     },
     "execution_count": 6,
     "metadata": {},
     "output_type": "execute_result"
    }
   ],
   "source": [
    "len(df)"
   ]
  },
  {
   "cell_type": "code",
   "execution_count": null,
   "metadata": {},
   "outputs": [],
   "source": []
  },
  {
   "cell_type": "code",
   "execution_count": 34,
   "metadata": {},
   "outputs": [
    {
     "data": {
      "text/plain": [
       "'{\"jobType\": \"0\", \"jobNo\": \"11832372\", \"jobName\": \"Java/Python程式設計師\", \"jobNameSnippet\": \"Java/Python程式設計師\", \"jobRole\": \"1\", \"jobRo\": \"1\", \"jobAddrNo\": \"6001002004\", \"jobAddrNoDesc\": \"新北市汐止區\", \"jobAddress\": \"\", \"description\": \"1.Web Scraping\\\\n2.Coding and developing based on requirement and spec\\\\n3.Syetem Testing\\\\n4.System trouble shooting and fixing bugs\\\\n5.System Monitoring to ensure system running smoothly and normal\\\\n6.Improve system stability and performance\\\\n7.Research new solution to increase development productivity\\\\n\", \"optionEdu\": \"大學\", \"period\": \"00\", \"periodDesc\": \"經歷不拘\", \"applyCnt\": \"00004\", \"applyDesc\": \"0~5人應徵\", \"custNo\": \"16141792000\", \"custName\": \"美台華德科技股份有限公司\", \"coIndustry\": \"1001003001\", \"coIndustryDesc\": \"電腦及其週邊設備製造業\", \"salaryLow\": \"0028000\", \"salaryHigh\": \"0050000\", \"salaryDesc\": \"月薪28,000~50,000元\", \"s10\": \"50\", \"appearDate\": \"20201013\", \"appearDateDesc\": \"10/13\", \"optionZone\": \"0\", \"isApply\": \"0\", \"applyDate\": \"\", \"isSave\": \"0\", \"descSnippet\": \"1.Web Scraping\\\\n2.Coding and developing based on requirement and spec\\\\n3.Syetem Testing\\\\n4.System trouble shooting and fixing bugs\\\\n5.System Monitoring to ensure system running smoothly and normal\\\\n6.Improve system stability and performance\\\\n7.Research new solution to increase development productivity\\\\n\", \"tags\": [\"員工20人\"], \"landmark\": \"\", \"link\": {\"applyAnalyze\": \"//www.104.com.tw/jobs/apply/analysis/71lx0?channel=104rpt&jobsource=apply_analyze\", \"job\": \"//www.104.com.tw/job/71lx0?jobsource=n104bank2\", \"cust\": \"//www.104.com.tw/company/7eyemf4?jobsource=n104bank2\"}, \"jobsource\": \"\", \"jobNameRaw\": \"Java/Python程式設計師\", \"custNameRaw\": \"美台華德科技股份有限公司\", \"lon\": \"121.6397184\", \"lat\": \"25.0616059\"}'"
      ]
     },
     "execution_count": 34,
     "metadata": {},
     "output_type": "execute_result"
    }
   ],
   "source": [
    "df['SEARCH_JOB_JSON'][0]"
   ]
  },
  {
   "cell_type": "code",
   "execution_count": 27,
   "metadata": {},
   "outputs": [],
   "source": [
    "j = {'data': ['\\\\u8edf\\\\u9ad4']}"
   ]
  },
  {
   "cell_type": "code",
   "execution_count": 21,
   "metadata": {},
   "outputs": [],
   "source": [
    "import json"
   ]
  },
  {
   "cell_type": "code",
   "execution_count": 22,
   "metadata": {},
   "outputs": [
    {
     "data": {
      "text/plain": [
       "'{\"data\": [\"\\\\\\\\u8edf\\\\\\\\u9ad4\"]}'"
      ]
     },
     "execution_count": 22,
     "metadata": {},
     "output_type": "execute_result"
    }
   ],
   "source": [
    "json.dumps(j, )"
   ]
  },
  {
   "cell_type": "code",
   "execution_count": null,
   "metadata": {},
   "outputs": [],
   "source": []
  },
  {
   "cell_type": "code",
   "execution_count": null,
   "metadata": {},
   "outputs": [],
   "source": []
  }
 ],
 "metadata": {
  "kernelspec": {
   "display_name": "Python 3",
   "language": "python",
   "name": "python3"
  },
  "language_info": {
   "codemirror_mode": {
    "name": "ipython",
    "version": 3
   },
   "file_extension": ".py",
   "mimetype": "text/x-python",
   "name": "python",
   "nbconvert_exporter": "python",
   "pygments_lexer": "ipython3",
   "version": "3.7.0"
  }
 },
 "nbformat": 4,
 "nbformat_minor": 2
}
