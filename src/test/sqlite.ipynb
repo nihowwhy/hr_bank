{
 "cells": [
  {
   "cell_type": "code",
   "execution_count": 5,
   "metadata": {},
   "outputs": [
    {
     "data": {
      "text/html": [
       "<div>\n",
       "<style scoped>\n",
       "    .dataframe tbody tr th:only-of-type {\n",
       "        vertical-align: middle;\n",
       "    }\n",
       "\n",
       "    .dataframe tbody tr th {\n",
       "        vertical-align: top;\n",
       "    }\n",
       "\n",
       "    .dataframe thead th {\n",
       "        text-align: right;\n",
       "    }\n",
       "</style>\n",
       "<table border=\"1\" class=\"dataframe\">\n",
       "  <thead>\n",
       "    <tr style=\"text-align: right;\">\n",
       "      <th></th>\n",
       "      <th>CRAWL_DATE</th>\n",
       "      <th>JOB_NO</th>\n",
       "      <th>TOTAL_COUNT</th>\n",
       "      <th>SEX</th>\n",
       "      <th>EDU</th>\n",
       "      <th>YEAR_RANGE</th>\n",
       "      <th>WORK_EXP</th>\n",
       "      <th>LANG</th>\n",
       "      <th>MAJOR</th>\n",
       "      <th>SKILL</th>\n",
       "      <th>CERT</th>\n",
       "      <th>UPDATE_DATE</th>\n",
       "    </tr>\n",
       "  </thead>\n",
       "  <tbody>\n",
       "  </tbody>\n",
       "</table>\n",
       "</div>"
      ],
      "text/plain": [
       "Empty DataFrame\n",
       "Columns: [CRAWL_DATE, JOB_NO, TOTAL_COUNT, SEX, EDU, YEAR_RANGE, WORK_EXP, LANG, MAJOR, SKILL, CERT, UPDATE_DATE]\n",
       "Index: []"
      ]
     },
     "execution_count": 5,
     "metadata": {},
     "output_type": "execute_result"
    }
   ],
   "source": [
    "import pandas as pd\n",
    "import sqlite3\n",
    "\n",
    "with sqlite3.connect('../../db/hr_bank_data_db.db') as con:\n",
    "#     df = pd.read_sql(\"SELECT * FROM raw_comp_desc\", con=con)\n",
    "#     df = pd.read_sql(\"SELECT * FROM raw_job_desc\", con=con)\n",
    "    df = pd.read_sql(\"SELECT * FROM JOB_ANALYSIS\", con=con)\n",
    "#     df = pd.read_sql(\"SELECT * FROM job_analysis\", con=con)\n",
    "#     df = pd.read_sql(\"SELECT * FROM job_prim\", con=con)\n",
    "#     query = '''select * from job_prim \n",
    "#                 where job_no in (select job_no from job_prim group by job_no having count(1) > 1)'''\n",
    "#     df = pd.read_sql(query, con=con)\n",
    "\n",
    "df.head()"
   ]
  },
  {
   "cell_type": "code",
   "execution_count": 50,
   "metadata": {},
   "outputs": [
    {
     "data": {
      "text/plain": [
       "0"
      ]
     },
     "execution_count": 50,
     "metadata": {},
     "output_type": "execute_result"
    }
   ],
   "source": [
    "len(df)"
   ]
  },
  {
   "cell_type": "code",
   "execution_count": 10,
   "metadata": {},
   "outputs": [
    {
     "data": {
      "text/plain": [
       "'{\"sex\": {\"0\": {\"sexName\": \"男\", \"count\": 0, \"percent\": \"0.00\"}, \"1\": {\"sexName\": \"女\", \"count\": 0, \"percent\": \"0.00\"}, \"update_time\": \"2020-11-07 02:11:55\", \"total\": 0}, \"edu\": {\"0\": {\"eduName\": \"博碩士\", \"count\": 0, \"percent\": 0}, \"1\": {\"eduName\": \"大學\", \"count\": 0, \"percent\": 0}, \"2\": {\"eduName\": \"專科\", \"count\": 0, \"percent\": 0}, \"3\": {\"eduName\": \"高中職\", \"count\": 0, \"percent\": 0}, \"4\": {\"eduName\": \"國中(含)以下\", \"count\": 0, \"percent\": 0}, \"5\": {\"eduName\": \"不拘\", \"count\": 0, \"percent\": 0}, \"6\": {\"eduName\": \"無法判斷\", \"count\": 0, \"percent\": 0}, \"update_time\": \"2020-11-07 02:11:55\", \"total\": 0}, \"yearRange\": {\"0\": {\"yearRangeName\": \"20歲以下\", \"count\": 0, \"percent\": 0}, \"1\": {\"yearRangeName\": \"21~25歲\", \"count\": 0, \"percent\": 0}, \"2\": {\"yearRangeName\": \"26~30歲\", \"count\": 0, \"percent\": 0}, \"3\": {\"yearRangeName\": \"31~35歲\", \"count\": 0, \"percent\": 0}, \"4\": {\"yearRangeName\": \"36~40歲\", \"count\": 0, \"percent\": 0}, \"5\": {\"yearRangeName\": \"41~45歲\", \"count\": 0, \"percent\": 0}, \"6\": {\"yearRangeName\": \"46~50歲\", \"count\": 0, \"percent\": 0}, \"7\": {\"yearRangeName\": \"51~55歲\", \"count\": 0, \"percent\": 0}, \"8\": {\"yearRangeName\": \"56~60歲\", \"count\": 0, \"percent\": 0}, \"9\": {\"yearRangeName\": \"60歲以上\", \"count\": 0, \"percent\": 0}, \"update_time\": \"2020-11-07 02:11:55\", \"total\": 0}, \"exp\": {\"0\": {\"expName\": \"無工作經驗\", \"count\": 0, \"percent\": 0}, \"1\": {\"expName\": \"1年以下\", \"count\": 0, \"percent\": 0}, \"2\": {\"expName\": \"1~3年 \", \"count\": 0, \"percent\": 0}, \"3\": {\"expName\": \"3~5年\", \"count\": 0, \"percent\": 0}, \"4\": {\"expName\": \"5~10年\", \"count\": 0, \"percent\": 0}, \"5\": {\"expName\": \"10~15年\", \"count\": 0, \"percent\": 0}, \"6\": {\"expName\": \"15~20年\", \"count\": 0, \"percent\": 0}, \"7\": {\"expName\": \"20~25年\", \"count\": 0, \"percent\": 0}, \"8\": {\"expName\": \"25年以上\", \"count\": 0, \"percent\": 0}, \"update_time\": \"2020-11-07 02:11:55\", \"total\": 0}, \"language\": {\"update_time\": \"2020-11-07 02:11:55\", \"total\": 0}, \"major\": {\"update_time\": \"2020-11-07 02:11:55\", \"total\": 0}, \"skill\": {\"update_time\": \"2020-11-07 02:11:55\", \"total\": 0}, \"cert\": {\"update_time\": \"2020-11-07 02:11:55\", \"total\": 0}}'"
      ]
     },
     "execution_count": 10,
     "metadata": {},
     "output_type": "execute_result"
    }
   ],
   "source": [
    "df['JOB_ANALYSIS_JSON'][1]"
   ]
  },
  {
   "cell_type": "code",
   "execution_count": 8,
   "metadata": {},
   "outputs": [
    {
     "data": {
      "text/plain": [
       "'{\"jobType\": \"0\", \"jobNo\": \"11927515\", \"jobName\": \"SEO主管\", \"jobNameSnippet\": \"SEO主管\", \"jobRole\": \"1\", \"jobRo\": \"1\", \"jobAddrNo\": \"6001001005\", \"jobAddrNoDesc\": \"台北市大安區\", \"jobAddress\": \"敦化南路2段\", \"description\": \"1.把握網站SEO行業的方向，制定公司網站的優化策略，能獨立撰寫SEO方案，提高網站優化效果。\\\\n2.精通各大搜尋引擎的優化，操作過中大型網站的經驗。\\\\n3.定期跟蹤、分析、總結SEO效果，為網站整體運營目標提供流量支援，提升網站權重，並有良好的SEO轉化效果。\\\\n4.進行站內優化、站外優化及內外部連結優化、關鍵字優化、代碼優化、圖片優化、結構優化等。\\\\n5.關注競爭對手及其他網站相關策略，結合公司相關資訊，提出合理化建議及應對措施。\\\\n6.熟黑帽手法佳。\\\\n\", \"optionEdu\": \"大學\", \"period\": \"00\", \"periodDesc\": \"經歷不拘\", \"applyCnt\": \"00001\", \"applyDesc\": \"0~5人應徵\", \"custNo\": \"130000000158860\", \"custName\": \"金鴻國際事業有限公司\", \"coIndustry\": \"1001001002\", \"coIndustryDesc\": \"電腦軟體服務業\", \"salaryLow\": \"0000000\", \"salaryHigh\": \"0000000\", \"salaryDesc\": \"待遇面議\", \"s10\": \"10\", \"appearDate\": \"20201103\", \"appearDateDesc\": \"11/03\", \"optionZone\": \"0\", \"isApply\": \"0\", \"applyDate\": \"\", \"isSave\": \"0\", \"descSnippet\": \"1.把握網站SEO行業的方向，制定公司網站的優化策略，能獨立撰寫SEO方案，提高網站優化效果。\\\\n2.精通各大搜尋引擎的優化，操作過中大型網站的經驗。\\\\n3.定期跟蹤、分析、總結SEO效果，為網站整體運營目標提供流量支援，提升網站權重，並有良好的SEO轉化效果。\\\\n4.進行站內優化、站外優化及內外部連結優化、關鍵字優化、代碼優化、圖片優化、結構優化等。\\\\n5.關注競爭對手及其他網站相關策略，結合公司相關資訊，提出合理化建議及應對措施。\\\\n6.熟黑帽手法佳。\\\\n\", \"tags\": [], \"landmark\": \"\", \"link\": {\"applyAnalyze\": \"//www.104.com.tw/jobs/apply/analysis/73nbv?channel=104rpt&jobsource=apply_analyze\", \"job\": \"//www.104.com.tw/job/73nbv?jobsource=n104bank2\", \"cust\": \"//www.104.com.tw/company/1a2x6bldvw?jobsource=n104bank2\"}, \"jobsource\": \"\", \"jobNameRaw\": \"SEO主管\", \"custNameRaw\": \"金鴻國際事業有限公司\", \"lon\": \"121.5489881\", \"lat\": \"25.0269876\"}'"
      ]
     },
     "execution_count": 8,
     "metadata": {},
     "output_type": "execute_result"
    }
   ],
   "source": [
    "df['SEARCH_JOB_JSON'][0]"
   ]
  },
  {
   "cell_type": "code",
   "execution_count": 27,
   "metadata": {},
   "outputs": [],
   "source": [
    "j = {'data': ['\\\\u8edf\\\\u9ad4']}"
   ]
  },
  {
   "cell_type": "code",
   "execution_count": 21,
   "metadata": {},
   "outputs": [],
   "source": [
    "import json"
   ]
  },
  {
   "cell_type": "code",
   "execution_count": 22,
   "metadata": {},
   "outputs": [
    {
     "data": {
      "text/plain": [
       "'{\"data\": [\"\\\\\\\\u8edf\\\\\\\\u9ad4\"]}'"
      ]
     },
     "execution_count": 22,
     "metadata": {},
     "output_type": "execute_result"
    }
   ],
   "source": [
    "json.dumps(j, )"
   ]
  },
  {
   "cell_type": "code",
   "execution_count": null,
   "metadata": {},
   "outputs": [],
   "source": []
  },
  {
   "cell_type": "code",
   "execution_count": 8,
   "metadata": {},
   "outputs": [
    {
     "data": {
      "text/html": [
       "<div>\n",
       "<style scoped>\n",
       "    .dataframe tbody tr th:only-of-type {\n",
       "        vertical-align: middle;\n",
       "    }\n",
       "\n",
       "    .dataframe tbody tr th {\n",
       "        vertical-align: top;\n",
       "    }\n",
       "\n",
       "    .dataframe thead th {\n",
       "        text-align: right;\n",
       "    }\n",
       "</style>\n",
       "<table border=\"1\" class=\"dataframe\">\n",
       "  <thead>\n",
       "    <tr style=\"text-align: right;\">\n",
       "      <th></th>\n",
       "      <th>CRAWL_DATE</th>\n",
       "      <th>COMP_NO</th>\n",
       "      <th>COMP_NAME</th>\n",
       "      <th>INDUST_NAME</th>\n",
       "      <th>INDUST_CAT</th>\n",
       "      <th>EMP_COUNT_DESC</th>\n",
       "      <th>CAPITAL</th>\n",
       "      <th>COMP_ADDR</th>\n",
       "      <th>COMP_LINK</th>\n",
       "      <th>PROFILE</th>\n",
       "      <th>PRODUCT</th>\n",
       "      <th>WELFARE</th>\n",
       "      <th>MANAGEMENT</th>\n",
       "      <th>NEWS</th>\n",
       "      <th>WELFARE_TAG</th>\n",
       "      <th>LEGAL_TAG</th>\n",
       "      <th>COMP_ADDR_DIST</th>\n",
       "    </tr>\n",
       "  </thead>\n",
       "  <tbody>\n",
       "    <tr>\n",
       "      <th>0</th>\n",
       "      <td>20201107</td>\n",
       "      <td>130000000127052</td>\n",
       "      <td>牧陽能控股份有限公司</td>\n",
       "      <td>光電產業</td>\n",
       "      <td>太陽能發電系統ヽ沼氣生成與發電系統ヽ空氣源熱泵系統ヽ能源監控系統與綠色能源系統整合工程之開發...</td>\n",
       "      <td>27人</td>\n",
       "      <td>8282萬元</td>\n",
       "      <td>台南市東區勝利路118號2樓</td>\n",
       "      <td>http://www.greenshepherd.com.tw/</td>\n",
       "      <td>Green Shepherd Co Ltd -以綠色概念為主期許發展成為綠能界的牧陽(羊)人...</td>\n",
       "      <td>服務項目:\\n太陽能電廠系統規劃設計、\\n監造施工、維運保養\\n家用光電採光罩\\n節能熱泵熱...</td>\n",
       "      <td>●休假制度: \\n 依勞基法規定。 \\n ●完善保險: \\n 勞保、健保、退休金提撥、員工團...</td>\n",
       "      <td></td>\n",
       "      <td></td>\n",
       "      <td></td>\n",
       "      <td></td>\n",
       "      <td>台南市東區</td>\n",
       "    </tr>\n",
       "    <tr>\n",
       "      <th>1</th>\n",
       "      <td>20201107</td>\n",
       "      <td>130000000158860</td>\n",
       "      <td>金鴻國際事業有限公司</td>\n",
       "      <td>電腦軟體服務業</td>\n",
       "      <td>電腦軟體服務業</td>\n",
       "      <td>暫不提供</td>\n",
       "      <td>1000萬元</td>\n",
       "      <td>台北市大安區敦化南路2段</td>\n",
       "      <td></td>\n",
       "      <td>金鴻國際專注於平台維運，卓越的團隊建構最順暢且穩定運作的系統，秉持著突破、創新、積極的態度，...</td>\n",
       "      <td></td>\n",
       "      <td>考勤類(輪班同仁另計)\\n1.\\t彈性工時\\n2.\\t見紅就休\\n制度類\\n1.\\t定期績效...</td>\n",
       "      <td>金鴻國際理念為『三不一沒有』\\n「不」框定思想：不先入為主的待人及討論。\\n「不」計較年齡：...</td>\n",
       "      <td></td>\n",
       "      <td>年終獎金、三節獎金/禮品、零食櫃、咖啡吧、結婚禮金、生育津貼、部門聚餐、免費下午茶、伙食津貼</td>\n",
       "      <td>哺乳室、週休二日、家庭照顧假、勞保、健保、陪產假、產假、特別休假、育嬰留停、女性生理假、勞退...</td>\n",
       "      <td>台北市大安區</td>\n",
       "    </tr>\n",
       "    <tr>\n",
       "      <th>2</th>\n",
       "      <td>20201107</td>\n",
       "      <td>97311466000</td>\n",
       "      <td>精誠資訊股份有限公司</td>\n",
       "      <td>電腦系統整合服務業</td>\n",
       "      <td>資訊服務業</td>\n",
       "      <td>2000人</td>\n",
       "      <td>26億7000萬元</td>\n",
       "      <td>台北市內湖區瑞光路318號</td>\n",
       "      <td>http://tw.systex.com/</td>\n",
       "      <td>精誠資訊SYSTEX Corporation (台股代號6214) 成立於1997年，是台灣...</td>\n",
       "      <td>服務及解決方案\\n    1.\\tBig Data解決方案\\n    2.\\t企業營運智慧管...</td>\n",
       "      <td>精誠資訊擁有完整的員工職涯發展體系規劃，以專業職與管理職雙軌制度，提供員工個別發展及考核計畫...</td>\n",
       "      <td></td>\n",
       "      <td>https://tw.systex.com/news/latest-news/</td>\n",
       "      <td></td>\n",
       "      <td></td>\n",
       "      <td>台北市內湖區</td>\n",
       "    </tr>\n",
       "    <tr>\n",
       "      <th>3</th>\n",
       "      <td>20201107</td>\n",
       "      <td>28847204000</td>\n",
       "      <td>台灣樂天市場股份有限公司</td>\n",
       "      <td>網際網路相關業</td>\n",
       "      <td>網際網路相關業</td>\n",
       "      <td>300人</td>\n",
       "      <td>35億7200萬元</td>\n",
       "      <td>台北市中山區民生東路三段49號11樓</td>\n",
       "      <td>https://www.rakuten.com.tw/</td>\n",
       "      <td>日本樂天集團是提供網際網路服務的全球領先者之一，全球佈局涵蓋10大產業:電商﹑信用卡及支付﹑...</td>\n",
       "      <td>台灣樂天市場為電子商務平台，提供「商家」及「消費者」 Online的Shopping Mal...</td>\n",
       "      <td>★ 壽星最大，生日當月爽放生日假一天\\n★ 到職第一年就享有8天特休假 (依到職比例計算，第...</td>\n",
       "      <td>1.時時改善，日日精進\\n2.貫徹專業精神\\n3.假設→執行→驗證→制度化\\n4.追求最高的...</td>\n",
       "      <td>台灣樂天徵才 Rakuten Taiwan Careers</td>\n",
       "      <td>生日假、優於勞基法特休、慶生會、特約商店、員工配股、結婚禮金、生育津貼、子女教育獎助學金、年...</td>\n",
       "      <td>家庭照顧假</td>\n",
       "      <td>台北市中山區</td>\n",
       "    </tr>\n",
       "    <tr>\n",
       "      <th>4</th>\n",
       "      <td>20201107</td>\n",
       "      <td>22798584000</td>\n",
       "      <td>恒耀工業股份有限公司</td>\n",
       "      <td>其他金屬相關製造業</td>\n",
       "      <td>金屬製造加工(汽車零組件/焊接螺帽)</td>\n",
       "      <td>1000人</td>\n",
       "      <td>11億</td>\n",
       "      <td>台南市仁德區新田二街1號</td>\n",
       "      <td>http://www.boltun.com.tw</td>\n",
       "      <td>恒耀工業自創業以來，即秉持著品質第一，客戶優先的理念，建立起『外以開發創新，內以思過自省』的...</td>\n",
       "      <td>汽車螺絲/螺帽、擠壓扣件、沖壓零件、六角突緣螺帽、T形螺帽、汽機車用組合件、盤形華司螺帽、拉...</td>\n",
       "      <td>◆ 獎金 / 禮品類\\n           1.年終獎金\\n           2.三節...</td>\n",
       "      <td></td>\n",
       "      <td></td>\n",
       "      <td></td>\n",
       "      <td></td>\n",
       "      <td>台南市仁德區</td>\n",
       "    </tr>\n",
       "  </tbody>\n",
       "</table>\n",
       "</div>"
      ],
      "text/plain": [
       "   CRAWL_DATE          COMP_NO     COMP_NAME INDUST_NAME  \\\n",
       "0    20201107  130000000127052    牧陽能控股份有限公司        光電產業   \n",
       "1    20201107  130000000158860    金鴻國際事業有限公司     電腦軟體服務業   \n",
       "2    20201107      97311466000    精誠資訊股份有限公司   電腦系統整合服務業   \n",
       "3    20201107      28847204000  台灣樂天市場股份有限公司     網際網路相關業   \n",
       "4    20201107      22798584000    恒耀工業股份有限公司   其他金屬相關製造業   \n",
       "\n",
       "                                          INDUST_CAT EMP_COUNT_DESC  \\\n",
       "0  太陽能發電系統ヽ沼氣生成與發電系統ヽ空氣源熱泵系統ヽ能源監控系統與綠色能源系統整合工程之開發...            27人   \n",
       "1                                            電腦軟體服務業           暫不提供   \n",
       "2                                              資訊服務業          2000人   \n",
       "3                                            網際網路相關業           300人   \n",
       "4                                 金屬製造加工(汽車零組件/焊接螺帽)          1000人   \n",
       "\n",
       "     CAPITAL           COMP_ADDR                         COMP_LINK  \\\n",
       "0     8282萬元      台南市東區勝利路118號2樓  http://www.greenshepherd.com.tw/   \n",
       "1     1000萬元        台北市大安區敦化南路2段                                     \n",
       "2  26億7000萬元       台北市內湖區瑞光路318號             http://tw.systex.com/   \n",
       "3  35億7200萬元  台北市中山區民生東路三段49號11樓       https://www.rakuten.com.tw/   \n",
       "4        11億        台南市仁德區新田二街1號          http://www.boltun.com.tw   \n",
       "\n",
       "                                             PROFILE  \\\n",
       "0  Green Shepherd Co Ltd -以綠色概念為主期許發展成為綠能界的牧陽(羊)人...   \n",
       "1  金鴻國際專注於平台維運，卓越的團隊建構最順暢且穩定運作的系統，秉持著突破、創新、積極的態度，...   \n",
       "2  精誠資訊SYSTEX Corporation (台股代號6214) 成立於1997年，是台灣...   \n",
       "3  日本樂天集團是提供網際網路服務的全球領先者之一，全球佈局涵蓋10大產業:電商﹑信用卡及支付﹑...   \n",
       "4  恒耀工業自創業以來，即秉持著品質第一，客戶優先的理念，建立起『外以開發創新，內以思過自省』的...   \n",
       "\n",
       "                                             PRODUCT  \\\n",
       "0  服務項目:\\n太陽能電廠系統規劃設計、\\n監造施工、維運保養\\n家用光電採光罩\\n節能熱泵熱...   \n",
       "1                                                      \n",
       "2  服務及解決方案\\n    1.\\tBig Data解決方案\\n    2.\\t企業營運智慧管...   \n",
       "3  台灣樂天市場為電子商務平台，提供「商家」及「消費者」 Online的Shopping Mal...   \n",
       "4  汽車螺絲/螺帽、擠壓扣件、沖壓零件、六角突緣螺帽、T形螺帽、汽機車用組合件、盤形華司螺帽、拉...   \n",
       "\n",
       "                                             WELFARE  \\\n",
       "0  ●休假制度: \\n 依勞基法規定。 \\n ●完善保險: \\n 勞保、健保、退休金提撥、員工團...   \n",
       "1  考勤類(輪班同仁另計)\\n1.\\t彈性工時\\n2.\\t見紅就休\\n制度類\\n1.\\t定期績效...   \n",
       "2  精誠資訊擁有完整的員工職涯發展體系規劃，以專業職與管理職雙軌制度，提供員工個別發展及考核計畫...   \n",
       "3  ★ 壽星最大，生日當月爽放生日假一天\\n★ 到職第一年就享有8天特休假 (依到職比例計算，第...   \n",
       "4  ◆ 獎金 / 禮品類\\n           1.年終獎金\\n           2.三節...   \n",
       "\n",
       "                                          MANAGEMENT  \\\n",
       "0                                                      \n",
       "1  金鴻國際理念為『三不一沒有』\\n「不」框定思想：不先入為主的待人及討論。\\n「不」計較年齡：...   \n",
       "2                                                      \n",
       "3  1.時時改善，日日精進\\n2.貫徹專業精神\\n3.假設→執行→驗證→制度化\\n4.追求最高的...   \n",
       "4                                                      \n",
       "\n",
       "                                      NEWS  \\\n",
       "0                                            \n",
       "1                                            \n",
       "2  https://tw.systex.com/news/latest-news/   \n",
       "3            台灣樂天徵才 Rakuten Taiwan Careers   \n",
       "4                                            \n",
       "\n",
       "                                         WELFARE_TAG  \\\n",
       "0                                                      \n",
       "1     年終獎金、三節獎金/禮品、零食櫃、咖啡吧、結婚禮金、生育津貼、部門聚餐、免費下午茶、伙食津貼   \n",
       "2                                                      \n",
       "3  生日假、優於勞基法特休、慶生會、特約商店、員工配股、結婚禮金、生育津貼、子女教育獎助學金、年...   \n",
       "4                                                      \n",
       "\n",
       "                                           LEGAL_TAG COMP_ADDR_DIST  \n",
       "0                                                             台南市東區  \n",
       "1  哺乳室、週休二日、家庭照顧假、勞保、健保、陪產假、產假、特別休假、育嬰留停、女性生理假、勞退...         台北市大安區  \n",
       "2                                                            台北市內湖區  \n",
       "3                                              家庭照顧假         台北市中山區  \n",
       "4                                                            台南市仁德區  "
      ]
     },
     "execution_count": 8,
     "metadata": {},
     "output_type": "execute_result"
    }
   ],
   "source": [
    "import pandas as pd\n",
    "import sqlite3\n",
    "\n",
    "with sqlite3.connect('db/test_db.db') as con:\n",
    "    df = pd.read_sql(\"SELECT * FROM COMP_DESC\", con=con)\n",
    "#     df = pd.read_sql(\"SELECT * FROM JOB_ANALYSIS\", con=con)\n",
    "#     df = pd.read_sql(\"SELECT * FROM RAW_JOB_DESC\", con=con)\n",
    "\n",
    "df.head()"
   ]
  },
  {
   "cell_type": "code",
   "execution_count": 9,
   "metadata": {},
   "outputs": [
    {
     "data": {
      "text/plain": [
       "387"
      ]
     },
     "execution_count": 9,
     "metadata": {},
     "output_type": "execute_result"
    }
   ],
   "source": [
    "len(df)"
   ]
  },
  {
   "cell_type": "code",
   "execution_count": 21,
   "metadata": {},
   "outputs": [
    {
     "data": {
      "text/html": [
       "<div>\n",
       "<style scoped>\n",
       "    .dataframe tbody tr th:only-of-type {\n",
       "        vertical-align: middle;\n",
       "    }\n",
       "\n",
       "    .dataframe tbody tr th {\n",
       "        vertical-align: top;\n",
       "    }\n",
       "\n",
       "    .dataframe thead th {\n",
       "        text-align: right;\n",
       "    }\n",
       "</style>\n",
       "<table border=\"1\" class=\"dataframe\">\n",
       "  <thead>\n",
       "    <tr style=\"text-align: right;\">\n",
       "      <th></th>\n",
       "      <th>CRAWL_DATE</th>\n",
       "      <th>JOB_NO</th>\n",
       "      <th>SEARCH_JOB_JSON</th>\n",
       "      <th>JOB_DESC_JSON</th>\n",
       "      <th>JOB_ANALYSIS_JSON</th>\n",
       "    </tr>\n",
       "  </thead>\n",
       "  <tbody>\n",
       "    <tr>\n",
       "      <th>0</th>\n",
       "      <td>20201113</td>\n",
       "      <td>11927515</td>\n",
       "      <td>{\"jobType\": \"0\", \"jobNo\": \"11927515\", \"jobName...</td>\n",
       "      <td>{\"data\": {\"corpImageRight\": {\"corpImageRight\":...</td>\n",
       "      <td>{\"sex\": {\"0\": {\"sexName\": \"男\", \"count\": 0, \"pe...</td>\n",
       "    </tr>\n",
       "  </tbody>\n",
       "</table>\n",
       "</div>"
      ],
      "text/plain": [
       "   CRAWL_DATE    JOB_NO                                    SEARCH_JOB_JSON  \\\n",
       "0    20201113  11927515  {\"jobType\": \"0\", \"jobNo\": \"11927515\", \"jobName...   \n",
       "\n",
       "                                       JOB_DESC_JSON  \\\n",
       "0  {\"data\": {\"corpImageRight\": {\"corpImageRight\":...   \n",
       "\n",
       "                                   JOB_ANALYSIS_JSON  \n",
       "0  {\"sex\": {\"0\": {\"sexName\": \"男\", \"count\": 0, \"pe...  "
      ]
     },
     "execution_count": 21,
     "metadata": {},
     "output_type": "execute_result"
    }
   ],
   "source": [
    "with sqlite3.connect('db/test_db.db') as con:\n",
    "#     df = pd.read_sql(\"SELECT * FROM JOB_DESC\", con=con)\n",
    "    df = pd.read_sql(\"SELECT * FROM RAW_JOB_DESC WHERE JOB_NO = '11927515'\", con=con)\n",
    "\n",
    "df.head()"
   ]
  },
  {
   "cell_type": "code",
   "execution_count": 74,
   "metadata": {},
   "outputs": [
    {
     "data": {
      "text/html": [
       "<div>\n",
       "<style scoped>\n",
       "    .dataframe tbody tr th:only-of-type {\n",
       "        vertical-align: middle;\n",
       "    }\n",
       "\n",
       "    .dataframe tbody tr th {\n",
       "        vertical-align: top;\n",
       "    }\n",
       "\n",
       "    .dataframe thead th {\n",
       "        text-align: right;\n",
       "    }\n",
       "</style>\n",
       "<table border=\"1\" class=\"dataframe\">\n",
       "  <thead>\n",
       "    <tr style=\"text-align: right;\">\n",
       "      <th></th>\n",
       "      <th>JOB_NO</th>\n",
       "      <th>JOB_ID</th>\n",
       "      <th>JOB_NAME</th>\n",
       "      <th>JOB_LINK</th>\n",
       "      <th>JOB_TYPE</th>\n",
       "      <th>JOB_ROLE</th>\n",
       "      <th>JOB_CAT</th>\n",
       "      <th>APPLY_COUNT</th>\n",
       "      <th>NEED_EMP</th>\n",
       "      <th>SALARY_MIN</th>\n",
       "      <th>...</th>\n",
       "      <th>WORK_PERIOD</th>\n",
       "      <th>VACATION_POLICY</th>\n",
       "      <th>START_WORK_DAY</th>\n",
       "      <th>HIRE_TYPE</th>\n",
       "      <th>DELEGATE_RECRUIT</th>\n",
       "      <th>JOB_ADDR_DIST</th>\n",
       "      <th>LANDMARK_TAG</th>\n",
       "      <th>LON</th>\n",
       "      <th>LAT</th>\n",
       "      <th>APPEAR_DATE</th>\n",
       "    </tr>\n",
       "  </thead>\n",
       "  <tbody>\n",
       "    <tr>\n",
       "      <th>0</th>\n",
       "      <td>11823702</td>\n",
       "      <td>71f86</td>\n",
       "      <td>AI/Python Dev(語意分析/文本分析/語音辨識/圖像辨識/數據分析)</td>\n",
       "      <td>https://www.104.com.tw/job/71f86?jobsource=n10...</td>\n",
       "      <td>2</td>\n",
       "      <td>1</td>\n",
       "      <td>Internet程式設計師、通訊軟體工程師、演算法開發工程師</td>\n",
       "      <td>30</td>\n",
       "      <td>2~3人</td>\n",
       "      <td>0</td>\n",
       "      <td>...</td>\n",
       "      <td>日班</td>\n",
       "      <td>依公司規定</td>\n",
       "      <td>不限</td>\n",
       "      <td>0</td>\n",
       "      <td></td>\n",
       "      <td>台北市內湖區</td>\n",
       "      <td>距捷運港墘站220公尺</td>\n",
       "      <td>121.5752042</td>\n",
       "      <td>25.0781161</td>\n",
       "      <td>20201113</td>\n",
       "    </tr>\n",
       "  </tbody>\n",
       "</table>\n",
       "<p>1 rows × 39 columns</p>\n",
       "</div>"
      ],
      "text/plain": [
       "     JOB_NO JOB_ID                                 JOB_NAME  \\\n",
       "0  11823702  71f86  AI/Python Dev(語意分析/文本分析/語音辨識/圖像辨識/數據分析)   \n",
       "\n",
       "                                            JOB_LINK JOB_TYPE JOB_ROLE  \\\n",
       "0  https://www.104.com.tw/job/71f86?jobsource=n10...        2        1   \n",
       "\n",
       "                          JOB_CAT  APPLY_COUNT NEED_EMP  SALARY_MIN  \\\n",
       "0  Internet程式設計師、通訊軟體工程師、演算法開發工程師           30     2~3人           0   \n",
       "\n",
       "      ...      WORK_PERIOD VACATION_POLICY START_WORK_DAY HIRE_TYPE  \\\n",
       "0     ...               日班           依公司規定             不限         0   \n",
       "\n",
       "  DELEGATE_RECRUIT JOB_ADDR_DIST  LANDMARK_TAG          LON         LAT  \\\n",
       "0                         台北市內湖區   距捷運港墘站220公尺  121.5752042  25.0781161   \n",
       "\n",
       "  APPEAR_DATE  \n",
       "0    20201113  \n",
       "\n",
       "[1 rows x 39 columns]"
      ]
     },
     "execution_count": 74,
     "metadata": {},
     "output_type": "execute_result"
    }
   ],
   "source": [
    "with sqlite3.connect('db/test_db.db') as con:\n",
    "#     df = pd.read_sql(\"SELECT * FROM JOB_DESC\", con=con)\n",
    "    df = pd.read_sql(\"SELECT * FROM JOB_DESC WHERE JOB_NO = '11823702'\", con=con)\n",
    "\n",
    "df.head()"
   ]
  },
  {
   "cell_type": "code",
   "execution_count": 71,
   "metadata": {},
   "outputs": [],
   "source": [
    "with sqlite3.connect('db/test_db.db') as con:\n",
    "    statement = \"DELETE FROM JOB_ANALYSIS WHERE JOB_NO = '10793920'\"\n",
    "    cur = con.cursor()\n",
    "    cur.execute(statement)\n",
    "    con.commit()"
   ]
  },
  {
   "cell_type": "code",
   "execution_count": 6,
   "metadata": {},
   "outputs": [
    {
     "ename": "OperationalError",
     "evalue": "no such table: JOB_DESC",
     "output_type": "error",
     "traceback": [
      "\u001b[0;31m---------------------------------------------------------------------------\u001b[0m",
      "\u001b[0;31mOperationalError\u001b[0m                          Traceback (most recent call last)",
      "\u001b[0;32m<ipython-input-6-8e077187b98f>\u001b[0m in \u001b[0;36m<module>\u001b[0;34m()\u001b[0m\n\u001b[1;32m      2\u001b[0m     \u001b[0mstatement\u001b[0m \u001b[0;34m=\u001b[0m \u001b[0;34m\"DROP TABLE JOB_DESC\"\u001b[0m\u001b[0;34m\u001b[0m\u001b[0m\n\u001b[1;32m      3\u001b[0m     \u001b[0mcur\u001b[0m \u001b[0;34m=\u001b[0m \u001b[0mcon\u001b[0m\u001b[0;34m.\u001b[0m\u001b[0mcursor\u001b[0m\u001b[0;34m(\u001b[0m\u001b[0;34m)\u001b[0m\u001b[0;34m\u001b[0m\u001b[0m\n\u001b[0;32m----> 4\u001b[0;31m     \u001b[0mcur\u001b[0m\u001b[0;34m.\u001b[0m\u001b[0mexecute\u001b[0m\u001b[0;34m(\u001b[0m\u001b[0mstatement\u001b[0m\u001b[0;34m)\u001b[0m\u001b[0;34m\u001b[0m\u001b[0m\n\u001b[0m\u001b[1;32m      5\u001b[0m     \u001b[0mcon\u001b[0m\u001b[0;34m.\u001b[0m\u001b[0mcommit\u001b[0m\u001b[0;34m(\u001b[0m\u001b[0;34m)\u001b[0m\u001b[0;34m\u001b[0m\u001b[0m\n",
      "\u001b[0;31mOperationalError\u001b[0m: no such table: JOB_DESC"
     ]
    }
   ],
   "source": [
    "with sqlite3.connect('db/hr_bank_data_db.db') as con:\n",
    "    statement = \"DROP TABLE JOB_DESC\"\n",
    "    cur = con.cursor()\n",
    "    cur.execute(statement)\n",
    "    con.commit()"
   ]
  },
  {
   "cell_type": "code",
   "execution_count": null,
   "metadata": {},
   "outputs": [],
   "source": []
  },
  {
   "cell_type": "code",
   "execution_count": 5,
   "metadata": {},
   "outputs": [
    {
     "data": {
      "text/html": [
       "<div>\n",
       "<style scoped>\n",
       "    .dataframe tbody tr th:only-of-type {\n",
       "        vertical-align: middle;\n",
       "    }\n",
       "\n",
       "    .dataframe tbody tr th {\n",
       "        vertical-align: top;\n",
       "    }\n",
       "\n",
       "    .dataframe thead th {\n",
       "        text-align: right;\n",
       "    }\n",
       "</style>\n",
       "<table border=\"1\" class=\"dataframe\">\n",
       "  <thead>\n",
       "    <tr style=\"text-align: right;\">\n",
       "      <th></th>\n",
       "      <th>CRAWL_DATE</th>\n",
       "      <th>COMP_NO</th>\n",
       "      <th>JSON_STRING</th>\n",
       "    </tr>\n",
       "  </thead>\n",
       "  <tbody>\n",
       "    <tr>\n",
       "      <th>0</th>\n",
       "      <td>20201227</td>\n",
       "      <td>70565450000</td>\n",
       "      <td>{\"data\": {\"custSwitch\": \"on\", \"custName\": \"安碁資...</td>\n",
       "    </tr>\n",
       "    <tr>\n",
       "      <th>1</th>\n",
       "      <td>20201227</td>\n",
       "      <td>20685000000</td>\n",
       "      <td>{\"data\": {\"custSwitch\": \"on\", \"custName\": \"臺灣電...</td>\n",
       "    </tr>\n",
       "    <tr>\n",
       "      <th>2</th>\n",
       "      <td>20201227</td>\n",
       "      <td>16313302000</td>\n",
       "      <td>{\"data\": {\"custSwitch\": \"on\", \"custName\": \"網際威...</td>\n",
       "    </tr>\n",
       "    <tr>\n",
       "      <th>3</th>\n",
       "      <td>20201227</td>\n",
       "      <td>130000000072800</td>\n",
       "      <td>{\"data\": {\"custSwitch\": \"on\", \"custName\": \"大數據...</td>\n",
       "    </tr>\n",
       "    <tr>\n",
       "      <th>4</th>\n",
       "      <td>20201227</td>\n",
       "      <td>130000000104361</td>\n",
       "      <td>{\"data\": {\"custSwitch\": \"on\", \"custName\": \"The...</td>\n",
       "    </tr>\n",
       "  </tbody>\n",
       "</table>\n",
       "</div>"
      ],
      "text/plain": [
       "   CRAWL_DATE          COMP_NO  \\\n",
       "0    20201227      70565450000   \n",
       "1    20201227      20685000000   \n",
       "2    20201227      16313302000   \n",
       "3    20201227  130000000072800   \n",
       "4    20201227  130000000104361   \n",
       "\n",
       "                                         JSON_STRING  \n",
       "0  {\"data\": {\"custSwitch\": \"on\", \"custName\": \"安碁資...  \n",
       "1  {\"data\": {\"custSwitch\": \"on\", \"custName\": \"臺灣電...  \n",
       "2  {\"data\": {\"custSwitch\": \"on\", \"custName\": \"網際威...  \n",
       "3  {\"data\": {\"custSwitch\": \"on\", \"custName\": \"大數據...  \n",
       "4  {\"data\": {\"custSwitch\": \"on\", \"custName\": \"The...  "
      ]
     },
     "execution_count": 5,
     "metadata": {},
     "output_type": "execute_result"
    }
   ],
   "source": [
    "import pandas as pd\n",
    "import sqlite3\n",
    "\n",
    "with sqlite3.connect('../../db/hr_bank_data_db.db') as con:\n",
    "    # T_RAW_SEARCH, T_RAW_JOB, T_RAW_JOB_ANALYSIS, T_RAW_COMP\n",
    "    df = pd.read_sql(\"SELECT * FROM T_RAW_COMP\", con=con)\n",
    "    \n",
    "#     query = '''select * from job_prim \n",
    "#                 where job_no in (select job_no from job_prim group by job_no having count(1) > 1)'''\n",
    "#     df = pd.read_sql(query, con=con)\n",
    "\n",
    "df.head()"
   ]
  },
  {
   "cell_type": "code",
   "execution_count": null,
   "metadata": {},
   "outputs": [],
   "source": []
  }
 ],
 "metadata": {
  "kernelspec": {
   "display_name": "Python 3",
   "language": "python",
   "name": "python3"
  },
  "language_info": {
   "codemirror_mode": {
    "name": "ipython",
    "version": 3
   },
   "file_extension": ".py",
   "mimetype": "text/x-python",
   "name": "python",
   "nbconvert_exporter": "python",
   "pygments_lexer": "ipython3",
   "version": "3.7.0"
  }
 },
 "nbformat": 4,
 "nbformat_minor": 2
}
