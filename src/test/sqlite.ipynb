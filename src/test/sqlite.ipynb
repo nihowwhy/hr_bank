{
 "cells": [
  {
   "cell_type": "code",
   "execution_count": 6,
   "metadata": {},
   "outputs": [
    {
     "data": {
      "text/html": [
       "<div>\n",
       "<style scoped>\n",
       "    .dataframe tbody tr th:only-of-type {\n",
       "        vertical-align: middle;\n",
       "    }\n",
       "\n",
       "    .dataframe tbody tr th {\n",
       "        vertical-align: top;\n",
       "    }\n",
       "\n",
       "    .dataframe thead th {\n",
       "        text-align: right;\n",
       "    }\n",
       "</style>\n",
       "<table border=\"1\" class=\"dataframe\">\n",
       "  <thead>\n",
       "    <tr style=\"text-align: right;\">\n",
       "      <th></th>\n",
       "      <th>JOB_NO</th>\n",
       "      <th>JOB_ID</th>\n",
       "      <th>JOB_NAME</th>\n",
       "      <th>COMP_NO</th>\n",
       "      <th>COMP_ID</th>\n",
       "      <th>COMP_NAME</th>\n",
       "      <th>INDUST_NO</th>\n",
       "      <th>INDUST_DESC</th>\n",
       "      <th>APPEAR_DATE</th>\n",
       "      <th>CRAWL_DATE</th>\n",
       "    </tr>\n",
       "  </thead>\n",
       "  <tbody>\n",
       "    <tr>\n",
       "      <th>0</th>\n",
       "      <td>11734075</td>\n",
       "      <td>6zi2j</td>\n",
       "      <td>數據工程師 /資料處理工程師</td>\n",
       "      <td>130000000125013</td>\n",
       "      <td>1a2x6bknrp</td>\n",
       "      <td>創視科技有限公司</td>\n",
       "      <td>1001001002</td>\n",
       "      <td>電腦軟體服務業</td>\n",
       "      <td>20201019</td>\n",
       "      <td>20201022</td>\n",
       "    </tr>\n",
       "    <tr>\n",
       "      <th>1</th>\n",
       "      <td>11795809</td>\n",
       "      <td>70tpd</td>\n",
       "      <td>全端工程師</td>\n",
       "      <td>130000000154942</td>\n",
       "      <td>1a2x6blav2</td>\n",
       "      <td>呼聲數位娛樂有限公司</td>\n",
       "      <td>1006003001</td>\n",
       "      <td>廣告行銷公關業</td>\n",
       "      <td>20201019</td>\n",
       "      <td>20201022</td>\n",
       "    </tr>\n",
       "    <tr>\n",
       "      <th>2</th>\n",
       "      <td>11073371</td>\n",
       "      <td>6lc9n</td>\n",
       "      <td>資料工程師</td>\n",
       "      <td>130000000012043</td>\n",
       "      <td>1a2x6bi8ln</td>\n",
       "      <td>凡谷興業有限公司</td>\n",
       "      <td>1001001006</td>\n",
       "      <td>其它軟體及網路相關業</td>\n",
       "      <td>20201021</td>\n",
       "      <td>20201022</td>\n",
       "    </tr>\n",
       "    <tr>\n",
       "      <th>3</th>\n",
       "      <td>11421523</td>\n",
       "      <td>6sswj</td>\n",
       "      <td>寵物水族銷售人員-新莊店</td>\n",
       "      <td>24328949000</td>\n",
       "      <td>b6ctt6w</td>\n",
       "      <td>東森新媒體控股股份有限公司</td>\n",
       "      <td>1001001003</td>\n",
       "      <td>網際網路相關業</td>\n",
       "      <td>20201019</td>\n",
       "      <td>20201022</td>\n",
       "    </tr>\n",
       "    <tr>\n",
       "      <th>4</th>\n",
       "      <td>11672185</td>\n",
       "      <td>6y6bd</td>\n",
       "      <td>WEB程式實習生-學生實習</td>\n",
       "      <td>130000000064764</td>\n",
       "      <td>1a2x6bjda4</td>\n",
       "      <td>旭峻資訊有限公司</td>\n",
       "      <td>1001001003</td>\n",
       "      <td>網際網路相關業</td>\n",
       "      <td>20201019</td>\n",
       "      <td>20201022</td>\n",
       "    </tr>\n",
       "  </tbody>\n",
       "</table>\n",
       "</div>"
      ],
      "text/plain": [
       "     JOB_NO JOB_ID        JOB_NAME          COMP_NO     COMP_ID  \\\n",
       "0  11734075  6zi2j  數據工程師 /資料處理工程師  130000000125013  1a2x6bknrp   \n",
       "1  11795809  70tpd           全端工程師  130000000154942  1a2x6blav2   \n",
       "2  11073371  6lc9n           資料工程師  130000000012043  1a2x6bi8ln   \n",
       "3  11421523  6sswj    寵物水族銷售人員-新莊店      24328949000     b6ctt6w   \n",
       "4  11672185  6y6bd   WEB程式實習生-學生實習  130000000064764  1a2x6bjda4   \n",
       "\n",
       "       COMP_NAME   INDUST_NO INDUST_DESC  APPEAR_DATE  CRAWL_DATE  \n",
       "0       創視科技有限公司  1001001002     電腦軟體服務業     20201019    20201022  \n",
       "1     呼聲數位娛樂有限公司  1006003001     廣告行銷公關業     20201019    20201022  \n",
       "2       凡谷興業有限公司  1001001006  其它軟體及網路相關業     20201021    20201022  \n",
       "3  東森新媒體控股股份有限公司  1001001003     網際網路相關業     20201019    20201022  \n",
       "4       旭峻資訊有限公司  1001001003     網際網路相關業     20201019    20201022  "
      ]
     },
     "execution_count": 6,
     "metadata": {},
     "output_type": "execute_result"
    }
   ],
   "source": [
    "import pandas as pd\n",
    "import sqlite3\n",
    "\n",
    "with sqlite3.connect('../../db/hr_bank_raw_db.db') as con:\n",
    "#     df = pd.read_sql(\"SELECT * FROM comp_desc\", con=con)\n",
    "#     df = pd.read_sql(\"SELECT * FROM job_desc\", con=con)\n",
    "    df = pd.read_sql(\"SELECT * FROM job_prim\", con=con)\n",
    "#     query = '''select * from job_prim \n",
    "#                 where job_no in (select job_no from job_prim group by job_no having count(1) > 1)'''\n",
    "#     df = pd.read_sql(query, con=con)\n",
    "\n",
    "df.head()"
   ]
  },
  {
   "cell_type": "code",
   "execution_count": 7,
   "metadata": {},
   "outputs": [
    {
     "data": {
      "text/plain": [
       "102"
      ]
     },
     "execution_count": 7,
     "metadata": {},
     "output_type": "execute_result"
    }
   ],
   "source": [
    "len(df)"
   ]
  },
  {
   "cell_type": "code",
   "execution_count": null,
   "metadata": {},
   "outputs": [],
   "source": []
  },
  {
   "cell_type": "code",
   "execution_count": 34,
   "metadata": {},
   "outputs": [
    {
     "data": {
      "text/plain": [
       "'{\"jobType\": \"0\", \"jobNo\": \"11832372\", \"jobName\": \"Java/Python程式設計師\", \"jobNameSnippet\": \"Java/Python程式設計師\", \"jobRole\": \"1\", \"jobRo\": \"1\", \"jobAddrNo\": \"6001002004\", \"jobAddrNoDesc\": \"新北市汐止區\", \"jobAddress\": \"\", \"description\": \"1.Web Scraping\\\\n2.Coding and developing based on requirement and spec\\\\n3.Syetem Testing\\\\n4.System trouble shooting and fixing bugs\\\\n5.System Monitoring to ensure system running smoothly and normal\\\\n6.Improve system stability and performance\\\\n7.Research new solution to increase development productivity\\\\n\", \"optionEdu\": \"大學\", \"period\": \"00\", \"periodDesc\": \"經歷不拘\", \"applyCnt\": \"00004\", \"applyDesc\": \"0~5人應徵\", \"custNo\": \"16141792000\", \"custName\": \"美台華德科技股份有限公司\", \"coIndustry\": \"1001003001\", \"coIndustryDesc\": \"電腦及其週邊設備製造業\", \"salaryLow\": \"0028000\", \"salaryHigh\": \"0050000\", \"salaryDesc\": \"月薪28,000~50,000元\", \"s10\": \"50\", \"appearDate\": \"20201013\", \"appearDateDesc\": \"10/13\", \"optionZone\": \"0\", \"isApply\": \"0\", \"applyDate\": \"\", \"isSave\": \"0\", \"descSnippet\": \"1.Web Scraping\\\\n2.Coding and developing based on requirement and spec\\\\n3.Syetem Testing\\\\n4.System trouble shooting and fixing bugs\\\\n5.System Monitoring to ensure system running smoothly and normal\\\\n6.Improve system stability and performance\\\\n7.Research new solution to increase development productivity\\\\n\", \"tags\": [\"員工20人\"], \"landmark\": \"\", \"link\": {\"applyAnalyze\": \"//www.104.com.tw/jobs/apply/analysis/71lx0?channel=104rpt&jobsource=apply_analyze\", \"job\": \"//www.104.com.tw/job/71lx0?jobsource=n104bank2\", \"cust\": \"//www.104.com.tw/company/7eyemf4?jobsource=n104bank2\"}, \"jobsource\": \"\", \"jobNameRaw\": \"Java/Python程式設計師\", \"custNameRaw\": \"美台華德科技股份有限公司\", \"lon\": \"121.6397184\", \"lat\": \"25.0616059\"}'"
      ]
     },
     "execution_count": 34,
     "metadata": {},
     "output_type": "execute_result"
    }
   ],
   "source": [
    "df['SEARCH_JOB_JSON'][0]"
   ]
  },
  {
   "cell_type": "code",
   "execution_count": 27,
   "metadata": {},
   "outputs": [],
   "source": [
    "j = {'data': ['\\\\u8edf\\\\u9ad4']}"
   ]
  },
  {
   "cell_type": "code",
   "execution_count": 21,
   "metadata": {},
   "outputs": [],
   "source": [
    "import json"
   ]
  },
  {
   "cell_type": "code",
   "execution_count": 22,
   "metadata": {},
   "outputs": [
    {
     "data": {
      "text/plain": [
       "'{\"data\": [\"\\\\\\\\u8edf\\\\\\\\u9ad4\"]}'"
      ]
     },
     "execution_count": 22,
     "metadata": {},
     "output_type": "execute_result"
    }
   ],
   "source": [
    "json.dumps(j, )"
   ]
  },
  {
   "cell_type": "code",
   "execution_count": null,
   "metadata": {},
   "outputs": [],
   "source": []
  },
  {
   "cell_type": "code",
   "execution_count": null,
   "metadata": {},
   "outputs": [],
   "source": []
  }
 ],
 "metadata": {
  "kernelspec": {
   "display_name": "Python 3",
   "language": "python",
   "name": "python3"
  },
  "language_info": {
   "codemirror_mode": {
    "name": "ipython",
    "version": 3
   },
   "file_extension": ".py",
   "mimetype": "text/x-python",
   "name": "python",
   "nbconvert_exporter": "python",
   "pygments_lexer": "ipython3",
   "version": "3.7.0"
  }
 },
 "nbformat": 4,
 "nbformat_minor": 2
}
