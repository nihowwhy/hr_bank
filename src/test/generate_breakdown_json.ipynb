{
 "cells": [
  {
   "cell_type": "code",
   "execution_count": 1,
   "metadata": {},
   "outputs": [],
   "source": [
    "import json\n",
    "from copy import deepcopy"
   ]
  },
  {
   "cell_type": "code",
   "execution_count": 2,
   "metadata": {},
   "outputs": [],
   "source": [
    "def generate_breakdown_dict(tree, d={}):\n",
    "    ''' According to a tree, generate child nodes for each node.\n",
    "    '''\n",
    "    d = deepcopy(d)\n",
    "    if 'n' in tree.keys():\n",
    "        root = tree.get('no', 'root')\n",
    "        nodes = []\n",
    "        for node in tree['n']:\n",
    "            nodes.append(node['no'])\n",
    "            if 'no' in node.keys():\n",
    "                d = generate_breakdown_dict(node, d)\n",
    "        d[root] = nodes    \n",
    "    return d"
   ]
  },
  {
   "cell_type": "markdown",
   "metadata": {},
   "source": [
    "# Area"
   ]
  },
  {
   "cell_type": "code",
   "execution_count": 3,
   "metadata": {},
   "outputs": [],
   "source": [
    "with open('jsonAreaRoot.txt', 'r') as f:\n",
    "    j = json.loads(f.read())\n",
    "    \n",
    "area_breakdown_dict = generate_breakdown_dict(j)\n",
    "area_breakdown_json = json.dumps(area_breakdown_dict, indent=2)"
   ]
  },
  {
   "cell_type": "code",
   "execution_count": 4,
   "metadata": {},
   "outputs": [],
   "source": [
    "with open('area_breakdown_json.txt', 'w', encoding='utf-8') as f:\n",
    "    f.write(area_breakdown_json)"
   ]
  },
  {
   "cell_type": "markdown",
   "metadata": {},
   "source": [
    "# Job Category"
   ]
  },
  {
   "cell_type": "code",
   "execution_count": 5,
   "metadata": {},
   "outputs": [],
   "source": [
    "with open('jsonJobCatRoot.txt', 'r') as f:\n",
    "    j = json.loads(f.read())\n",
    "    \n",
    "jobcat_breakdown_dict = generate_breakdown_dict(j)\n",
    "jobcat_breakdown_json = json.dumps(jobcat_breakdown_dict, indent=2)"
   ]
  },
  {
   "cell_type": "code",
   "execution_count": 6,
   "metadata": {},
   "outputs": [],
   "source": [
    "with open('jobcat_breakdown_json.txt', 'w', encoding='utf-8') as f:\n",
    "    f.write(jobcat_breakdown_json)"
   ]
  },
  {
   "cell_type": "markdown",
   "metadata": {},
   "source": [
    "# Industry Category"
   ]
  },
  {
   "cell_type": "code",
   "execution_count": 7,
   "metadata": {},
   "outputs": [],
   "source": [
    "with open('jsonIndustRoot.txt', 'r') as f:\n",
    "    j = json.loads(f.read())\n",
    "    \n",
    "indust_breakdown_dict = generate_breakdown_dict(j)\n",
    "indust_breakdown_json = json.dumps(indust_breakdown_dict, indent=2)"
   ]
  },
  {
   "cell_type": "code",
   "execution_count": 8,
   "metadata": {},
   "outputs": [],
   "source": [
    "with open('indust_breakdown_json.txt', 'w', encoding='utf-8') as f:\n",
    "    f.write(indust_breakdown_json)"
   ]
  },
  {
   "cell_type": "code",
   "execution_count": null,
   "metadata": {},
   "outputs": [],
   "source": []
  },
  {
   "cell_type": "code",
   "execution_count": null,
   "metadata": {},
   "outputs": [],
   "source": []
  }
 ],
 "metadata": {
  "kernelspec": {
   "display_name": "Python 3",
   "language": "python",
   "name": "python3"
  },
  "language_info": {
   "codemirror_mode": {
    "name": "ipython",
    "version": 3
   },
   "file_extension": ".py",
   "mimetype": "text/x-python",
   "name": "python",
   "nbconvert_exporter": "python",
   "pygments_lexer": "ipython3",
   "version": "3.7.0"
  }
 },
 "nbformat": 4,
 "nbformat_minor": 2
}
