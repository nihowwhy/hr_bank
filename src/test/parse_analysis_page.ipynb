{
 "cells": [
  {
   "cell_type": "code",
   "execution_count": 1,
   "metadata": {},
   "outputs": [],
   "source": [
    "import requests\n",
    "import re\n",
    "import unicodedata\n",
    "    \n",
    "    \n",
    "def join_list_of_dict_item(l: list, key: str):\n",
    "    ''' input:  l = [{\"name\": \"Ian\"}, {\"name\": \"Wang\"}]\n",
    "                key = 'name'\n",
    "        output: \"Ian、Wang\"\n",
    "    '''\n",
    "    dict_item_list = [d[key] for d in l]\n",
    "    return '、'.join(dict_item_list)\n",
    "\n",
    "\n",
    "def join_list_of_element(l: list) -> str:\n",
    "    ''' input:  [\"A\", \"B\", \"C\"]\n",
    "        output: \"A、B、C\"\n",
    "    '''\n",
    "    return '、'.join(l)\n",
    "\n",
    "\n",
    "\n",
    "def convert_full_width_to_half_width(text: str) -> str:\n",
    "    ''' convert full-width character to half-width one, such as \"Ａ\" to \"A\"\n",
    "    '''\n",
    "    text = unicodedata.normalize('NFKC', text)\n",
    "    return text\n",
    "\n",
    "\n",
    "def remove_unicode_text(text: str) -> str:\n",
    "    text = text.replace('\\xa0', '')\n",
    "    text = text.replace('\\u3000', '')\n",
    "    text = text.replace('\\r', '')\n",
    "    return text\n",
    "\n",
    "\n",
    "def remove_extra_newline(text: str) -> str:\n",
    "    text = re.sub('\\n+', '\\n', text)\n",
    "    return text\n",
    "\n",
    "    \n",
    "def clean_text(text: str) -> str:\n",
    "    text = convert_full_width_to_half_width(text)\n",
    "    text = remove_unicode_text(text)\n",
    "    text = remove_extra_newline(text)\n",
    "    return text\n",
    "    "
   ]
  },
  {
   "cell_type": "code",
   "execution_count": 2,
   "metadata": {},
   "outputs": [
    {
     "data": {
      "text/plain": [
       "'https://www.104.com.tw/jb/104i/applyAnalysisToJob/all?job_no=11211417'"
      ]
     },
     "execution_count": 2,
     "metadata": {},
     "output_type": "execute_result"
    }
   ],
   "source": [
    "job_no = '11211417'\n",
    "url = 'https://www.104.com.tw/jb/104i/applyAnalysisToJob/all?job_no={}'.format(job_no)\n",
    "url"
   ]
  },
  {
   "cell_type": "code",
   "execution_count": 3,
   "metadata": {},
   "outputs": [],
   "source": [
    "headers = {\n",
    "    'Referer': url\n",
    "}"
   ]
  },
  {
   "cell_type": "code",
   "execution_count": 4,
   "metadata": {},
   "outputs": [
    {
     "data": {
      "text/plain": [
       "<Response [200]>"
      ]
     },
     "execution_count": 4,
     "metadata": {},
     "output_type": "execute_result"
    }
   ],
   "source": [
    "response = requests.get(url, headers=headers)\n",
    "response"
   ]
  },
  {
   "cell_type": "code",
   "execution_count": 5,
   "metadata": {},
   "outputs": [],
   "source": [
    "import json\n",
    "j = json.loads(clean_text(response.text))"
   ]
  },
  {
   "cell_type": "code",
   "execution_count": 6,
   "metadata": {},
   "outputs": [
    {
     "data": {
      "text/plain": [
       "{'sex': {'0': {'sexName': '男', 'count': '2', 'percent': '66.67'},\n",
       "  '1': {'sexName': '女', 'count': '1', 'percent': '33.33'},\n",
       "  'update_time': '2021-07-08 02:02:07',\n",
       "  'total': '3'},\n",
       " 'edu': {'0': {'eduName': '博碩士', 'count': '1', 'percent': '33.33'},\n",
       "  '1': {'eduName': '大學', 'count': '1', 'percent': '33.33'},\n",
       "  '2': {'eduName': '專科', 'count': 0, 'percent': '0.00'},\n",
       "  '3': {'eduName': '高中職', 'count': 0, 'percent': '0.00'},\n",
       "  '4': {'eduName': '國中(含)以下', 'count': 0, 'percent': '0.00'},\n",
       "  '5': {'eduName': '不拘', 'count': 0, 'percent': '0.00'},\n",
       "  '6': {'eduName': '無法判斷', 'count': 1, 'percent': '33.33'},\n",
       "  'update_time': '2021-07-08 02:02:07',\n",
       "  'total': '3'},\n",
       " 'yearRange': {'0': {'yearRangeName': '20歲以下',\n",
       "   'count': '1',\n",
       "   'percent': '33.33'},\n",
       "  '1': {'yearRangeName': '21~25歲', 'count': '1', 'percent': '33.33'},\n",
       "  '2': {'yearRangeName': '26~30歲', 'count': 0, 'percent': '0.00'},\n",
       "  '3': {'yearRangeName': '31~35歲', 'count': 0, 'percent': '0.00'},\n",
       "  '4': {'yearRangeName': '36~40歲', 'count': 0, 'percent': '0.00'},\n",
       "  '5': {'yearRangeName': '41~45歲', 'count': 0, 'percent': '0.00'},\n",
       "  '6': {'yearRangeName': '46~50歲', 'count': '1', 'percent': '33.33'},\n",
       "  '7': {'yearRangeName': '51~55歲', 'count': 0, 'percent': '0.00'},\n",
       "  '8': {'yearRangeName': '56~60歲', 'count': 0, 'percent': '0.00'},\n",
       "  '9': {'yearRangeName': '60歲以上', 'count': 0, 'percent': '0.00'},\n",
       "  'update_time': '2021-07-08 02:02:07',\n",
       "  'total': '3'},\n",
       " 'exp': {'0': {'expName': '無工作經驗', 'count': 0, 'percent': '0.00'},\n",
       "  '1': {'expName': '1年以下', 'count': 0, 'percent': '0.00'},\n",
       "  '2': {'expName': '1~3年 ', 'count': '2', 'percent': '66.67'},\n",
       "  '3': {'expName': '3~5年', 'count': 0, 'percent': '0.00'},\n",
       "  '4': {'expName': '5~10年', 'count': 0, 'percent': '0.00'},\n",
       "  '5': {'expName': '10~15年', 'count': 0, 'percent': '0.00'},\n",
       "  '6': {'expName': '15~20年', 'count': '1', 'percent': '33.33'},\n",
       "  '7': {'expName': '20~25年', 'count': 0, 'percent': '0.00'},\n",
       "  '8': {'expName': '25年以上', 'count': 0, 'percent': '0.00'},\n",
       "  'update_time': '2021-07-08 02:02:07',\n",
       "  'total': '3'},\n",
       " 'language': {'update_time': '2021-07-08 02:02:07',\n",
       "  'total': '3',\n",
       "  '0': {'lang_no': '1',\n",
       "   'langName': '英文',\n",
       "   'count': 2,\n",
       "   'percent': 66.66,\n",
       "   'level': {'3': {'level_no': '2',\n",
       "     'levelName': '精通',\n",
       "     'count': '1',\n",
       "     'percent': '33.33'},\n",
       "    '2': {'level_no': '8',\n",
       "     'levelName': '中等',\n",
       "     'count': '1',\n",
       "     'percent': '33.33'}}},\n",
       "  '1': {'lang_no': '4',\n",
       "   'langName': '德文',\n",
       "   'count': 1,\n",
       "   'percent': 33.33,\n",
       "   'level': {'1': {'level_no': '4',\n",
       "     'levelName': '略懂',\n",
       "     'count': '1',\n",
       "     'percent': '33.33'}}},\n",
       "  '2': {'lang_no': '3',\n",
       "   'langName': '法文',\n",
       "   'count': 1,\n",
       "   'percent': 33.33,\n",
       "   'level': {'1': {'level_no': '4',\n",
       "     'levelName': '略懂',\n",
       "     'count': '1',\n",
       "     'percent': '33.33'}}}},\n",
       " 'major': {'update_time': '2021-07-08 02:02:07',\n",
       "  'total': '3',\n",
       "  '0': {'major': '3002001000',\n",
       "   'majorName': '美術學相關',\n",
       "   'count': '1',\n",
       "   'percent': '33.33'},\n",
       "  '1': {'major': '3006006000',\n",
       "   'majorName': '企業管理相關',\n",
       "   'count': '1',\n",
       "   'percent': '33.33'}},\n",
       " 'skill': {'update_time': '2021-07-08 02:02:07',\n",
       "  'total': '3',\n",
       "  '0': {'skill': '12002001012',\n",
       "   'skillName': 'Games',\n",
       "   'count': '1',\n",
       "   'percent': '33.33'},\n",
       "  '1': {'skill': '12002001036',\n",
       "   'skillName': '3ds Max Design',\n",
       "   'count': '1',\n",
       "   'percent': '33.33'},\n",
       "  '2': {'skill': '12002001037',\n",
       "   'skillName': 'Unity3D',\n",
       "   'count': '1',\n",
       "   'percent': '33.33'},\n",
       "  '3': {'skill': '12002001019',\n",
       "   'skillName': 'MAYA',\n",
       "   'count': '1',\n",
       "   'percent': '33.33'},\n",
       "  '4': {'skill': '12001001009',\n",
       "   'skillName': 'Mac/Macintosh',\n",
       "   'count': '1',\n",
       "   'percent': '33.33'},\n",
       "  '5': {'skill': '12002001001',\n",
       "   'skillName': '3ds Max',\n",
       "   'count': '1',\n",
       "   'percent': '33.33'},\n",
       "  '6': {'skill': '12006001008',\n",
       "   'skillName': 'Oracle ERP',\n",
       "   'count': '1',\n",
       "   'percent': '33.33'},\n",
       "  '7': {'skill': '12003005011',\n",
       "   'skillName': 'SPSS',\n",
       "   'count': '1',\n",
       "   'percent': '33.33'},\n",
       "  '8': {'skill': '12001008015',\n",
       "   'skillName': 'Visio',\n",
       "   'count': '1',\n",
       "   'percent': '33.33'},\n",
       "  '9': {'skill': '12002001002',\n",
       "   'skillName': 'After Effects',\n",
       "   'count': '1',\n",
       "   'percent': '33.33'}},\n",
       " 'cert': {'update_time': '2021-07-08 02:02:07',\n",
       "  'total': '3',\n",
       "  '0': {'cert': '4010001039',\n",
       "   'certName': '3ds Max - 建模動畫國際認證',\n",
       "   'count': '1',\n",
       "   'percent': '33.33'},\n",
       "  '1': {'cert': '4010001031',\n",
       "   'certName': 'TQC-IP-影像處理Photoshop-實用級PT1',\n",
       "   'count': '1',\n",
       "   'percent': '33.33'},\n",
       "  '2': {'cert': '4010001002',\n",
       "   'certName': 'Illustrator',\n",
       "   'count': '1',\n",
       "   'percent': '33.33'},\n",
       "  '3': {'cert': '4002037001',\n",
       "   'certName': '丙級電腦軟體設計技術士',\n",
       "   'count': '1',\n",
       "   'percent': '33.33'}}}"
      ]
     },
     "execution_count": 6,
     "metadata": {},
     "output_type": "execute_result"
    }
   ],
   "source": [
    "item = {}\n",
    "item['analysis_page'] = j\n",
    "item['analysis_page']"
   ]
  },
  {
   "cell_type": "code",
   "execution_count": 7,
   "metadata": {},
   "outputs": [
    {
     "data": {
      "text/plain": [
       "'{\"0\": {\"sexName\": \"男\", \"count\": \"2\", \"percent\": \"66.67\"}, \"1\": {\"sexName\": \"女\", \"count\": \"1\", \"percent\": \"33.33\"}, \"update_time\": \"2021-07-08 02:02:07\", \"total\": \"3\"}'"
      ]
     },
     "execution_count": 7,
     "metadata": {},
     "output_type": "execute_result"
    }
   ],
   "source": [
    "json.dumps(item['analysis_page']['sex'], ensure_ascii=False)"
   ]
  },
  {
   "cell_type": "code",
   "execution_count": 8,
   "metadata": {
    "scrolled": false
   },
   "outputs": [
    {
     "ename": "NameError",
     "evalue": "name 'get_update_date' is not defined",
     "output_type": "error",
     "traceback": [
      "\u001b[0;31m---------------------------------------------------------------------------\u001b[0m",
      "\u001b[0;31mNameError\u001b[0m                                 Traceback (most recent call last)",
      "\u001b[0;32m<ipython-input-8-bd1fcdd50cca>\u001b[0m in \u001b[0;36m<module>\u001b[0;34m()\u001b[0m\n\u001b[1;32m      2\u001b[0m \u001b[0;34m\u001b[0m\u001b[0m\n\u001b[1;32m      3\u001b[0m \u001b[0;31m# 更新日期\u001b[0m\u001b[0;34m\u001b[0m\u001b[0;34m\u001b[0m\u001b[0m\n\u001b[0;32m----> 4\u001b[0;31m \u001b[0mparsed_item\u001b[0m\u001b[0;34m[\u001b[0m\u001b[0;34m'update_date'\u001b[0m\u001b[0;34m]\u001b[0m \u001b[0;34m=\u001b[0m \u001b[0mget_update_date\u001b[0m\u001b[0;34m(\u001b[0m\u001b[0mitem\u001b[0m\u001b[0;34m[\u001b[0m\u001b[0;34m'analysis_page'\u001b[0m\u001b[0;34m]\u001b[0m\u001b[0;34m[\u001b[0m\u001b[0;34m'sex'\u001b[0m\u001b[0;34m]\u001b[0m\u001b[0;34m[\u001b[0m\u001b[0;34m'update_time'\u001b[0m\u001b[0;34m]\u001b[0m\u001b[0;34m)\u001b[0m\u001b[0;34m\u001b[0m\u001b[0m\n\u001b[0m\u001b[1;32m      5\u001b[0m \u001b[0;34m\u001b[0m\u001b[0m\n\u001b[1;32m      6\u001b[0m \u001b[0;31m# 性別json\u001b[0m\u001b[0;34m\u001b[0m\u001b[0;34m\u001b[0m\u001b[0m\n",
      "\u001b[0;31mNameError\u001b[0m: name 'get_update_date' is not defined"
     ]
    }
   ],
   "source": [
    "parsed_item = {}\n",
    "\n",
    "# 更新日期\n",
    "parsed_item['update_date'] = get_update_date(item['analysis_page']['sex']['update_time'])\n",
    "\n",
    "# 性別json\n",
    "parsed_item['sex_json'] = item['analysis_page']['sex']\n",
    "\n",
    "# 學歷json\n",
    "parsed_item['edu_json'] = item['analysis_page']['edu']\n",
    "\n",
    "# 年齡json\n",
    "parsed_item['age_json'] = item['analysis_page']['yearRange']\n",
    "\n",
    "# 工作經驗json\n",
    "parsed_item['work_exp_json'] = item['analysis_page']['exp']\n",
    "\n",
    "# 語言json\n",
    "parsed_item['lang_json'] = item['analysis_page']['language']\n",
    "\n",
    "# 科系json\n",
    "parsed_item['major_json'] = item['analysis_page']['major']\n",
    "\n",
    "# 技能json\n",
    "parsed_item['skill_json'] = item['analysis_page']['skill']\n",
    "\n",
    "# 證照json\n",
    "parsed_item['cert_json'] = item['analysis_page']['cert']\n",
    "\n",
    "parsed_item"
   ]
  },
  {
   "cell_type": "code",
   "execution_count": null,
   "metadata": {},
   "outputs": [],
   "source": [
    "def get_update_date(update_time_string):\n",
    "    update_date = ''.join(re.findall('\\d+', update_time_string[:10]))\n",
    "    return int(update_date)\n",
    "\n",
    "get_update_date('2021-07-04 02:00:27')\n"
   ]
  },
  {
   "cell_type": "markdown",
   "metadata": {},
   "source": [
    "# analysis json"
   ]
  },
  {
   "cell_type": "code",
   "execution_count": 62,
   "metadata": {},
   "outputs": [
    {
     "data": {
      "text/plain": [
       "{'0': {'sexName': '男', 'count': '3', 'percent': '42.86'},\n",
       " '1': {'sexName': '女', 'count': '4', 'percent': '57.14'},\n",
       " 'update_time': '2021-07-09 02:04:31',\n",
       " 'total': '7'}"
      ]
     },
     "execution_count": 62,
     "metadata": {},
     "output_type": "execute_result"
    }
   ],
   "source": [
    "sex = {\"0\": {\"sexName\": \"男\", \"count\": \"3\", \"percent\": \"42.86\"}, \"1\": {\"sexName\": \"女\", \"count\": \"4\", \"percent\": \"57.14\"}, \"update_time\": \"2021-07-09 02:04:31\", \"total\": \"7\"}\n",
    "edu = {\"0\": {\"eduName\": \"博碩士\", \"count\": 0, \"percent\": \"0.00\"}, \"1\": {\"eduName\": \"大學\", \"count\": \"2\", \"percent\": \"28.57\"}, \"2\": {\"eduName\": \"專科\", \"count\": \"1\", \"percent\": \"14.29\"}, \"3\": {\"eduName\": \"高中職\", \"count\": \"2\", \"percent\": \"28.57\"}, \"4\": {\"eduName\": \"國中(含)以下\", \"count\": 0, \"percent\": \"0.00\"}, \"5\": {\"eduName\": \"不拘\", \"count\": 0, \"percent\": \"0.00\"}, \"6\": {\"eduName\": \"無法判斷\", \"count\": 2, \"percent\": \"28.57\"}, \"update_time\": \"2021-07-09 02:04:31\", \"total\": \"7\"}\n",
    "age = {\"0\": {\"yearRangeName\": \"20歲以下\", \"count\": \"2\", \"percent\": \"28.57\"}, \"1\": {\"yearRangeName\": \"21~25歲\", \"count\": \"3\", \"percent\": \"42.86\"}, \"2\": {\"yearRangeName\": \"26~30歲\", \"count\": 0, \"percent\": \"0.00\"}, \"3\": {\"yearRangeName\": \"31~35歲\", \"count\": 0, \"percent\": \"0.00\"}, \"4\": {\"yearRangeName\": \"36~40歲\", \"count\": 0, \"percent\": \"0.00\"}, \"5\": {\"yearRangeName\": \"41~45歲\", \"count\": 0, \"percent\": \"0.00\"}, \"6\": {\"yearRangeName\": \"46~50歲\", \"count\": \"1\", \"percent\": \"14.29\"}, \"7\": {\"yearRangeName\": \"51~55歲\", \"count\": \"1\", \"percent\": \"14.29\"}, \"8\": {\"yearRangeName\": \"56~60歲\", \"count\": 0, \"percent\": \"0.00\"}, \"9\": {\"yearRangeName\": \"60歲以上\", \"count\": 0, \"percent\": \"0.00\"}, \"update_time\": \"2021-07-09 02:04:31\", \"total\": \"7\"}\n",
    "work_exp = {\"0\": {\"expName\": \"無工作經驗\", \"count\": \"1\", \"percent\": \"14.29\"}, \"1\": {\"expName\": \"1年以下\", \"count\": \"1\", \"percent\": \"14.29\"}, \"2\": {\"expName\": \"1~3年 \", \"count\": \"2\", \"percent\": \"28.57\"}, \"3\": {\"expName\": \"3~5年\", \"count\": \"1\", \"percent\": \"14.29\"}, \"4\": {\"expName\": \"5~10年\", \"count\": \"1\", \"percent\": \"14.29\"}, \"5\": {\"expName\": \"10~15年\", \"count\": 0, \"percent\": \"0.00\"}, \"6\": {\"expName\": \"15~20年\", \"count\": 0, \"percent\": \"0.00\"}, \"7\": {\"expName\": \"20~25年\", \"count\": \"1\", \"percent\": \"14.29\"}, \"8\": {\"expName\": \"25年以上\", \"count\": 0, \"percent\": \"0.00\"}, \"update_time\": \"2021-07-09 02:04:31\", \"total\": \"7\"}\n",
    "lang = {\"update_time\": \"2021-07-09 02:04:31\", \"total\": \"11\", \"0\": {\"lang_no\": \"2\", \"langName\": \"日文\", \"count\": 2, \"percent\": 18.18, \"level\": {\"1\": {\"level_no\": \"4\", \"levelName\": \"略懂\", \"count\": \"2\", \"percent\": \"18.18\"}}}, \"1\": {\"lang_no\": \"18\", \"langName\": \"中文\", \"count\": 2, \"percent\": 18.18, \"level\": {\"3\": {\"level_no\": \"2\", \"levelName\": \"精通\", \"count\": \"2\", \"percent\": \"18.18\"}}}, \"2\": {\"lang_no\": \"1\", \"langName\": \"英文\", \"count\": 4, \"percent\": 36.36, \"level\": {\"1\": {\"level_no\": \"4\", \"levelName\": \"略懂\", \"count\": \"2\", \"percent\": \"18.18\"}, \"2\": {\"level_no\": \"8\", \"levelName\": \"中等\", \"count\": \"2\", \"percent\": \"18.18\"}}}}\n",
    "major = {\"update_time\": \"2021-07-09 02:04:31\", \"total\": \"7\", \"0\": {\"major\": \"3018001000\", \"majorName\": \"普通科\", \"count\": \"2\", \"percent\": \"28.57\"}, \"1\": {\"major\": \"3006001000\", \"majorName\": \"一般商業學類\", \"count\": \"1\", \"percent\": \"14.29\"}, \"2\": {\"major\": \"3006003000\", \"majorName\": \"會計學相關\", \"count\": \"1\", \"percent\": \"14.29\"}, \"3\": {\"major\": \"3006010000\", \"majorName\": \"國際貿易相關\", \"count\": \"1\", \"percent\": \"14.29\"}}\n",
    "skill = {\"update_time\": \"2021-07-09 02:04:31\", \"total\": \"7\", \"0\": {\"skill\": \"12001001003\", \"skillName\": \"DOS\", \"count\": \"1\", \"percent\": \"14.29\"}, \"1\": {\"skill\": \"12001004030\", \"skillName\": \"Access\", \"count\": \"1\", \"percent\": \"14.29\"}, \"2\": {\"skill\": \"12001010002\", \"skillName\": \"中文打字20~50\", \"count\": \"2\", \"percent\": \"28.57\"}, \"3\": {\"skill\": \"12001001035\", \"skillName\": \"Windows 98\", \"count\": \"1\", \"percent\": \"14.29\"}, \"4\": {\"skill\": \"12001001032\", \"skillName\": \"Windows 2000\", \"count\": \"1\", \"percent\": \"14.29\"}, \"5\": {\"skill\": \"12001010009\", \"skillName\": \"英文打字20~50\", \"count\": \"1\", \"percent\": \"14.29\"}, \"6\": {\"skill\": \"12001010003\", \"skillName\": \"中文打字50~75\", \"count\": \"1\", \"percent\": \"14.29\"}, \"7\": {\"skill\": \"12002002001\", \"skillName\": \"Adobe Photoshop\", \"count\": \"1\", \"percent\": \"14.29\"}, \"8\": {\"skill\": \"12001008011\", \"skillName\": \"Outlook\", \"count\": \"1\", \"percent\": \"14.29\"}, \"9\": {\"skill\": \"12001008012\", \"skillName\": \"PowerPoint\", \"count\": \"3\", \"percent\": \"42.86\"}}\n",
    "cert = {\"update_time\": \"2021-07-09 02:04:31\", \"total\": \"7\", \"0\": {\"cert\": \"4005002017\", \"certName\": \"丙級電腦輔助建築製圖技術士\", \"count\": \"1\", \"percent\": \"14.29\"}, \"1\": {\"cert\": \"4005002006\", \"certName\": \"丙級測量技術士\", \"count\": \"1\", \"percent\": \"14.29\"}, \"2\": {\"cert\": \"4006001038\", \"certName\": \"會計能力測驗三級合格證書\", \"count\": \"1\", \"percent\": \"14.29\"}, \"3\": {\"cert\": \"4006003010\", \"certName\": \"證券商業務員\", \"count\": \"1\", \"percent\": \"14.29\"}, \"4\": {\"cert\": \"4014003004\", \"certName\": \"CPR證照\", \"count\": \"1\", \"percent\": \"14.29\"}, \"5\": {\"cert\": \"4009002005\", \"certName\": \"丙級中餐烹調技術士\", \"count\": \"1\", \"percent\": \"14.29\"}, \"6\": {\"cert\": \"4006002018\", \"certName\": \"人身保險業務員\", \"count\": \"1\", \"percent\": \"14.29\"}, \"7\": {\"cert\": \"4001001005\", \"certName\": \"TOEIC (多益測驗)\", \"count\": \"1\", \"percent\": \"14.29\"}}\n",
    "\n",
    "sex"
   ]
  },
  {
   "cell_type": "code",
   "execution_count": 66,
   "metadata": {},
   "outputs": [
    {
     "data": {
      "text/plain": [
       "{0: {'男': 3}, 1: {'女': 4}}"
      ]
     },
     "execution_count": 66,
     "metadata": {},
     "output_type": "execute_result"
    }
   ],
   "source": [
    "def format_basic_analysis_dict(analysis_dict):\n",
    "    ''' format sample: {0: {'男': 3}, 1: {'女': 4}}\n",
    "    '''\n",
    "    sequence_num = 0\n",
    "    formatted_analysis_dict = {}\n",
    "    for serial, record in analysis_dict.items():\n",
    "        if not serial.isdigit():\n",
    "            continue\n",
    "        \n",
    "        has_record_value = False\n",
    "        for record_name, record_value in record.items():\n",
    "            if 'Name' in record_name:\n",
    "                record_name_desc = record_value\n",
    "            elif 'count' in record_name:\n",
    "                record_count = int(record_value)\n",
    "                has_record_value = True\n",
    "                formatted_analysis_dict[sequence_num] = {}\n",
    "        \n",
    "        if has_record_value:\n",
    "            formatted_analysis_dict[sequence_num][record_name_desc] = record_count\n",
    "            sequence_num += 1\n",
    "        \n",
    "    return formatted_analysis_dict\n",
    "\n",
    "                \n",
    "format_basic_analysis_dict(sex) # sex, edu, age, work_exp"
   ]
  },
  {
   "cell_type": "code",
   "execution_count": 65,
   "metadata": {},
   "outputs": [
    {
     "data": {
      "text/plain": [
       "{0: {'3018001000': 2, '普通科': 2},\n",
       " 1: {'3006001000': 1, '一般商業學類': 1},\n",
       " 2: {'3006003000': 1, '會計學相關': 1},\n",
       " 3: {'3006010000': 1, '國際貿易相關': 1}}"
      ]
     },
     "execution_count": 65,
     "metadata": {},
     "output_type": "execute_result"
    }
   ],
   "source": [
    "def format_option_analysis_dict(analysis_dict, analysis_type):\n",
    "    ''' format sample: {0: {'3018001000': 2, '普通科': 2}, 1: {'3006001000': 1, '一般商業學類': 1}}\n",
    "    '''\n",
    "    sequence_num = 0\n",
    "    formatted_analysis_dict = {}\n",
    "    for serial, record in analysis_dict.items():\n",
    "        if not serial.isdigit():\n",
    "            continue\n",
    "        \n",
    "        has_record_value = False\n",
    "        for record_name, record_value in record.items():\n",
    "            if analysis_type == record_name:\n",
    "                record_name_no = record_value\n",
    "            elif 'Name' in record_name:\n",
    "                record_name_desc = record_value\n",
    "            elif 'count' in record_name:\n",
    "                record_count = int(record_value)\n",
    "                has_record_value = True\n",
    "                formatted_analysis_dict[sequence_num] = {}\n",
    "        \n",
    "        if has_record_value:\n",
    "            formatted_analysis_dict[sequence_num][record_name_no] = record_count\n",
    "            formatted_analysis_dict[sequence_num][record_name_desc] = record_count\n",
    "            sequence_num += 1\n",
    "        \n",
    "    return formatted_analysis_dict\n",
    "\n",
    "format_option_analysis_dict(major, 'major') # major, skill, cert"
   ]
  },
  {
   "cell_type": "code",
   "execution_count": 67,
   "metadata": {},
   "outputs": [
    {
     "name": "stdout",
     "output_type": "stream",
     "text": [
      "{'update_time': '2021-07-09 02:04:31', 'total': '11', '0': {'lang_no': '2', 'langName': '日文', 'count': 2, 'percent': 18.18, 'level': {'1': {'level_no': '4', 'levelName': '略懂', 'count': '2', 'percent': '18.18'}}}, '1': {'lang_no': '18', 'langName': '中文', 'count': 2, 'percent': 18.18, 'level': {'3': {'level_no': '2', 'levelName': '精通', 'count': '2', 'percent': '18.18'}}}, '2': {'lang_no': '1', 'langName': '英文', 'count': 4, 'percent': 36.36, 'level': {'1': {'level_no': '4', 'levelName': '略懂', 'count': '2', 'percent': '18.18'}, '2': {'level_no': '8', 'levelName': '中等', 'count': '2', 'percent': '18.18'}}}}\n",
      "\n"
     ]
    },
    {
     "data": {
      "text/plain": [
       "{0: {'中文': 2}}"
      ]
     },
     "execution_count": 67,
     "metadata": {},
     "output_type": "execute_result"
    }
   ],
   "source": [
    "def format_language_analysis_dict(analysis_dict):\n",
    "    ''' format sample: {0: {'中文': 2}}\n",
    "    Only if level is up to \"精通\", then add the language to the dictionary.\n",
    "    '''\n",
    "    sequence_num = 0\n",
    "    formatted_analysis_dict = {}\n",
    "    for serial, record in analysis_dict.items():\n",
    "        if not serial.isdigit():\n",
    "            continue\n",
    "        \n",
    "        has_record_value = False\n",
    "        for record_name, record_value in record.items():\n",
    "            if 'Name' in record_name:\n",
    "                record_name_desc = record_value\n",
    "            elif 'count' in record_name:\n",
    "                record_count = int(record_value)\n",
    "            elif 'level' in record_name:\n",
    "                if '精通' in str(record_value):\n",
    "                    has_record_value = True\n",
    "                    formatted_analysis_dict[sequence_num] = {}\n",
    "                    \n",
    "        if has_record_value:\n",
    "            formatted_analysis_dict[sequence_num][record_name_desc] = record_count\n",
    "            sequence_num += 1\n",
    "        \n",
    "    return formatted_analysis_dict\n",
    "\n",
    "print(lang)\n",
    "print()\n",
    "format_language_analysis_dict(lang)\n"
   ]
  },
  {
   "cell_type": "code",
   "execution_count": null,
   "metadata": {},
   "outputs": [],
   "source": []
  },
  {
   "cell_type": "code",
   "execution_count": null,
   "metadata": {},
   "outputs": [],
   "source": []
  }
 ],
 "metadata": {
  "kernelspec": {
   "display_name": "Python 3",
   "language": "python",
   "name": "python3"
  },
  "language_info": {
   "codemirror_mode": {
    "name": "ipython",
    "version": 3
   },
   "file_extension": ".py",
   "mimetype": "text/x-python",
   "name": "python",
   "nbconvert_exporter": "python",
   "pygments_lexer": "ipython3",
   "version": "3.7.0"
  }
 },
 "nbformat": 4,
 "nbformat_minor": 2
}
